{
  "nbformat": 4,
  "nbformat_minor": 0,
  "metadata": {
    "colab": {
      "provenance": []
    },
    "kernelspec": {
      "name": "python3",
      "display_name": "Python 3"
    },
    "language_info": {
      "name": "python"
    }
  },
  "cells": [
    {
      "cell_type": "code",
      "execution_count": 42,
      "metadata": {
        "id": "tcRyx3wWZZud"
      },
      "outputs": [],
      "source": [
        "import numpy as np\n",
        "import pandas as pd\n",
        "import difflib\n",
        "from sklearn.feature_extraction.text import TfidfVectorizer\n",
        "from sklearn.metrics.pairwise import cosine_similarity"
      ]
    },
    {
      "cell_type": "code",
      "source": [
        "# loading the data from the csv file to apandas dataframe\n",
        "movies_data = pd.read_csv('/content/Hydra-Movie-Scrape.csv')\n",
        "# printing the first 5 rows of the dataframe\n",
        "movies_data.head()"
      ],
      "metadata": {
        "colab": {
          "base_uri": "https://localhost:8080/",
          "height": 712
        },
        "id": "O4wbW6S3Zkix",
        "outputId": "4c7d9a82-76b3-4809-c1cc-b1aeabc4a803"
      },
      "execution_count": 43,
      "outputs": [
        {
          "output_type": "execute_result",
          "data": {
            "text/plain": [
              "                                               Title  Year  \\\n",
              "0                        Patton Oswalt: Annihilation  2017   \n",
              "1                                      New York Doll  2005   \n",
              "2  Mickey's Magical Christmas: Snowed in at the H...  2001   \n",
              "3                         Mickey's House of Villains  2001   \n",
              "4                                      And Then I Go  2017   \n",
              "\n",
              "                                             Summary  \\\n",
              "0  Patton Oswald, despite a personal tragedy, pro...   \n",
              "1  A recovering alcoholic and recently converted ...   \n",
              "2  After everyone is snowed in at the House of Mo...   \n",
              "3  The villains from the popular animated Disney ...   \n",
              "4  In the cruel world of junior high, Edwin suffe...   \n",
              "\n",
              "                                       Short Summary  \\\n",
              "0  Patton Oswalt, despite a personal tragedy, pro...   \n",
              "1  A recovering alcoholic and recently converted ...   \n",
              "2  Mickey and all his friends hold their own Chri...   \n",
              "3  The villains from the popular animated Disney ...   \n",
              "4  In the cruel world of junior high, Edwin suffe...   \n",
              "\n",
              "                                      Genres    IMDB ID  Runtime  \\\n",
              "0                              Uncategorized  tt7026230     66.0   \n",
              "1                          Documentary|Music  tt0436629     75.0   \n",
              "2  Adventure|Animation|Comedy|Family|Fantasy  tt0300195     65.0   \n",
              "3     Animation|Comedy|Family|Fantasy|Horror  tt0329374      0.0   \n",
              "4                                      Drama  tt2018111     99.0   \n",
              "\n",
              "  YouTube Trailer  Rating                                       Movie Poster  \\\n",
              "0     4hZi5QaMBFc     7.4  https://hydramovies.com/wp-content/uploads/201...   \n",
              "1     jwD04NsnLLg     7.9  https://hydramovies.com/wp-content/uploads/201...   \n",
              "2     uCKwHHftrU4     6.8  https://hydramovies.com/wp-content/uploads/201...   \n",
              "3     JA03ciYt-Ek     6.6  https://hydramovies.com/wp-content/uploads/201...   \n",
              "4     8CdIiD6-iF0     7.6  https://hydramovies.com/wp-content/uploads/201...   \n",
              "\n",
              "            Director        Writers                            Cast  \n",
              "0  Bobcat Goldthwait  Patton Oswalt                   Patton Oswalt  \n",
              "1      Greg Whiteley    Arthur Kane                 Sylvain Sylvain  \n",
              "2         Tony Craig    Thomas Hart  Carlos Alazraqui|Wayne Allwine  \n",
              "3     Jamie Mitchell    Thomas Hart      Tony Anselmo|Wayne Allwine  \n",
              "4    Vincent Grashaw    Brett Haley        Arman Darbo|Sawyer Barth  "
            ],
            "text/html": [
              "\n",
              "  <div id=\"df-8b9b1d44-6b2e-4568-ab8a-c78c05dc7d1f\" class=\"colab-df-container\">\n",
              "    <div>\n",
              "<style scoped>\n",
              "    .dataframe tbody tr th:only-of-type {\n",
              "        vertical-align: middle;\n",
              "    }\n",
              "\n",
              "    .dataframe tbody tr th {\n",
              "        vertical-align: top;\n",
              "    }\n",
              "\n",
              "    .dataframe thead th {\n",
              "        text-align: right;\n",
              "    }\n",
              "</style>\n",
              "<table border=\"1\" class=\"dataframe\">\n",
              "  <thead>\n",
              "    <tr style=\"text-align: right;\">\n",
              "      <th></th>\n",
              "      <th>Title</th>\n",
              "      <th>Year</th>\n",
              "      <th>Summary</th>\n",
              "      <th>Short Summary</th>\n",
              "      <th>Genres</th>\n",
              "      <th>IMDB ID</th>\n",
              "      <th>Runtime</th>\n",
              "      <th>YouTube Trailer</th>\n",
              "      <th>Rating</th>\n",
              "      <th>Movie Poster</th>\n",
              "      <th>Director</th>\n",
              "      <th>Writers</th>\n",
              "      <th>Cast</th>\n",
              "    </tr>\n",
              "  </thead>\n",
              "  <tbody>\n",
              "    <tr>\n",
              "      <th>0</th>\n",
              "      <td>Patton Oswalt: Annihilation</td>\n",
              "      <td>2017</td>\n",
              "      <td>Patton Oswald, despite a personal tragedy, pro...</td>\n",
              "      <td>Patton Oswalt, despite a personal tragedy, pro...</td>\n",
              "      <td>Uncategorized</td>\n",
              "      <td>tt7026230</td>\n",
              "      <td>66.0</td>\n",
              "      <td>4hZi5QaMBFc</td>\n",
              "      <td>7.4</td>\n",
              "      <td>https://hydramovies.com/wp-content/uploads/201...</td>\n",
              "      <td>Bobcat Goldthwait</td>\n",
              "      <td>Patton Oswalt</td>\n",
              "      <td>Patton Oswalt</td>\n",
              "    </tr>\n",
              "    <tr>\n",
              "      <th>1</th>\n",
              "      <td>New York Doll</td>\n",
              "      <td>2005</td>\n",
              "      <td>A recovering alcoholic and recently converted ...</td>\n",
              "      <td>A recovering alcoholic and recently converted ...</td>\n",
              "      <td>Documentary|Music</td>\n",
              "      <td>tt0436629</td>\n",
              "      <td>75.0</td>\n",
              "      <td>jwD04NsnLLg</td>\n",
              "      <td>7.9</td>\n",
              "      <td>https://hydramovies.com/wp-content/uploads/201...</td>\n",
              "      <td>Greg Whiteley</td>\n",
              "      <td>Arthur Kane</td>\n",
              "      <td>Sylvain Sylvain</td>\n",
              "    </tr>\n",
              "    <tr>\n",
              "      <th>2</th>\n",
              "      <td>Mickey's Magical Christmas: Snowed in at the H...</td>\n",
              "      <td>2001</td>\n",
              "      <td>After everyone is snowed in at the House of Mo...</td>\n",
              "      <td>Mickey and all his friends hold their own Chri...</td>\n",
              "      <td>Adventure|Animation|Comedy|Family|Fantasy</td>\n",
              "      <td>tt0300195</td>\n",
              "      <td>65.0</td>\n",
              "      <td>uCKwHHftrU4</td>\n",
              "      <td>6.8</td>\n",
              "      <td>https://hydramovies.com/wp-content/uploads/201...</td>\n",
              "      <td>Tony Craig</td>\n",
              "      <td>Thomas Hart</td>\n",
              "      <td>Carlos Alazraqui|Wayne Allwine</td>\n",
              "    </tr>\n",
              "    <tr>\n",
              "      <th>3</th>\n",
              "      <td>Mickey's House of Villains</td>\n",
              "      <td>2001</td>\n",
              "      <td>The villains from the popular animated Disney ...</td>\n",
              "      <td>The villains from the popular animated Disney ...</td>\n",
              "      <td>Animation|Comedy|Family|Fantasy|Horror</td>\n",
              "      <td>tt0329374</td>\n",
              "      <td>0.0</td>\n",
              "      <td>JA03ciYt-Ek</td>\n",
              "      <td>6.6</td>\n",
              "      <td>https://hydramovies.com/wp-content/uploads/201...</td>\n",
              "      <td>Jamie Mitchell</td>\n",
              "      <td>Thomas Hart</td>\n",
              "      <td>Tony Anselmo|Wayne Allwine</td>\n",
              "    </tr>\n",
              "    <tr>\n",
              "      <th>4</th>\n",
              "      <td>And Then I Go</td>\n",
              "      <td>2017</td>\n",
              "      <td>In the cruel world of junior high, Edwin suffe...</td>\n",
              "      <td>In the cruel world of junior high, Edwin suffe...</td>\n",
              "      <td>Drama</td>\n",
              "      <td>tt2018111</td>\n",
              "      <td>99.0</td>\n",
              "      <td>8CdIiD6-iF0</td>\n",
              "      <td>7.6</td>\n",
              "      <td>https://hydramovies.com/wp-content/uploads/201...</td>\n",
              "      <td>Vincent Grashaw</td>\n",
              "      <td>Brett Haley</td>\n",
              "      <td>Arman Darbo|Sawyer Barth</td>\n",
              "    </tr>\n",
              "  </tbody>\n",
              "</table>\n",
              "</div>\n",
              "    <div class=\"colab-df-buttons\">\n",
              "\n",
              "  <div class=\"colab-df-container\">\n",
              "    <button class=\"colab-df-convert\" onclick=\"convertToInteractive('df-8b9b1d44-6b2e-4568-ab8a-c78c05dc7d1f')\"\n",
              "            title=\"Convert this dataframe to an interactive table.\"\n",
              "            style=\"display:none;\">\n",
              "\n",
              "  <svg xmlns=\"http://www.w3.org/2000/svg\" height=\"24px\" viewBox=\"0 -960 960 960\">\n",
              "    <path d=\"M120-120v-720h720v720H120Zm60-500h600v-160H180v160Zm220 220h160v-160H400v160Zm0 220h160v-160H400v160ZM180-400h160v-160H180v160Zm440 0h160v-160H620v160ZM180-180h160v-160H180v160Zm440 0h160v-160H620v160Z\"/>\n",
              "  </svg>\n",
              "    </button>\n",
              "\n",
              "  <style>\n",
              "    .colab-df-container {\n",
              "      display:flex;\n",
              "      gap: 12px;\n",
              "    }\n",
              "\n",
              "    .colab-df-convert {\n",
              "      background-color: #E8F0FE;\n",
              "      border: none;\n",
              "      border-radius: 50%;\n",
              "      cursor: pointer;\n",
              "      display: none;\n",
              "      fill: #1967D2;\n",
              "      height: 32px;\n",
              "      padding: 0 0 0 0;\n",
              "      width: 32px;\n",
              "    }\n",
              "\n",
              "    .colab-df-convert:hover {\n",
              "      background-color: #E2EBFA;\n",
              "      box-shadow: 0px 1px 2px rgba(60, 64, 67, 0.3), 0px 1px 3px 1px rgba(60, 64, 67, 0.15);\n",
              "      fill: #174EA6;\n",
              "    }\n",
              "\n",
              "    .colab-df-buttons div {\n",
              "      margin-bottom: 4px;\n",
              "    }\n",
              "\n",
              "    [theme=dark] .colab-df-convert {\n",
              "      background-color: #3B4455;\n",
              "      fill: #D2E3FC;\n",
              "    }\n",
              "\n",
              "    [theme=dark] .colab-df-convert:hover {\n",
              "      background-color: #434B5C;\n",
              "      box-shadow: 0px 1px 3px 1px rgba(0, 0, 0, 0.15);\n",
              "      filter: drop-shadow(0px 1px 2px rgba(0, 0, 0, 0.3));\n",
              "      fill: #FFFFFF;\n",
              "    }\n",
              "  </style>\n",
              "\n",
              "    <script>\n",
              "      const buttonEl =\n",
              "        document.querySelector('#df-8b9b1d44-6b2e-4568-ab8a-c78c05dc7d1f button.colab-df-convert');\n",
              "      buttonEl.style.display =\n",
              "        google.colab.kernel.accessAllowed ? 'block' : 'none';\n",
              "\n",
              "      async function convertToInteractive(key) {\n",
              "        const element = document.querySelector('#df-8b9b1d44-6b2e-4568-ab8a-c78c05dc7d1f');\n",
              "        const dataTable =\n",
              "          await google.colab.kernel.invokeFunction('convertToInteractive',\n",
              "                                                    [key], {});\n",
              "        if (!dataTable) return;\n",
              "\n",
              "        const docLinkHtml = 'Like what you see? Visit the ' +\n",
              "          '<a target=\"_blank\" href=https://colab.research.google.com/notebooks/data_table.ipynb>data table notebook</a>'\n",
              "          + ' to learn more about interactive tables.';\n",
              "        element.innerHTML = '';\n",
              "        dataTable['output_type'] = 'display_data';\n",
              "        await google.colab.output.renderOutput(dataTable, element);\n",
              "        const docLink = document.createElement('div');\n",
              "        docLink.innerHTML = docLinkHtml;\n",
              "        element.appendChild(docLink);\n",
              "      }\n",
              "    </script>\n",
              "  </div>\n",
              "\n",
              "\n",
              "<div id=\"df-6f256a96-d1ac-489a-aceb-9d94e6eaa508\">\n",
              "  <button class=\"colab-df-quickchart\" onclick=\"quickchart('df-6f256a96-d1ac-489a-aceb-9d94e6eaa508')\"\n",
              "            title=\"Suggest charts.\"\n",
              "            style=\"display:none;\">\n",
              "\n",
              "<svg xmlns=\"http://www.w3.org/2000/svg\" height=\"24px\"viewBox=\"0 0 24 24\"\n",
              "     width=\"24px\">\n",
              "    <g>\n",
              "        <path d=\"M19 3H5c-1.1 0-2 .9-2 2v14c0 1.1.9 2 2 2h14c1.1 0 2-.9 2-2V5c0-1.1-.9-2-2-2zM9 17H7v-7h2v7zm4 0h-2V7h2v10zm4 0h-2v-4h2v4z\"/>\n",
              "    </g>\n",
              "</svg>\n",
              "  </button>\n",
              "\n",
              "<style>\n",
              "  .colab-df-quickchart {\n",
              "      --bg-color: #E8F0FE;\n",
              "      --fill-color: #1967D2;\n",
              "      --hover-bg-color: #E2EBFA;\n",
              "      --hover-fill-color: #174EA6;\n",
              "      --disabled-fill-color: #AAA;\n",
              "      --disabled-bg-color: #DDD;\n",
              "  }\n",
              "\n",
              "  [theme=dark] .colab-df-quickchart {\n",
              "      --bg-color: #3B4455;\n",
              "      --fill-color: #D2E3FC;\n",
              "      --hover-bg-color: #434B5C;\n",
              "      --hover-fill-color: #FFFFFF;\n",
              "      --disabled-bg-color: #3B4455;\n",
              "      --disabled-fill-color: #666;\n",
              "  }\n",
              "\n",
              "  .colab-df-quickchart {\n",
              "    background-color: var(--bg-color);\n",
              "    border: none;\n",
              "    border-radius: 50%;\n",
              "    cursor: pointer;\n",
              "    display: none;\n",
              "    fill: var(--fill-color);\n",
              "    height: 32px;\n",
              "    padding: 0;\n",
              "    width: 32px;\n",
              "  }\n",
              "\n",
              "  .colab-df-quickchart:hover {\n",
              "    background-color: var(--hover-bg-color);\n",
              "    box-shadow: 0 1px 2px rgba(60, 64, 67, 0.3), 0 1px 3px 1px rgba(60, 64, 67, 0.15);\n",
              "    fill: var(--button-hover-fill-color);\n",
              "  }\n",
              "\n",
              "  .colab-df-quickchart-complete:disabled,\n",
              "  .colab-df-quickchart-complete:disabled:hover {\n",
              "    background-color: var(--disabled-bg-color);\n",
              "    fill: var(--disabled-fill-color);\n",
              "    box-shadow: none;\n",
              "  }\n",
              "\n",
              "  .colab-df-spinner {\n",
              "    border: 2px solid var(--fill-color);\n",
              "    border-color: transparent;\n",
              "    border-bottom-color: var(--fill-color);\n",
              "    animation:\n",
              "      spin 1s steps(1) infinite;\n",
              "  }\n",
              "\n",
              "  @keyframes spin {\n",
              "    0% {\n",
              "      border-color: transparent;\n",
              "      border-bottom-color: var(--fill-color);\n",
              "      border-left-color: var(--fill-color);\n",
              "    }\n",
              "    20% {\n",
              "      border-color: transparent;\n",
              "      border-left-color: var(--fill-color);\n",
              "      border-top-color: var(--fill-color);\n",
              "    }\n",
              "    30% {\n",
              "      border-color: transparent;\n",
              "      border-left-color: var(--fill-color);\n",
              "      border-top-color: var(--fill-color);\n",
              "      border-right-color: var(--fill-color);\n",
              "    }\n",
              "    40% {\n",
              "      border-color: transparent;\n",
              "      border-right-color: var(--fill-color);\n",
              "      border-top-color: var(--fill-color);\n",
              "    }\n",
              "    60% {\n",
              "      border-color: transparent;\n",
              "      border-right-color: var(--fill-color);\n",
              "    }\n",
              "    80% {\n",
              "      border-color: transparent;\n",
              "      border-right-color: var(--fill-color);\n",
              "      border-bottom-color: var(--fill-color);\n",
              "    }\n",
              "    90% {\n",
              "      border-color: transparent;\n",
              "      border-bottom-color: var(--fill-color);\n",
              "    }\n",
              "  }\n",
              "</style>\n",
              "\n",
              "  <script>\n",
              "    async function quickchart(key) {\n",
              "      const quickchartButtonEl =\n",
              "        document.querySelector('#' + key + ' button');\n",
              "      quickchartButtonEl.disabled = true;  // To prevent multiple clicks.\n",
              "      quickchartButtonEl.classList.add('colab-df-spinner');\n",
              "      try {\n",
              "        const charts = await google.colab.kernel.invokeFunction(\n",
              "            'suggestCharts', [key], {});\n",
              "      } catch (error) {\n",
              "        console.error('Error during call to suggestCharts:', error);\n",
              "      }\n",
              "      quickchartButtonEl.classList.remove('colab-df-spinner');\n",
              "      quickchartButtonEl.classList.add('colab-df-quickchart-complete');\n",
              "    }\n",
              "    (() => {\n",
              "      let quickchartButtonEl =\n",
              "        document.querySelector('#df-6f256a96-d1ac-489a-aceb-9d94e6eaa508 button');\n",
              "      quickchartButtonEl.style.display =\n",
              "        google.colab.kernel.accessAllowed ? 'block' : 'none';\n",
              "    })();\n",
              "  </script>\n",
              "</div>\n",
              "    </div>\n",
              "  </div>\n"
            ]
          },
          "metadata": {},
          "execution_count": 43
        }
      ]
    },
    {
      "cell_type": "code",
      "source": [
        "\n",
        "# number of rows and columns in the data frame\n",
        "\n",
        "movies_data.shape\n"
      ],
      "metadata": {
        "id": "87Rx1orJap3A",
        "colab": {
          "base_uri": "https://localhost:8080/"
        },
        "outputId": "bca0c6e0-60e6-4a1d-e537-dad2d89473dd"
      },
      "execution_count": 44,
      "outputs": [
        {
          "output_type": "execute_result",
          "data": {
            "text/plain": [
              "(2266, 13)"
            ]
          },
          "metadata": {},
          "execution_count": 44
        }
      ]
    },
    {
      "cell_type": "code",
      "source": [
        "# selecting the relevant features for recommendation\n",
        "\n",
        "selected_features = ['Title','Cast','Director','Genres']\n",
        "print(selected_features)"
      ],
      "metadata": {
        "id": "LnI-IBw-azof",
        "colab": {
          "base_uri": "https://localhost:8080/"
        },
        "outputId": "bf513e56-c1f4-4904-d53a-cb35622af66e"
      },
      "execution_count": 45,
      "outputs": [
        {
          "output_type": "stream",
          "name": "stdout",
          "text": [
            "['Title', 'Cast', 'Director', 'Genres']\n"
          ]
        }
      ]
    },
    {
      "cell_type": "code",
      "source": [
        "# replacing the null valuess with null string\n",
        "\n",
        "for feature in selected_features:\n",
        "  movies_data[feature] = movies_data[feature].fillna('')"
      ],
      "metadata": {
        "id": "SbwVqBSxa4OL"
      },
      "execution_count": 46,
      "outputs": []
    },
    {
      "cell_type": "code",
      "source": [
        "# combining all the 5 selected features\n",
        "\n",
        "combined_features = movies_data['Genres']+' '+movies_data['Title']+' '+movies_data['Cast']+' '+movies_data['Director']\n",
        "print(combined_features)"
      ],
      "metadata": {
        "id": "abs_QYSta-fW",
        "colab": {
          "base_uri": "https://localhost:8080/"
        },
        "outputId": "2bd3084c-3136-4abf-e05a-aa8f73f31abb"
      },
      "execution_count": 47,
      "outputs": [
        {
          "output_type": "stream",
          "name": "stdout",
          "text": [
            "0       Uncategorized Patton Oswalt: Annihilation Patt...\n",
            "1       Documentary|Music New York Doll Sylvain Sylvai...\n",
            "2       Adventure|Animation|Comedy|Family|Fantasy Mick...\n",
            "3       Animation|Comedy|Family|Fantasy|Horror Mickey'...\n",
            "4       Drama And Then I Go Arman Darbo|Sawyer Barth V...\n",
            "                              ...                        \n",
            "2261    Action|Adventure|Drama|Sci-Fi|Thriller Gravity...\n",
            "2262    Action|Horror|Mystery|Thriller Grave Encounter...\n",
            "2263    Action|Comedy Grandma's Boy Allen Covert|Linda...\n",
            "2264    Action|Drama Gran Torino Bee Vang|Clint Eastwo...\n",
            "2265                                      Grace Is Gone  \n",
            "Length: 2266, dtype: object\n"
          ]
        }
      ]
    },
    {
      "cell_type": "code",
      "source": [
        "# converting the text data to feature vectors\n",
        "\n",
        "vectorizer = TfidfVectorizer()"
      ],
      "metadata": {
        "id": "np5XdEhkbGwd"
      },
      "execution_count": 48,
      "outputs": []
    },
    {
      "cell_type": "code",
      "source": [
        "feature_vectors = vectorizer.fit_transform(combined_features)"
      ],
      "metadata": {
        "id": "E2NhANS4bL5h"
      },
      "execution_count": 49,
      "outputs": []
    },
    {
      "cell_type": "code",
      "source": [
        "print(feature_vectors)\n"
      ],
      "metadata": {
        "id": "IUHfOhyCbQYn",
        "colab": {
          "base_uri": "https://localhost:8080/"
        },
        "outputId": "211389b6-be6c-416c-9ed2-6a057f4ec017"
      },
      "execution_count": 50,
      "outputs": [
        {
          "output_type": "stream",
          "name": "stdout",
          "text": [
            "  (0, 2579)\t0.30835527452519124\n",
            "  (0, 780)\t0.30835527452519124\n",
            "  (0, 307)\t0.30835527452519124\n",
            "  (0, 4978)\t0.5934507346346591\n",
            "  (0, 5086)\t0.548204399815973\n",
            "  (0, 6860)\t0.2490767664826929\n",
            "  (1, 7144)\t0.3354812492546271\n",
            "  (1, 2649)\t0.2542971002876796\n",
            "  (1, 6474)\t0.6709624985092542\n",
            "  (1, 1780)\t0.35331463518787837\n",
            "  (1, 7307)\t0.31301384007183114\n",
            "  (1, 4789)\t0.30499487463870584\n",
            "  (1, 4684)\t0.18038295123169013\n",
            "  (1, 1772)\t0.15564659846157963\n",
            "  (2, 1469)\t0.203565568261719\n",
            "  (2, 6710)\t0.21542222238226838\n",
            "  (2, 203)\t0.2805916156363919\n",
            "  (2, 7077)\t0.24959124062329463\n",
            "  (2, 154)\t0.30708936119690156\n",
            "  (2, 1100)\t0.24191996794277804\n",
            "  (2, 4641)\t0.30708936119690156\n",
            "  (2, 4910)\t0.12810007087470737\n",
            "  (2, 3062)\t0.2275961245153726\n",
            "  (2, 6588)\t0.08031050673691294\n",
            "  (2, 434)\t0.23553379664410448\n",
            "  :\t:\n",
            "  (2262, 4704)\t0.15495661175282457\n",
            "  (2262, 6630)\t0.11521483076496165\n",
            "  (2262, 79)\t0.060998896965022205\n",
            "  (2262, 3044)\t0.1758646584544373\n",
            "  (2263, 2600)\t0.3778814549489091\n",
            "  (2263, 4809)\t0.3778814549489091\n",
            "  (2263, 1088)\t0.3778814549489091\n",
            "  (2263, 1463)\t0.3778814549489091\n",
            "  (2263, 3949)\t0.34527528908811533\n",
            "  (2263, 2627)\t0.35880807062805037\n",
            "  (2263, 199)\t0.269566116509381\n",
            "  (2263, 79)\t0.05711412688314427\n",
            "  (2263, 861)\t0.3071285204463979\n",
            "  (2263, 1369)\t0.10299672076775054\n",
            "  (2264, 6920)\t0.3395312900384829\n",
            "  (2264, 6715)\t0.3395312900384829\n",
            "  (2264, 2624)\t0.3395312900384829\n",
            "  (2264, 617)\t0.3223936118088473\n",
            "  (2264, 1313)\t0.5275990058532545\n",
            "  (2264, 1903)\t0.5145681201028861\n",
            "  (2264, 79)\t0.05131776890897554\n",
            "  (2264, 1840)\t0.06665803559887665\n",
            "  (2265, 2584)\t0.6713865643885231\n",
            "  (2265, 2618)\t0.5240420217685674\n",
            "  (2265, 3229)\t0.5240420217685674\n"
          ]
        }
      ]
    },
    {
      "cell_type": "code",
      "source": [
        "# getting the similarity scores using cosine similarity\n",
        "\n",
        "similarity = cosine_similarity(feature_vectors)"
      ],
      "metadata": {
        "id": "pj5liKpObVwD"
      },
      "execution_count": 51,
      "outputs": []
    },
    {
      "cell_type": "code",
      "source": [
        "print(similarity)"
      ],
      "metadata": {
        "id": "-c9FwH27bafQ",
        "colab": {
          "base_uri": "https://localhost:8080/"
        },
        "outputId": "1623c2da-5d35-4120-a03b-263d3d5fb056"
      },
      "execution_count": 52,
      "outputs": [
        {
          "output_type": "stream",
          "name": "stdout",
          "text": [
            "[[1.         0.         0.         ... 0.         0.         0.        ]\n",
            " [0.         1.         0.         ... 0.         0.         0.        ]\n",
            " [0.         0.         1.         ... 0.00862097 0.         0.        ]\n",
            " ...\n",
            " [0.         0.         0.00862097 ... 1.         0.00293097 0.        ]\n",
            " [0.         0.         0.         ... 0.00293097 1.         0.        ]\n",
            " [0.         0.         0.         ... 0.         0.         1.        ]]\n"
          ]
        }
      ]
    },
    {
      "cell_type": "code",
      "source": [
        "# getting the movie name from the user\n",
        "\n",
        "movie_name = input(' Enter your favourite movie name : ')"
      ],
      "metadata": {
        "id": "T-L-3sKwbgDF",
        "colab": {
          "base_uri": "https://localhost:8080/"
        },
        "outputId": "b730f340-b264-4037-874d-8b74bb0bb53f"
      },
      "execution_count": 53,
      "outputs": [
        {
          "name": "stdout",
          "output_type": "stream",
          "text": [
            " Enter your favourite movie name : 89\n"
          ]
        }
      ]
    },
    {
      "cell_type": "code",
      "source": [
        "# creating a list with all the movie names given in the dataset\n",
        "\n",
        "list_of_all_titles = movies_data['Title'].tolist()\n",
        "print(list_of_all_titles)"
      ],
      "metadata": {
        "id": "sQV6B3BEbo2b",
        "colab": {
          "base_uri": "https://localhost:8080/"
        },
        "outputId": "d6f94740-4470-46f3-eef7-827905b10a43"
      },
      "execution_count": 54,
      "outputs": [
        {
          "output_type": "stream",
          "name": "stdout",
          "text": [
            "['Patton Oswalt: Annihilation', 'New York Doll', \"Mickey's Magical Christmas: Snowed in at the House of Mouse\", \"Mickey's House of Villains\", 'And Then I Go', 'An Extremely Goofy Movie', 'Peter Rabbit', 'Love Songs', '89', 'The Foster Boy', 'Forever My Girl', 'Tom Segura: Disgraceful', 'The Secret Rules of Modern Living: Algorithms', 'Secrets in the Fall', 'Silent Night', 'Suicide Squad: Hell to Pay', 'Wildling', 'The Humanity Bureau', 'Farewell Ferris Wheel', \"Don't Talk to Irene\", 'Blood Road', 'Andre the Giant', 'Dead on Arrival', 'Big Time', 'Adventures in Babysitting', 'Banana in a Nutshell', 'Hostiles', 'Maze Runner: The Death Cure', 'Den of Thieves', 'V.I.P.', 'Walk Hard: The Dewey Cox Story', 'Freaky Friday', 'Perfect Strangers', 'Paterno', 'Shirley: Visions of Reality', '5 Centimeters Per Second', 'Faces Places', 'The Post', 'The Anthem of the Heart', 'My Teacher', 'You Were Never Really Here', 'Petals on the Wind', 'Jesus Christ Superstar Live in Concert', 'Dare to Be Wild', 'Being Julia', 'Trouble Is My Business', 'Outside In', 'Froning: The Fittest Man in History', 'Elizabethtown', 'The Other Side of Heaven', 'Sons of Ben', '12 Strong', 'The Commuter', 'Birdshot', 'May', 'The China Hustle', 'The Lost Brother', 'The Redeemed and the Dominant: Fittest on Earth', 'First Match', 'Re: Born', 'A Moving Romance', 'Happy End', 'After the Storm', \"Mary and the Witch's Flower\", 'The Last Movie Star', 'Lucky', 'Phantom Thread', \"Molly's Game\", 'The Third Murder', 'The Coming Days', 'Ichi the Killer', 'The Boy with the Topknot', 'Small Town Crime', 'Control', 'Dear Etranger', 'Before We Vanish', 'Grace Jones: Bloodlight and Bami', 'All the Money in the World', 'Chasing the Dragon', 'I Kill Giants', 'Roxanne Roxanne', \"Film Stars Don't Die in Liverpool\", 'Every Secret Thing', 'Believe in Me', 'Still the Water', 'Redemption Trail', 'Black Marigolds', 'The Greatest Showman', 'Of Mind and Music', 'Demon House', 'Along for the Ride', 'Centre of My World', 'Wonderstruck', 'The Witness', 'Harold and Lillian: A Hollywood Love Story', 'Ferrari 312B: Where the Revolution Begins', 'The Monkey King 2', 'Fairy Tail: The Movie - Dragon Cry', '24 City', 'To Rome with Love', 'Journey to the West', 'Iron Men', 'Fassbinder', 'Black Bread', \"Won't Back Down\", 'Still Walking', 'Annihilation', \"Takeshis'\", 'The Nile Hilton Incident', 'Star Wars: The Last Jedi', 'The Woman Who Left', 'The Outsider', 'Love Per Square Foot', 'Hotel Salvation', 'Lego DC Comics Super Heroes: The Flash', 'Prodigy', 'Pitch Perfect 3', 'The Vanishing of Sidney Hall', 'Jumanji: Welcome to the Jungle', \"Pan's Labyrinth\", 'Along with the Gods: The Two Worlds', 'Dark Blue World', 'Ilo Ilo', 'Bowling for Columbine', 'Paddington 2', 'Chasing Coral', 'Gaga: Five Foot Two', 'The Farthest', 'Loveless', 'Icarus', 'Veronica', 'Hostages', 'Tsukiji Wonderland', 'Strangled', 'Still Life', 'Parked', 'Six Shooter', 'Heartbeats', 'I, Tonya', 'The Breadwinner', \"Devil's Tree: Rooted Evil\", 'Novitiate', 'The Eternal Road', 'The Shape of Water', 'Ferdinand', 'I Remember You', 'My Entire High School Sinking Into the Sea', 'London to Brighton', 'The Great Vazquez', 'The Body', 'Generation Iron 2', 'The Square', 'Forgotten', 'The Girl Without Hands', 'Same Kind of Different as Me', 'Meester Kikker', 'Marrowbone', 'Wonder Wheel', 'The Disaster Artist', 'The Man Who Invented Christmas', 'Raw', 'I Called Him Morgan', \"The Women's Balcony\", 'Giant', 'The Last Laugh', 'Human Flow', 'Burn Motherfucker, Burn!', 'In This Corner of the World', 'Graduation', 'The Battleship Island', 'The Death of Stalin', 'Paradox', 'Z-O-M-B-I-E-S', '2048: Nowhere to Run', 'A Taxi Driver', 'Midnight Runners', '2036: Nexus Dawn', 'Lucknow Central', 'Bright Lights: Starring Carrie Fisher and Debbie Reynolds', 'The Happiest Day in the Life of Olli Mäki', 'Chris Rock: Tamborine', 'The Red Turtle', 'Tragedy Girls', 'Columbus', 'Call Me by Your Name', 'Mountain', 'Your Name', 'Dawson City: Frozen Time', 'Good Time', 'Menashe', 'Newness', 'Kedi', 'Three Billboards Outside Ebbing, Missouri', 'Jagga Jasoos', 'Mudbound', 'Final Portrait', 'My Life as a Zucchini', 'The Salesman', 'I Am Not Your Negro', 'Lady Bird', 'Polina', 'Blood of My Blood', 'I Am Not a Witch', 'Sophie and the Rising Sun', 'Justice League', 'Contemporary Color', 'The Ballad of Lefty Brown', 'In the Family', 'Blade of the Immortal', 'Batman: Gotham by Gaslight', 'Darkest Hour', 'The Pirates of Somalia', 'In Search of Balance', 'Minimalism: A Documentary About the Important Things', 'Tom of Finland', 'Thelma', 'My Friend Dahmer', 'When We First Met', 'Bomb City', 'The Ritual', 'Accident Man', 'Coco', 'Murder on the Orient Express', 'Doctor Who: Shada', 'The Everlasting Flame', \"Daddy's Home 2\", 'The Florida Project', 'Only the Brave', \"God's Own Country\", 'Wonder', 'Crooked House', 'Roman J. Israel, Esq.', 'Wheelman', 'Voyeur', 'The Great Invisible', \"Naledi: A Baby Elephant's Tale\", 'The Meyerowitz Stories', 'Our Souls at Night', 'Cuba and the Cameraman', 'Catching the Sun', 'A Plastic Ocean', '1922', 'Bright', 'Thor: Ragnarok', 'Phineas and Ferb the Movie: Across the 2nd Dimension', 'Sweet Virginia', 'LBJ', 'Almost Friends', 'Borg vs McEnroe', 'Boone: The Bounty Hunter', 'Last Flag Flying', 'The Killing of a Sacred Deer', 'The Games of the V Olympiad Stockholm, 1912', 'Chasing Great', 'Thank You for Your Service', 'Professor Marston and the Wonder Women', 'Goodbye Christopher Robin', 'Kenny', 'Loving Vincent', 'Happy Death Day', 'Blade Runner 2049', 'My Little Pony: The Movie', 'The Foreigner', 'Marshall', 'Rebel in the Rye', 'Brawl in Cell Block 99', 'Chasing Trane: The John Coltrane Documentary', 'Mark Felt: The Man Who Brought Down the White House', 'Battle of the Sexes', 'Mayhem', \"Brad's Status\", 'Breathe', 'City of Ghosts', 'It', 'The Mountain Between Us', 'California Typewriter', 'The Lego Ninjago Movie', 'Stronger', 'Victoria & Abdul', 'Mother!', 'Enter Nowhere', 'Dunkirk', 'American Made', 'Ferrari: Race to Immortality', 'The Party', 'Detroit', 'Kingsman: The Golden Circle', 'Better Watch Out', 'Love Finds You in Charm', '1 Buck', 'Gook', 'Wish for Christmas', 'Love Finds You in Valentine', 'Animal Factory', \"All the King's Men\", 'A Princess for Christmas', 'Batman vs. Two-Face', 'The Good Neighbor', 'The Snow Queen 3', 'American Assassin', 'Kinky Boots', 'Super Dark Times', 'Score: A Film Music Documentary', 'Tulip Fever', 'Rememory', 'Logan Lucky', \"The Hitman's Bodyguard\", 'Valerian and the City of a Thousand Planets', 'Beach Rats', 'Patti Cake$', 'Lipstick Under My Burkha', 'The Limehouse Golem', 'The Healer', 'Brigsby Bear', 'Wind River', 'Atomic Blonde', 'Ali and Nino', 'The Glass Castle', 'Jungle', 'Ingrid Goes West', 'Cars 3', 'The Poughkeepsie Tapes', 'Northpole: Open for Christmas', 'Manifesto', 'Maudie', \"Viceroy's House\", 'A Family Man', 'Harmony', 'War for the Planet of the Apes', 'Annabelle: Creation', 'Bon Cop Bad Cop 2', 'The Man with the Iron Heart', '68 Kill', 'Girls Trip', '6 Days', 'Spider-Man: Homecoming', 'Una', 'Distance Between Dreams', 'Cargo', 'The Beguiled', 'Hired Gun', 'Baby Driver', 'Certain Women', 'The Wizard of Lies', 'Berlin Syndrome', 'VHS Massacre: Cult Films and the Decline of Physical Media', 'The Book of Henry', 'Boys in the Trees', 'Shock Wave', 'A Ghost Story', \"Voyage of Time: Life's Journey\", 'Despicable Me 3', 'Churchill', 'Scooby-Doo! Frankencreepy', 'Till We Meet Again', 'Pirates of the Caribbean: Dead Men Tell No Tales', 'The Hero', 'The Big Sick', 'Throne of Elves', 'Whitney: Can I Be Me', 'Wonder Woman', 'Mindhorn', 'It Comes at Night', 'A Dark Song', \"Don't Take Me Home\", 'Band Aid', 'Risk', 'Captain Underpants: The First Epic Movie', 'Unlocked', 'Megan Leavey', 'Born in China', 'My Cousin Rachel', 'Lady Macbeth', 'Life During Wartime', 'Williams', 'The Sense of an Ending', 'The Ottoman Lieutenant', 'Guardians of the Galaxy Vol. 2', 'Shin Godzilla', 'The Wall', 'The Exception', 'The Case for Christ', 'Chuck', 'Alien: Covenant', 'Boyka: Undisputed', 'Shot Caller', 'Wakefield', 'King Arthur: Legend of the Sword', 'Going in Style', 'The Hippopotamus', 'Colossal', 'The Levelling', 'A Quiet Passion', 'Ghost in the Shell', 'Gifted', 'The Boss Baby', 'Route Irish', 'The Phantom of the Opera at the Royal Albert Hall', 'Wazir', 'The Promise', 'Free Fire', \"Buster's Mal Heart\", 'My Name Is Lenny', 'Resident Evil: Vendetta', 'The Lost City of Z', 'The Fate of the Furious', 'Their Finest', 'Black Butterfly', 'Ghost in the Shell Arise: Border 4 - Ghost Stands Alone', 'Ghost in the Shell Arise: Border 3 - Ghost Tears', 'Extortion', 'Kong: Skull Island', 'Rabbit Hole', 'Apprentice', 'Youth in Revolt', 'Gods and Generals', \"The Zookeeper's Wife\", 'Red Dog: True Blue', 'Alone in Berlin', 'Power Rangers', 'The Eagle Huntress', 'CHIPS', 'Jawbone', 'The Belko Experiment', 'Life', 'The Carer', 'Prevenge', 'I Tawt I Taw a Puddy Tat', 'I Am Heath Ledger', 'The LEGO Batman Movie', 'John Wick: Chapter 2', 'Queen Rock Montreal & Live Aid', 'Peaceful Warrior', 'The Last Word', 'Swallows and Amazons', 'A Cure for Wellness', 'McLaren', 'T2 Trainspotting', \"The Devil's Candy\", 'Logan', 'M.S. Dhoni: The Untold Story', 'Beauty and the Beast', 'Mean Dreams', 'The Shack', 'Before I Fall', 'Thirteen', 'Moto 8: The Movie', 'Get Out', 'The Great Wall', 'The Young and Prodigious T.S. Spivet', 'The Dish', 'The Space Between Us', 'The Death and Resurrection Show', 'Hacker', 'Notes on Blindness', \"A Dog's Purpose\", 'Gold', 'The Age of Shadows', 'Silicon Cowboys', 'Adult Life Skills', 'Personal Shopper', 'La La Land', 'Kicks', 'The Autopsy of Jane Doe', 'Leap!', 'Teen Titans: The Judas Contract', 'The Founder', 'Traceroute', 'Split', 'Brimstone', 'Lion', 'Hidden Figures', 'Paterson', 'A United Kingdom', 'Rogue One: A Star Wars Story', 'Patriots Day', 'Why Him?', 'Silence', '20th Century Women', 'The Love Witch', 'Live by Night', 'Sing', 'Miss Sloane', 'Christine', 'Fences', 'Passengers', 'A Street Cat Named Bob', 'Fantastic Beasts and Where to Find Them', 'Collateral Beauty', 'I, Daniel Blake', 'Jackie', 'The Eyes of My Mother', 'Moana', 'Doctor Strange', 'Moonlight', 'Allied', 'Nocturnal Animals', 'A Monster Calls', 'Manchester by the Sea', 'Hacksaw Ridge', 'Dark Matter', 'The Escort', 'Bleed for This', 'Gimme Danger', 'The Edge of Seventeen', 'Girl Asleep', 'Arrival', 'Stick Man', 'Joyeux Noel', \"Billy Lynn's Long Halftime Walk\", 'The 9th Life of Louis Drax', 'American Pastoral', 'Justice League Dark', 'Almost Christmas', 'Trolls', 'Sinners and Saints', 'Closet Monster', 'Good Kids', 'Jack Reacher: Never Go Back', 'Queen of Katwe', 'The Girl with All the Gifts', 'Operation Avalanche', \"Maigret's Dead Man\", 'The Light Between Oceans', 'Ouija: Origin of Evil', 'Inferno', 'The Girl on the Train', 'Miss Saigon: 25th Anniversary', 'Brotherhood', 'Deepwater Horizon', 'Titanoboa: Monster Snake', 'The Accountant', 'The Birth of a Nation', 'Middle School: The Worst Years of My Life', 'View from a Blue Moon', 'Greater', 'I Am Not a Serial Killer', 'Denial', 'In a Valley of Violence', 'Train to Busan', 'American Honey', 'The Fourth Phase', 'David Brent: Life on the Road', 'Snowden', 'For the Love of Spock', 'The Hollars', 'The Magnificent Seven', 'Lo and Behold, Reveries of the Connected World', \"Miss Peregrine's Home for Peculiar Children\", 'Sully', 'Storks', 'I Am Bolt', 'Southside with You', \"Bridget Jones's Baby\", 'Suicide Squad', 'Cardboard Boxer', 'Being Charlie', \"Don't Think Twice\", 'The Whole Truth', 'Morris from America', 'Blood Punch', 'High Strung', 'Jason Bourne', 'The Great Gilly Hopkins', \"Pete's Dragon\", 'The BFG', \"Don't Breathe\", 'Phantom Boy', 'Hell or High Water', 'Kubo and the Two Strings', 'Scrat: Spaced Out', '4th Man Out', 'War Dogs', 'The Secret Life of Pets', 'Oasis: Supersonic', 'Already Tomorrow in Hong Kong', 'Hands of Stone', 'Genius', 'Indignation', 'Finding Dory', 'The Last Reef 3D', 'Mr. Church', 'Sausage Party', 'Imperium', 'Anthropoid', 'Star Trek: Beyond', 'Bad Moms', 'Humpback Whales', 'Captain Fantastic', 'Nerve', 'Lights Out', 'Meet the Mobsters', 'Desierto', 'Raiders!: The Story of the Greatest Fan Film Ever Made', 'We Are Many', 'Blood Father', 'Chasing Niagara', 'The Infiltrator', 'Alice Through the Looking Glass', 'Mike and Dave Need Wedding Dates', \"Dennis Rodman's Big Bang in PyongYang\", 'Hunt for the Wilderpeople', 'The Purge: Election Year', 'Swiss Army Man', 'Kingsglaive: Final Fantasy XV', 'The Legend of Tarzan', 'Captain Sparky vs. The Flying Saucers', 'Neverland', 'The Neon Demon', 'De Palma', 'Blackfish', 'Dead Snow 2: Red vs. Dead', 'Monster High: Freaky Fusion', 'Zero Days', 'The Fits', 'Big Top Scooby-Doo!', 'Free State of Jones', 'Central Intelligence', 'The Shallows', 'Café Society', 'Warcraft: The Beginning', 'X-Men: Apocalypse', 'All the Way', 'The Meddler', 'Teenage Mutant Ninja Turtles: Out of the Shadows', 'Adoration', 'The Ones Below', 'Our Kind of Traitor', 'Popstar: Never Stop Never Stopping', 'What Happened, Miss Simone?', 'Florence Foster Jenkins', 'Landmine Goes Click', 'Love & Friendship', 'Captain America: Civil War', 'The Conjuring 2', 'The Sea of Trees', 'Equals', 'Kilo Two Bravo', 'The Tailor of Panama', 'Septembers of Shiraz', 'Saved!', 'A Sunday Horse', 'Red Road', 'Now You See Me 2', 'The Take', 'The Beat That My Heart Skipped', 'The Man Who Knew Infinity', 'Me Before You', 'Before I Wake', 'Money Monster', 'Scooby-Doo! and WWE: Curse of the Speed Demon', \"Maggie's Plan\", 'The Nice Guys', 'The Jungle Book', 'Pelé: Birth of a Legend', 'Dough', 'Enigma', 'A Hologram for the King', \"The Huntsman: Winter's War\", 'The Angry Birds Movie', 'Crimson Peak', 'River', 'Tiny Giants 3D', 'Starter for 10', 'Manhattan Night', 'Born to Be Blue', 'Confirmation', 'Janis: Little Girl Blue', 'The Bronze', 'Batman: The Killing Joke', 'Keanu', 'Space Junk 3D', 'Match Point', 'Crazy Heart', 'Aliens of the Deep', 'Barney Thomson', 'Traders', 'Criminal', 'Hardcore Henry', '3D Safari: Africa', 'Sing Street', 'I Am Belfast', 'Tristan + Isolde', 'Elvis & Nixon', 'Demolition', 'Miles Ahead', 'Batman v Superman: Dawn of Justice', 'The Damned United', 'Green Room', 'Everybody Wants Some!!', 'Cleaner', 'Atonement', 'Steve McQueen: The Man & Le Mans', 'Scoop', 'This Is It', \"The Time Traveler's Wife\", 'Lego DC Comics Superheroes: Justice League - Gotham City Breakout', '13 Going on 30', 'Nanny McPhee', 'A Bigger Splash', 'Anesthesia', 'Brothers of the Wind', 'Vigilante Diaries', 'Fastball', 'The Game of Their Lives', 'The Raid 2', 'Miracles from Heaven', 'How to Lose Friends & Alienate People', 'Whiskey Tango Foxtrot', 'Insidious: Chapter 3', 'To Save a Life', 'Bobby', 'Eye in the Sky', 'Journey to Space', 'Holding the Man', 'The Colony', 'Kung Fu Panda 3', 'My Big Fat Greek Wedding 2', 'Eddie the Eagle', 'Midnight Special', 'Miracle at St. Anna', 'Down Terrace', 'Wildlike', 'Undisputed 2: Last Man Standing', 'Undisputed', 'Tigerland', 'The Informant!', '10 Cloverfield Lane', 'The Brothers Grimsby', 'Hello, My Name Is Doris', 'Touched with Fire', 'Gosford Park', 'Kill the Irishman', 'Dog Pound', 'Catfish', 'Sin Nombre', 'The Confirmation', 'Anything Else', '13 Hours', 'Anomalisa', 'Mr. Right', 'Hail, Caesar!', 'Louder Than Bombs', 'The von Trapp Family: A Life of Music', 'Rambo', 'WXIII: Patlabor the Movie 3', 'Harlock: Space Pirate', 'Collapse', 'He Never Died', 'John Wick', 'Zootopia', \"Mother's Day\", 'Amazing Grace', 'Race', 'The Letter Writer', 'Triple 9', 'How to Be Single', 'The Finest Hours', 'Lakeview Terrace', 'Somewhere', 'Diary of a Wimpy Kid: Rodrick Rules', 'Killshot', 'Vampire Hunter D: Bloodlust', 'The Oxford Murders', 'Risen', 'The Witch', 'Jolene', 'Lego Scooby-Doo!: Haunted Hollywood', 'Assassination Games', 'Dirty Pretty Things', 'Hero', 'Deadpool', 'The Boy', 'WWE TLC Tables, Ladders & Chairs', 'Where to Invade Next', 'The Choice', 'Once I Was a Beehive', 'Cadillac Records', 'DRUNK STONED BRILLIANT DEAD: The Story of the National Lampoon', 'Joy', 'Kate & Leopold', 'Glorious 39', 'The Snow Queen 2', 'Deep Web', 'The Invitation', 'The Survivalist', 'Krampus', 'Veteran', 'The Spectacular Now', 'You Kill Me', 'Uptown Girls', 'Mayor of the Sunset Strip', 'The Revenant', 'A Perfect Day', 'Flashbacks of a Fool', 'Things We Lost in the Fire', 'District 13: Ultimatum', 'Sunset Song', 'Thin Ice', 'Crouching Tiger, Hidden Dragon', 'Justice League vs. Teen Titans', 'Extraordinary Tales', \"Snow Chick: A Penguin's Tale\", 'Arc', 'Forsaken', 'Star Wars: The Force Awakens', 'Coming Home', 'Bon Cop Bad Cop', 'Monster High: Boo York, Boo York', 'The Tribe', 'Love Me', 'Bandits', 'Undertow', 'Turn the River', 'Tumbledown', 'Monster High: Great Scarrier Reef', \"Churchill's Secret\", 'Personal Effects', 'Reality', 'The Hunger Games: Mockingjay - Part 2', 'The Forbidden Room', 'Concussion', \"Daddy's Home\", 'The Editor', \"Nick and Norah's Infinite Playlist\", 'And Everything Is Going Fine', \"Michael Jackson's Journey from Motown to Off the Wall\", 'Below', 'Becoming Jane', 'The Hateful Eight', 'Sisters', 'Kill Your Friends', 'Scooby-Doo! Music of the Vampire', 'Disgrace', 'The Big Short', 'Snowtime!', 'Kokoda: 39th Battalion', 'Lonely Hearts', 'The Lady in the Van', 'The Deep Blue Sea', 'I Believe in Miracles', 'Deception', 'The Peanuts Movie', 'Victor Frankenstein', 'Standoff', 'Racing Extinction', \"Monster's Ball\", 'The Dressmaker', 'Zoolander', 'In the Heart of the Sea', \"The Angels' Share\", 'Brooklyn', 'Carol', \"It's All Gone Pete Tong\", 'The Night Before', 'The Danish Girl', 'Room', 'Theory of Obscurity: A Film About the Residents', 'Code 46', 'Coconut Hero', 'Lego DC Comics Super Heroes: Justice League - Cosmic Clash', 'Metallica Through the Never', 'Going Clear: Scientology & the Prison of Belief', 'Slither', 'Creed', 'Moonwalkers', 'My All-American', 'Spotlight', 'The Lobster', 'Secret in Their Eyes', 'A Mighty Wind', 'UnReal', \"The Devil's Rejects\", 'In Absentia', 'The Good Dinosaur', 'Where Hope Grows', 'The Punisher', \"A Ballerina's Tale\", 'Trumbo', 'Steve Jobs', \"Dragon Ball Z: Resurrection 'F'\", 'The 33', 'The Producers', 'Porcupine Tree: Anesthetize', 'Hyena Road', 'All Things Must Pass: The Rise and Fall of Tower Records', 'Martyrs', 'Grandma', 'Glory Road', 'Oddball and the Penguins', 'Miss You Already', 'That Evening Sun', 'Macbeth', 'Last Cab to Darwin', 'Freeheld', 'Congo: The Grand Inga Project', 'The Prophet', 'The Program', 'Bend It Like Beckham', 'Suffragette', 'Blood Work', 'The Last Witch Hunter', 'Batman: Bad Blood', 'Our Brand Is Crisis', 'Black Mass', 'The Keeping Room', '99 Homes', 'Middle Men', 'American Wedding', 'American Pie 2', 'Bridge of Spies', 'Escobar: Paradise Lost', 'Boiler Room', \"Roald Dahl's Esio Trot\", 'Peter Pan', 'Spectre', 'Legend', 'Truth', \"Kevin Hart: I'm a Grown Little Man\", 'Frozen Fever', 'Deathgasm', 'Life', \"King Solomon's Mines\", 'Goosebumps', 'Max', 'Fathers & Daughters', 'Ninja: Shadow of a Tear', 'Dragon Blade', 'Killing Kennedy', 'Before We Go', 'The Condemned', 'Goal! The Dream Begins', 'Solace', 'Straight Outta Compton', 'Experimenter', 'Ashby', 'Woodlawn', 'The Intern', '45 Years', 'Ship of Theseus', 'Oliver Twist', 'Burnt', 'The Diary of a Teenage Girl', 'Paper Man', 'The Martian', \"Brandon Semenuk's Rad Company\", 'Irrational Man', 'Hotel Transylvania 2', 'Infinitely Polar Bear', 'Sleeping with Other People', 'Scouts Guide to the Zombie Apocalypse', 'Sicario', 'The Walk', 'The Visit', 'Being AP', 'Everest', 'A Walk in the Woods', 'Memories of the Sword', 'Cracks', '15 Minutes', 'Horns', 'The Life of David Gale', 'Pawn Sacrifice', 'Heist', 'We Are Your Friends', 'The Caller', 'Daft Punk Unchained', 'Spanglish', 'Beasts of No Nation', 'Sightseers', 'Mr Calzaghe', 'Bone Tomahawk', 'War Room', 'Mistress America', \"Good Luck Charlie, It's Christmas!\", 'Free to Play', 'Lost in the Sun', 'Jaco', 'The Invisible', 'Absolutely Anything', 'Jerusalem', 'Heartbreakers', 'Noble', 'At Middleton', 'The Hours', 'Love', 'The Little Prince', 'Amy', 'Mississippi Grind', 'Best of Enemies: Buckley vs. Vidal', 'Maze Runner: The Scorch Trials', 'Ant-Man', 'The Stanford Prison Experiment', 'Steve Jobs: The Man in the Machine', 'Ted 2', 'Youth', 'Assassination', 'Moondance Alexander', 'Listen to Me Marlon', 'Meru', 'Ronaldo', 'American Ultra', 'Tangerine', 'The End of the Tour', 'Mr. Holmes', 'Trainwreck', 'No Escape', 'The Gift', 'Minions', 'Vacation', 'The Man from U.N.C.L.E.', 'Self/less', 'Some Dogs Bite', 'The Grand Seduction', 'Flowers in the Attic', 'Paradise Found 2015', 'The Final Girls', 'Avengers: Age of Ultron', 'Entourage', 'Cop Car', 'Tomorrowland', 'Me and Earl and the Dying Girl', 'Rhymes for Young Ghouls', 'Jurassic World', 'San Andreas', 'Terminator Genisys', 'Mr Blue Sky: The Story of Jeff Lynne & ELO', 'Southpaw', 'The Search for Freedom', 'Ice Age', 'Child 44', 'Little Boy', 'Mission: Impossible - Rogue Nation', 'Z for Zachariah', 'Matchstick Men', 'Lifted', 'Sherrybaby', 'Rush Hour 2', 'Inside Out', 'Kites', 'Zulu', 'Zombieland', 'Zodiac', 'Zero Dark Thirty', 'Zathura: A Space Adventure', 'Zack and Miri Make a Porno', 'Youth Without Youth', \"You're Not You\", \"You're Next\", \"Your Sister's Sister\", 'Young Adult', 'Young Adam', 'Yes Man', 'X-Men 2', 'X-Men: The Last Stand', 'X-Men Origins: Wolverine', 'X-Men: First Class', 'X-Men: Days of Future Past', 'X-Men', 'Wyrmwood: Road of the Dead', 'Wrong Turn', 'Wrong Cops', 'Wrong', 'Wreck-It Ralph', \"World's Greatest Dad\", 'World War Z', 'World Trade Center', 'Words and Pictures', 'Wonder Woman', 'Womb', 'Woman in Gold', 'Wolf Creek', 'Wolf Creek 2', 'Wish I Was Here', \"Winter's Tale\", \"Winter's Bone\", 'Winnie the Pooh', 'Windtalkers', 'Win Win', 'Wimbledon', 'Wild Child', 'Wild', 'Whitey: United States of America v. James J. Bulger', 'White House Down', 'White Bird in a Blizzard', \"While We're Young\", 'Where the Wild Things Are', 'When the Game Stands Tall', \"What's Your Number?\", 'What Women Want', 'What We Do in the Shadows', 'What We Did on Our Holiday', 'What Richard Did', 'What Maisie Knew', 'What If', 'What Happens in Vegas', 'Whale Rider', 'Wet Hot American Summer', \"We're the Millers\", 'Wendy and Lucy', 'Welcome to the Punch', 'Weekend', 'Wedding Crashers', 'We Were Soldiers', 'We Still Kill the Old Way', 'We Own the Night', 'We Need to Talk About Kevin', 'We Bought a Zoo', 'We Are Marshall', 'Water for Elephants', 'Watchmen', 'Wasted on the Young', 'Warrior', 'Warm Bodies', 'War of the Worlds', 'War Horse', 'War', 'Wanted', 'WALL·E', 'Wall Street: Money Never Sleeps', 'Walking Tall', 'Walk of Shame', 'Waiting...', 'Violet & Daisy', 'V/H/S/2', 'Very Good Girls', 'Veronica Mars', 'Vantage Point', 'Vanilla Sky', 'Van Wilder: Party Liaison', 'Van Helsing', 'Valkyrie', 'Valhalla Rising', 'Vacancy', 'V for Vendetta', 'Upstream Color', 'Upside Down', 'Up in the Air', 'Up', 'Untraceable', 'Unthinkable', 'Unstoppable', 'Unleashed', 'Unknown', 'United 93', 'Unfinished Song', 'Unfaithful', 'Undisputed 3: Redemption', 'Underworld: Rise of the Lycans', 'Underworld: Evolution', 'Underworld Awakening', 'Underworld', 'Under the Tuscan Sun', 'Under the Skin', 'Under the Electric Sky', 'Undefeated', 'Unbroken', 'Unbreakable', 'U-571', 'Tyrannosaur', 'Two Night Stand', 'Two for the Money', 'Twice Born', 'Turks & Caicos', 'Turbo', 'Tucker and Dale vs Evil', 'TT3D: Closer to the Edge', 'True Story', 'True Grit', 'Troy', 'Trouble with the Curve', 'Tropic Thunder', 'TRON: Legacy', 'Trishna', 'Triple Dog', \"Trick 'r Treat\", 'Triangle', 'Treasure Planet', 'Transsiberian', 'Transporter 3', 'Transporter 2', 'Transformers: Revenge of the Fallen', 'Transformers: Dark of the Moon', 'Transformers', 'Transcendence', 'Traitor', 'Training Day', 'Traffic', 'Tracks', 'TPB AFK: The Pirate Bay Away from Keyboard', 'Toy Story 3', 'Tower Heist', 'Touching the Void', 'Total Recall', 'Top Five', 'Tomorrow, When the War Began', 'Tom and Jerry in Shiver Me Whiskers', 'TMNT', 'Tinker Tailor Soldier Spy', 'Tinker Bell and the Lost Treasure', 'Tinker Bell and the Legend of the NeverBeast', 'Tinker Bell and the Great Fairy Rescue', 'Tinker Bell', \"Tim's Vermeer\", 'Time Lapse', 'Thunder and the House of Magic', 'Three Night Stand', 'Thorne: Sleepyhead', 'Thorne: Scaredycat', 'Thor: The Dark World', 'Thor', 'This Must Be the Place', 'This Means War', 'This Is Where I Leave You', 'This Is the End', 'This Is England', 'This Is 40', 'Third Person', 'Think Like a Man', 'These Final Hours', 'These Amazing Shadows', 'There Will Be Blood', 'The Zero Theorem', 'The Wrestler', \"The World's End\", 'The Words', 'The Woman in Black', 'The Woman', 'The Wolverine', 'The Wolf of Wall Street', 'The Whistleblower', 'The Whisperer in Darkness', 'The Wedding Ringer', 'The Weather Man', 'The Way Way Back', 'The Way Back', 'The Watsons Go to Birmingham', 'The Water Horse', 'The Water Diviner', \"The Warrior's Way\", 'The Wackness', 'The Vow', 'The Voices', 'The United States of Leland', 'The Uninvited', 'The Ugly Truth', 'The Two Faces of January', 'The Truth About Emanuel', 'The Trotsky', 'The Trip to Italy', 'The Trials of Cate McCall', 'The Tree of Life', 'The Transporter', 'The Town', 'The Thing', 'The Theory of Everything', 'The Terminal', 'The Tale of Despereaux', 'The Taking of Pelham 123', 'The Taking of Deborah Logan', 'The Switch', 'The Sweeney', 'The Sunset Limited', 'The Sum of All Fears', 'The Strangers', 'The SpongeBob Movie: Sponge Out of Water', \"The Sorcerer's Apprentice\", 'The Social Network', 'The Snowtown Murders', 'The Skeleton Twins', 'The Skeleton Key', 'The Signal', 'The Selfish Giant', 'The Secret World of Arrietty', 'The Secret Life of Walter Mitty', 'The Second Best Exotic Marigold Hotel', 'The Seasoning House', 'The Score', 'The Sapphires', 'The Salvation', 'The Rundown', 'The Rum Diary', 'The Royal Tenenbaums', 'The Rover', 'The Rocker', 'The Road', 'The Rite', 'The Riot Club', 'The Ring', 'The Right Kind of Wrong', 'The Rewrite', 'The Retrieval', 'The Replacements', 'The Recruit', 'The Rebound', 'The Reader', 'The Raven', 'The Railway Man', 'The Raid: Redemption', 'The Pursuit of Happyness', 'The Purge: Anarchy', 'The Proposal', 'The Princess and the Frog', 'The Prestige', 'The Polar Express', 'The Place Beyond the Pines', 'The Pirates! Band of Misfits', 'The Pirate Fairy', 'The Pianist', 'The Physician', 'The Phantom of the Opera', 'The Perks of Being a Wallflower', 'The Perfect Storm', 'The Perfect Host', 'The Patriot', 'The Passion of the Christ', 'The Others', 'The Other Woman', 'The Other Guys', 'The Other Boleyn Girl', 'The One I Love', 'The Odd Life of Timothy Green', 'The Number 23', 'The November Man', 'The Notebook', 'The Normal Heart', 'The Next Three Days', 'The New World', 'The Myth of the American Sleepover', 'The Muppets', 'The Mummy Returns', 'The Mule', 'The Motel Life', 'The Monuments Men', 'The Mist', 'The Messenger', 'The Men Who Stare at Goats', 'The Mechanic', 'The Maze Runner', 'Matrix Revolutions', 'The Matrix Reloaded', 'The Master', 'The Man Who Shook the Hand of Vicente Fernandez', 'The Man from Nowhere', 'The Man from Earth', 'The Majestic', 'The Maiden Heist', 'The Magic of Belle Isle', 'The Machinist', 'The Machine', 'The Lucky One', 'The Lovely Bones', 'The Losers', 'The Lord of the Rings: The Two Towers', 'The Lord of the Rings: The Return of the King', 'The Lord of the Rings: The Fellowship of the Ring', 'The Lorax', 'The Lookout', 'The Look of Love', 'The Longest Yard', 'The Longest Ride', 'The Lone Ranger', 'The Loft', 'The Little Death', 'The Lion King 1 1/2', 'The Lincoln Lawyer', 'The Life Aquatic with Steve Zissou', 'The Lego Movie', 'The Legend Is Born: Ip Man', 'The Ledge', 'The Lazarus Project', 'The Last Stand', 'The Last Samurai', 'The Last Lions', 'The Last King of Scotland', 'The Lake House', \"The King's Speech\", 'The Kings of Summer', 'The Kingdom', 'The Kids Are All Right', 'The Karate Kid', 'The Judge', 'The Jacket', 'The Italian Job', 'The Island', 'The Iron Lady', 'The Invisible Woman', 'The Invention of Lying', 'The Interview', 'The Interpreter', 'The Internship', 'The International', 'The Inevitable Defeat of Mister & Pete', 'The Incredibles', 'The Incredible Hulk', 'The Inbetweeners Movie', 'The Inbetweeners 2', 'The Imposter', 'The Impossible', 'The Immigrant', 'The Imitation Game', 'The Illusionist', 'The Ides of March', 'The Iceman', 'The Hurt Locker', 'The Hunter', 'The Hunger Games: Mockingjay - Part 1', 'The Hunger Games: Catching Fire', 'The Hunger Games', 'The Hundred-Foot Journey', 'The Homesman', 'The Holiday', 'The Hobbit: The Desolation of Smaug', 'The Hobbit: The Battle of the Five Armies', 'The Hobbit: An Unexpected Journey', \"The Hitchhiker's Guide to the Galaxy\", 'The Hills Have Eyes', 'The Help', 'The Heat', 'The Harvest', 'The Hard Word', 'The Hangover Part II', 'The Hangover', 'The Guest', 'The Guardian', 'The Grey', 'The Greatest Game Ever Played', 'The Great Raid', 'The Great Gatsby', 'The Great Debaters', 'The Great Buck Howard', 'The Grand Budapest Hotel', 'The Good Shepherd', 'The Good Lie', 'The Golden Compass', 'The Giver', 'The Girl with the Dragon Tattoo', 'The Girl Next Door', 'The Gift', 'The Giant Mechanical Man', 'The Ghost Writer', 'The Gambler', 'The Frozen Ground', 'The Fountain', 'The Forbidden Kingdom', 'The Fluffy Movie: Unity Through Laughter', 'The Flowers of War', 'The Five-Year Engagement', 'The Fitzgerald Family Christmas', 'The First Time', 'The Final Member', 'The Fighter', 'The Fifth Estate', 'The Fault in Our Stars', 'The Fast and the Furious: Tokyo Drift', 'The Fast and the Furious', 'The Family Man', 'The Family', 'The Fall', 'The Face of Love', 'The Expendables 3', 'The Expendables', 'The Expendables 2', 'The Exorcism of Emily Rose', 'The Equalizer', 'The Entitled', 'The Encounter: Paradise Lost', 'The East', 'The Eagle', 'The Duke of Burgundy', 'The DUFF', 'The Duchess', 'The Drop', 'The Dreamers', 'The Double', 'The Door in the Floor', 'The Disappearance of Eleanor Rigby: Them', 'The Disappearance of Eleanor Rigby: Him', 'The Disappearance of Eleanor Rigby: Her', 'The Dictator', \"The Devil's Violinist\", \"The Devil's Double\", 'The Devil Wears Prada', 'The Details', 'The Descent', 'The Descendants', 'The Departed', 'The Deep End', 'The Debt', 'The Day After Tomorrow', 'The Dark Knight Rises', 'The Dark Knight', 'The Da Vinci Code', 'The Curious Case of Benjamin Button', 'The Croods', 'The Crazies', 'The Count of Monte Cristo', 'The Constant Gardener', 'The Conspirator', 'The Conjuring', 'The Congress', 'The Company You Keep', 'The Color of Magic', 'The Collector', 'The Collection', 'The Class of 92', 'The Chronicles of Riddick', 'The Chronicles of Narnia: The Voyage of the Dawn Treader', 'The Chronicles of Narnia: The Lion, the Witch and the Wardrobe', 'The Chronicles of Narnia: Prince Caspian', 'The Christmas Candle', 'The Change-Up', 'The Challenger Disaster', 'The Campaign', 'The Call', 'The Cabin in the Woods', 'The Butterfly Effect', 'The Burma Conspiracy', 'The Bucket List', 'The Brothers Bloom', 'The Broken Shore', 'The Boy in the Striped Pajamas', 'The Boxtrolls', 'The Bourne Ultimatum', 'The Bourne Supremacy', 'The Bourne Legacy', 'The Bourne Identity', 'The Boondock Saints II: All Saints Day', 'The Book Thief', 'The Book of Life', 'The Book of Eli', 'The Blind Side', 'The Black Balloon', 'The Big Year', 'The Big White', 'The Best Offer', 'The Best Man Holiday', 'The Best Exotic Marigold Hotel', 'The Beaver', 'The Beach', 'The Battery', 'The Bank Job', 'The Bachelor Weekend', 'The Babadook', 'The Awakening', 'The Aviator', 'The Avengers', 'The Artist', 'The Art of the Steal', 'The Art of Getting By', 'The Armstrong Lie', 'The Animatrix', 'The Amityville Horror', 'The American', 'The Amazing Spider-Man', 'The Amazing Spider-Man 2', 'The Adventures of Tintin', 'The Adjustment Bureau', 'The A-Team', 'The 84th Annual Academy Awards', 'The 40-Year-Old Virgin', \"That's What I Am\", 'That Awkward Moment', 'Thank You for Smoking', 'Testament of Youth', 'Terminator Salvation', 'Terminator 3: Rise of the Machines', 'Ted', 'Tangled', 'Talladega Nights: The Ballad of Ricky Bobby', 'Taking Lives', 'Takers', 'Taken 3', 'Taken', 'Taken 2', 'Take Shelter', 'Take Me Home Tonight', 'Syriana', 'Synecdoche, New York', 'Swordfish', 'Sweeney Todd: The Demon Barber of Fleet Street', 'S.W.A.T.', 'Surrogates', \"Surf's Up\", 'Supermensch: The Legend of Shep Gordon', 'Superman/Doomsday', 'Superman/Batman: Apocalypse', 'Superman vs. The Elite', 'Superman: Unbound', 'Superman Returns', 'Superbad', 'Super Troopers', 'Super 8', 'Super', 'Sunshine', 'Sucker Punch', 'Submarine', 'Stuck in Love', 'Stretch', 'Street Kings', 'Stranger Than Fiction', 'Storm Surfers 3D', 'Storm Rider', 'Stonehearst Asylum', 'Stoker', 'Still Mine', 'Still Alice', 'Step Up Revolution', 'Step Up All In', 'Step Up 3D', 'Step Up', 'Step Up 2: The Streets', 'Step Brothers', 'Stay', 'State of Play', 'Starsky & Hutch', 'Starred Up', 'Starlet', 'Stardust', 'Star Wars: Episode III - Revenge of the Sith', 'Star Wars: Episode II - Attack of the Clones', 'Star Trek: Nemesis', 'Star Trek: Into Darkness', 'Star Trek', 'Stand Up Guys', 'Stake Land', 'St. Vincent', 'Spy Game', 'Spud 3: Learning to Fly', 'Spud', 'Spud 2: The Madness Continues', 'Springsteen & I', 'Spring', 'Spirit: Stallion of the Cimarron', 'Spider-Man 3', 'Spider-Man', 'Spider-Man 2', 'Speed Racer', 'Speak', 'Spare Parts', 'Space Cowboys', 'Source Code', 'Soul Surfer', 'Soul Boys of the Western World', 'Sordid Lives', 'Song of the Sea', 'Son of a Gun', 'Some Guy Who Kills People', 'Solomon Kane', 'Snowpiercer', 'Snow White and the Huntsman', 'Snitch', 'Snatch', \"Smokin' Aces\", 'Smashed', 'Small Time', 'Slumdog Millionaire', 'Slow West', 'Skyfall', 'Sky High', 'Sky Captain and the World of Tomorrow', 'Sky Blue', 'Sinister', 'Sin City: A Dame to Kill For', 'Sin City', 'Silver Linings Playbook', 'Silent Hill', 'Signs', 'Sideways', 'Side Effects', 'Shutter Island', 'Shrek the Third', 'Shrek the Musical', 'Shrek Forever After', 'Shrek', 'Shrek 2', 'Short Term 12', 'Shooter', \"Shoot 'Em Up\", \"She's Out of My League\", 'Sherlock Holmes: A Game of Shadows', 'Sherlock Holmes', 'Shaun the Sheep Movie', 'Shaun of the Dead', 'Shanghai Knights', 'Shanghai', 'Shame', 'Shall We Dance', 'Shadow Dancer', 'Sexy Beast', 'Sex Drive', 'Seven Psychopaths', 'Seven Pounds', 'Seve the Movie', 'Serenity', 'Serendipity', 'Seraphim Falls', 'Selma', 'Seeking Justice', 'Seeking a Friend for the End of the World', 'Seduced and Abandoned', 'Secret Window', 'Secret of the Wings', 'Scream 4', 'Scott Pilgrim vs. the World', 'Scooby-Doo! WrestleMania Mystery', 'School of Rock', 'Scenic Route', 'Scary Movie', 'Saw VI', 'Saw III', 'Saw II', 'Saw', 'Saving Mr. Banks', 'Savannah', 'Savages', 'Salt', 'Salmon Fishing in the Yemen', 'Sahara', 'Safety Not Guaranteed', 'Safe House', 'Safe Haven', 'Safe', 'Rushlights', 'Rush Hour 3', 'Rush', 'Running Scared', 'Run, Fatboy, Run', 'Run All Night', 'Rudderless', 'Ruby Sparks', 'Rosewater', 'Room 237', 'Romeo Must Die', 'Roman Polanski: A Film Memoir', 'Role Models', 'Roger Dodger', 'Rocky Balboa', 'RocknRolla', 'Rock Star', 'Robots', 'Robot & Frank', 'RoboCop', 'Robin Hood', 'Rob the Mob', 'Road Trip', 'Road to Perdition', 'Road to Paloma', 'Rise of the Planet of the Apes', 'Rise of the Guardians', 'Rise of the Footsoldier', 'Rio', 'Rio 2', 'Righteous Kill', 'Ride Along', 'Riddick', 'Richard Pryor: Omit the Logic', 'Revolver', 'Revolutionary Road', 'Restless', 'Resolution', 'Resident Evil: Extinction', 'Resident Evil: Degeneration', 'Resident Evil: Damnation', 'Resident Evil: Apocalypse', 'Resident Evil', 'Rescue Dawn', 'Requiem for a Dream', 'Repo Men', 'Remember the Titans', 'Remember Me', 'Reign of Fire', 'Redirected', 'Red State', 'Red Riding: The Year of Our Lord 1974', 'Red Lights', 'Red Dragon', 'Red Dog', 'Red Army', 'RED', 'RED 2', 'Real Steel', 'Ray', 'Ratatouille', 'Rango', 'Capital Punishment', 'Ragamuffin', 'Quartet', 'Quarantine', 'Quantum of Solace', 'Puss in Boots', 'Push', 'Punk Love', 'Punisher: War Zone', 'Puncture', 'Punch-Drunk Love', 'Pulp: A Film About Life, Death and Supermarkets', 'Public Enemies', 'P.S. I Love You', 'Proof', 'Promised Land', 'Prometheus', 'Project X', 'Project Almanac', 'Prisoners', 'Prince of Persia: The Sands of Time', 'Prime', 'Pride & Prejudice', 'Pride and Glory', 'Pride', 'Premium Rush', 'Predestination', 'Predators', 'Powder Blue', 'Pope Joan', 'Polar Bears: A Summer Odyssey', 'Poker Night', 'Playing It Cool', 'Plastic', 'Planet Terror', 'Planes: Fire & Rescue', 'Pitch Perfect', 'Pitch Perfect 2', 'Pitch Black', 'Pirates of the Caribbean: The Curse of the Black Pearl', 'Pirates of the Caribbean: On Stranger Tides', \"Pirates of the Caribbean: Dead Man's Chest\", \"Pirates of the Caribbean: At World's End\", 'Pirate Radio', 'Pineapple Express', 'Phone Booth', 'Philomena', 'Perfume: The Story of a Murderer', 'Perfect Sense', 'People Like Us', 'Penguins of Madagascar', 'Pearl Harbor', 'Paycheck', 'Particle Fever', 'Parkland', 'Parker', 'Parental Guidance', 'ParaNorman', 'Paranormal Activity', 'Paper Towns', 'Papadopoulos & Sons', 'Pandorum', 'Palo Alto', 'Pain & Gain', 'Paid in Full', 'Paddington', 'Pacific Rim', 'Oz the Great and Powerful', 'Outlander', 'Out of Time', 'Out of the Furnace', 'Orphan', 'Original Sin', 'Ordinary Decent Criminal', 'Open Season', 'Open Range', 'Open Grave', 'Only Lovers Left Alive', 'One Life', 'One Hour Photo', 'One Day', 'One Chance', 'Once Upon a Time in Mexico', 'Once', 'On the Road', 'Olympus Has Fallen', 'Old School', 'Old Joy', 'Offender', 'Oculus', \"Ocean's Twelve\", \"Ocean's Thirteen\", \"Ocean's Eleven\", 'Obvious Child', 'Oblivion', 'O Brother, Where Art Thou?', 'Nymphomaniac: Vol. II', 'Now You See Me', 'Notorious', 'Nothing But the Truth', 'Northern Soul', 'Non-Stop', 'No Strings Attached', 'No Country for Old Men', 'Nitro Circus: The Movie', 'Ninja Assassin', \"Nim's Island\", 'Nightcrawler', 'Night Train to Lisbon', 'Night Moves', 'Night at the Museum: Secret of the Tomb', 'Night at the Museum', 'Next Friday', 'Next', 'Never Let Me Go', 'Never Back Down', 'Neighbors', 'Need for Speed', 'Nebraska', 'National Treasure: Book of Secrets', 'National Treasure', 'Narc', 'Napoleon Dynamite', 'Mythica: The Darkspore', 'Mystic River', 'Mystery Road', 'My Week with Marilyn', \"My Sister's Keeper\", 'My Old Lady', 'My Little Pony: Equestria Girls', 'My Big Fat Greek Wedding', 'Music and Lyrics', 'Murph: The Protector', 'Muppets Most Wanted', 'Munich', 'Mulholland Drive', 'Mud', 'Much Ado About Nothing', 'Mr. Turner', \"Mr. Popper's Penguins\", 'Mr. Peabody & Sherman', 'Mr. Nobody', 'Mr. & Mrs. Smith', 'Mr. Hockey: The Gordie Howe Story', 'Mr. Brooks', \"Mr. Bean's Holiday\", 'Moulin Rouge!', 'Mother of George', 'Mother and Child', 'Morning Glory', 'Moonrise Kingdom', 'Moon', 'Monsters vs. Aliens', 'Monsters University', 'Monsters, Inc.', 'Monster House', 'Monster High: Haunted', 'Monster', 'Moneyball', 'Molly Maxwell', 'Mission: Impossible III', 'Mission: Impossible II', 'Mission: Impossible - Ghost Protocol', 'Mirrors', 'Miracle', 'Minority Report', 'Mindhunters', 'Million Dollar Baby', 'Million Dollar Arm', 'Milk', 'Midnight in Paris', 'Mickey, Donald, Goofy: The Three Musketeers', 'Michael Clayton', 'Metropia', 'Metallica: Some Kind of Monster', 'Men of Honor', 'Men in Black II', 'Men in Black 3', 'Memoirs of a Geisha', 'Memento', 'Melancholia', 'Megamind', 'Meet the Robinsons', 'Meet the Parents', 'Meet the Fockers', 'Mean Girls', 'Me, Myself & Irene', 'McFarland, USA', 'Maya the Bee Movie', 'Master and Commander: The Far Side of the World', 'Mary and Max', 'Marvellous', 'Martha Marcy May Marlene', 'Marley & Me', 'Marley', 'Marina Abramovic: The Artist Is Present', 'Margin Call', 'Margaret', 'Maps to the Stars', 'Manny Lewis', 'Maniac', 'Mandela: Long Walk to Freedom', 'Man on Fire', 'Man on a Ledge', 'Man of Steel', 'Mamma Mia!', 'Mama', 'Maleficent', 'Magic Mike', 'Magic in the Moonlight', 'Madagascar: Escape 2 Africa', \"Madagascar 3: Europe's Most Wanted\", 'Madagascar', 'Mad Max: Fury Road', 'Machine Gun Preacher', 'Machete', 'Lucy', 'Lucky Them', 'Lucky Number Slevin', 'Lovelace', 'Love, Rosie', 'Love & Other Drugs', 'Love & Mercy', 'Love Is Strange', 'Love & Basketball', 'Love at the Christmas Table', 'Love Actually', 'Lost in Translation', 'Lord of War', 'Loosies', 'Looper', 'Lone Survivor', 'London Boulevard', 'Lockout', 'Locke', 'Local Color', 'Live Free or Die Hard', 'Little Miss Sunshine', 'Lincoln', 'Limitless', 'Lilting', 'Lilo & Stitch', 'Like Crazy', \"Life's a Breeze\", 'Life of Pi', 'Life of a King', 'Life in a Day', 'Life as We Know It', 'Lies & Alibis', 'Liberal Arts', 'Leviathan', 'Letters to Juliet', \"Let's Be Cops\", 'Let Me In', 'Les Misérables', 'A Series of Unfortunate Events', \"Legend of the Guardians: The Owls of Ga'Hoole\", 'Legally Blonde', \"Lee Daniels' The Butler\", 'Leave the World Behind', 'Leap Year', 'Le Week-End', 'Layer Cake', 'Lawless', 'Law Abiding Citizen', 'Late Phases', 'Last Vegas', 'Last Love', 'Last Knights', 'Lars and the Real Girl', 'Larry Crowne', 'Laggies', 'Ladder 49', 'Labor Day', 'Cobain: Montage of Heck', 'Kung Fu Panda', 'Kung Fu Panda 2', 'Kung Fu Hustle', 'Kumiko, the Treasure Hunter', 'Knowing', 'Knocked Up', 'Knight and Day', 'Kissing Jessica Stein', 'Kiss Kiss Bang Bang', 'Kingsman: The Secret Service', 'Kingdom of Heaven', 'King Kong', 'King Arthur', 'Killing Them Softly', 'Killer Joe', 'Killer Elite', 'Kill Your Darlings', 'Kill the Messenger', 'Kill List', 'Kill Bill: Vol. 2', 'Kill Bill: Vol. 1', 'Kidnapping Mr. Heineken', 'Kid Cannabis', 'Kick-Ass', 'Kick-Ass 2', 'K-PAX', 'K-19: The Widowmaker', 'Justice League: War', 'Justice League: The New Frontier', 'Justice League: Doom', 'Just Go with It', 'Just Friends', 'Just Before I Go', 'Juno', 'Jumper', 'Julie & Julia', 'Joy Ride', 'Johnny English Reborn', 'Johnny English', 'American Masters Johnny Carson: King of Late Night', 'John Q', 'John Doe: Vigilante', 'John Carter', 'Joe', \"Jodorowsky's Dune\", \"Jimmy's Hall\", 'Jersey Boys', 'Jeff, Who Lives at Home', 'Jeepers Creepers', 'Jay and Silent Bob Strike Back', 'Jarhead', 'Jane Eyre', 'Jamesy Boy', 'Bad Grandpa .5', 'Bad Grandpa', 'Jackass 3.5', 'Jack the Giant Slayer', 'Jack Ryan: Shadow Recruit', 'Jack Reacher', 'J. Edgar', \"It's Kind of a Funny Story\", \"It's Complicated\", 'It Follows', 'Ironclad', 'Iron Man 3', 'Iron Man', 'Iron Man 2', 'Ip Man', 'Ip Man 2', 'Invincible', 'Invictus', 'Into the Woods', 'Into the Wild', 'Into the Mind', 'Interview with a Hitman', 'Interstellar', 'Insurgent', 'Insomnia', 'Insidious: Chapter 2', 'Insidious', 'Inside Man', 'Inside Llewyn Davis', 'Inside Job', 'Inland Empire', 'Inkheart', 'Inherent Vice', 'Inglourious Basterds', 'Inequality for All', 'Indiana Jones and the Kingdom of the Crystal Skull', 'Inception', 'In Time', 'In the Loop', 'In Secret', \"In My Father's Den\", 'In Her Shoes', 'In Bruges', 'In a World...', 'Immortals', 'Immortal', 'Imaginaerum', \"I'll See You in My Dreams\", 'Ill Manors', \"I'll Follow You Down\", 'If I Stay', 'Idiocracy', 'Identity', 'Ice Age: The Meltdown', 'Ice Age: Dawn of the Dinosaurs', 'Ice Age: Continental Drift', 'Ice Age: A Mammoth Christmas', 'I Spit on Your Grave', 'I, Robot', 'I Origins', 'I Now Pronounce You Chuck & Larry', 'I Love You Phillip Morris', 'I Love You, Man', 'I Declare War', 'I Am Santa Claus', 'I Am Sam', 'I Am Number Four', 'I Am Legend', 'I Am Ali', 'Hysteria', 'Hunky Dory', 'Hunger', 'Hugo', 'How to Train Your Dragon', 'How to Train Your Dragon 2', 'How to Make Money Selling Drugs', 'How to Lose a Guy in 10 Days', 'How the Grinch Stole Christmas', 'How I Live Now', 'Housebound', 'House of Sand and Fog', 'House of Last Things', 'House of 1000 Corpses', 'Hours', 'Hounddog', 'Hotel Transylvania', 'Hotel Rwanda', 'Hot Tub Time Machine', 'Hot Rod', 'Hot Fuzz', 'Hostage', 'Horton Hears a Who!', 'Horrible Bosses', 'Horrible Bosses 2', 'Hope Springs', 'Homefront', 'Home Run', 'Home', 'Hitman', 'Hitchcock', 'Hitch', 'Hit and Run', 'Hide Your Smiling Faces', 'Hidalgo', \"He's Just Not That Into You\", 'Hereafter', 'Here Comes the Boom', 'Hercules', 'Her', 'Hello I Must Be Going', 'Hellion', 'Hellboy II: The Golden Army', 'Hellboy', 'Hector and the Search for Happiness', 'Heaven Knows What', 'Hateship Loveship', \"Hart's War\", 'Harsh Times', \"Harry Potter and the Sorcerer's Stone\", 'Harry Potter and the Prisoner of Azkaban', 'Harry Potter and the Order of the Phoenix', 'Harry Potter and the Half-Blood Prince', 'Harry Potter and the Goblet of Fire', 'Harry Potter and the Deathly Hallows: Part 2', 'Harry Potter and the Deathly Hallows: Part 1', 'Harry Potter and the Chamber of Secrets', 'Harry Brown', 'Harold & Kumar Go to White Castle', 'Harold & Kumar Escape from Guantanamo Bay', 'Hard Candy', 'Happythankyoumoreplease', 'Happy Feet', 'Hansel & Gretel: Witch Hunters', 'Hannibal Rising', 'Hannibal', 'Hanna', 'Hancock', 'Halloween', 'Hairspray', \"Hachi: A Dog's Tale\", 'Guardians of the Galaxy', 'Grudge Match', 'Grown Ups', 'Gridiron Gang', 'Greenberg', 'Green Zone', 'Green Street Hooligans', 'Green Lantern: Emerald Knights', 'Gravity', 'Grave Encounters', \"Grandma's Boy\", 'Gran Torino', 'Grace Is Gone']\n"
          ]
        }
      ]
    },
    {
      "cell_type": "code",
      "source": [
        "# finding the close match for the movie name given by the user\n",
        "\n",
        "find_close_match = difflib.get_close_matches(movie_name, list_of_all_titles)\n",
        "print(find_close_match)"
      ],
      "metadata": {
        "id": "c_0hID-mbtF_",
        "colab": {
          "base_uri": "https://localhost:8080/"
        },
        "outputId": "f4d13a80-4840-4836-d9df-cc85dfae1635"
      },
      "execution_count": 55,
      "outputs": [
        {
          "output_type": "stream",
          "name": "stdout",
          "text": [
            "['89']\n"
          ]
        }
      ]
    },
    {
      "cell_type": "code",
      "source": [
        "close_match = find_close_match[0]\n",
        "print(close_match)"
      ],
      "metadata": {
        "id": "cregfawSbwQx",
        "colab": {
          "base_uri": "https://localhost:8080/"
        },
        "outputId": "ecd163b7-5648-4b0b-cd26-9687c59f369d"
      },
      "execution_count": 56,
      "outputs": [
        {
          "output_type": "stream",
          "name": "stdout",
          "text": [
            "89\n"
          ]
        }
      ]
    },
    {
      "cell_type": "code",
      "source": [
        "# finding the Runtime of the movie with title\n",
        "\n",
        "index_of_the_movie = movies_data[movies_data.Title == close_match]['Runtime'].values[0]\n",
        "print(index_of_the_movie)"
      ],
      "metadata": {
        "id": "v2KdyzCyb0Lc",
        "colab": {
          "base_uri": "https://localhost:8080/"
        },
        "outputId": "e1279098-25f1-4fb9-b058-77474024727a"
      },
      "execution_count": 57,
      "outputs": [
        {
          "output_type": "stream",
          "name": "stdout",
          "text": [
            "91.0\n"
          ]
        }
      ]
    },
    {
      "cell_type": "code",
      "source": [
        "# getting a list of similar movies\n",
        "\n",
        "similarity_score = list(enumerate(similarity[index_of_the_movie]))\n",
        "print(similarity_score)"
      ],
      "metadata": {
        "id": "dTvObljtb6tR",
        "colab": {
          "base_uri": "https://localhost:8080/",
          "height": 227
        },
        "outputId": "cc3f656d-7147-4737-f25e-fa1610d4be90"
      },
      "execution_count": 64,
      "outputs": [
        {
          "output_type": "error",
          "ename": "IndexError",
          "evalue": "ignored",
          "traceback": [
            "\u001b[0;31m---------------------------------------------------------------------------\u001b[0m",
            "\u001b[0;31mIndexError\u001b[0m                                Traceback (most recent call last)",
            "\u001b[0;32m<ipython-input-64-dd9d1796f8b6>\u001b[0m in \u001b[0;36m<cell line: 3>\u001b[0;34m()\u001b[0m\n\u001b[1;32m      1\u001b[0m \u001b[0;31m# getting a list of similar movies\u001b[0m\u001b[0;34m\u001b[0m\u001b[0;34m\u001b[0m\u001b[0m\n\u001b[1;32m      2\u001b[0m \u001b[0;34m\u001b[0m\u001b[0m\n\u001b[0;32m----> 3\u001b[0;31m \u001b[0msimilarity_score\u001b[0m \u001b[0;34m=\u001b[0m \u001b[0mlist\u001b[0m\u001b[0;34m(\u001b[0m\u001b[0menumerate\u001b[0m\u001b[0;34m(\u001b[0m\u001b[0msimilarity\u001b[0m\u001b[0;34m[\u001b[0m\u001b[0mindex_of_the_movie\u001b[0m\u001b[0;34m]\u001b[0m\u001b[0;34m)\u001b[0m\u001b[0;34m)\u001b[0m\u001b[0;34m\u001b[0m\u001b[0;34m\u001b[0m\u001b[0m\n\u001b[0m\u001b[1;32m      4\u001b[0m \u001b[0mprint\u001b[0m\u001b[0;34m(\u001b[0m\u001b[0msimilarity_score\u001b[0m\u001b[0;34m)\u001b[0m\u001b[0;34m\u001b[0m\u001b[0;34m\u001b[0m\u001b[0m\n",
            "\u001b[0;31mIndexError\u001b[0m: only integers, slices (`:`), ellipsis (`...`), numpy.newaxis (`None`) and integer or boolean arrays are valid indices"
          ]
        }
      ]
    },
    {
      "cell_type": "code",
      "source": [
        "len(similarity_score)"
      ],
      "metadata": {
        "id": "td8g8v6hb_aE",
        "colab": {
          "base_uri": "https://localhost:8080/",
          "height": 175
        },
        "outputId": "490e75ba-2845-4fa8-ba8a-0ac915347ae3"
      },
      "execution_count": null,
      "outputs": [
        {
          "output_type": "error",
          "ename": "NameError",
          "evalue": "ignored",
          "traceback": [
            "\u001b[0;31m---------------------------------------------------------------------------\u001b[0m",
            "\u001b[0;31mNameError\u001b[0m                                 Traceback (most recent call last)",
            "\u001b[0;32m<ipython-input-40-ec79aed2c574>\u001b[0m in \u001b[0;36m<cell line: 1>\u001b[0;34m()\u001b[0m\n\u001b[0;32m----> 1\u001b[0;31m \u001b[0mlen\u001b[0m\u001b[0;34m(\u001b[0m\u001b[0msimilarity_score\u001b[0m\u001b[0;34m)\u001b[0m\u001b[0;34m\u001b[0m\u001b[0;34m\u001b[0m\u001b[0m\n\u001b[0m",
            "\u001b[0;31mNameError\u001b[0m: name 'similarity_score' is not defined"
          ]
        }
      ]
    },
    {
      "cell_type": "code",
      "source": [
        "# sorting the movies based on their similarity score\n",
        "\n",
        "sorted_similar_movies = sorted(similarity_score, key = lambda x:x[1], reverse = True)\n",
        "print(sorted_similar_movies)"
      ],
      "metadata": {
        "id": "bRL3hb3-cDKz",
        "colab": {
          "base_uri": "https://localhost:8080/"
        },
        "outputId": "2f6e1c03-760a-47ed-b7c1-ad9eb46ff8e8"
      },
      "execution_count": null,
      "outputs": [
        {
          "output_type": "stream",
          "name": "stdout",
          "text": [
            "[(91, 1.0000000000000002), (17, 0.1659536766728308), (510, 0.12557819600742648), (1967, 0.12554846009927162), (1031, 0.11019946039042386), (3182, 0.10077025350586073), (3911, 0.09642674251566738), (573, 0.09556607210906284), (3398, 0.0928217349112489), (1643, 0.08760163271733348), (1180, 0.08311301598191306), (1827, 0.07913817238664286), (167, 0.0786229576198461), (1473, 0.07796266879040994), (1974, 0.07748127933869473), (1679, 0.0774385996024145), (1142, 0.07716465602220232), (1273, 0.07643489551700768), (3562, 0.07541266454398408), (1882, 0.07424653329915917), (491, 0.07412599244827359), (1811, 0.07405664671513529), (3337, 0.07378322647049067), (1699, 0.07378204679465714), (1394, 0.07278547849343672), (1066, 0.07270745583175334), (2284, 0.07253422563881112), (728, 0.07245968483137322), (1252, 0.07245576799597495), (533, 0.07221963466620349), (547, 0.07200001061797887), (2462, 0.07166597419722975), (2672, 0.07070755476592622), (1660, 0.07038240034710432), (2800, 0.06979116325147591), (1209, 0.06952538693943074), (1065, 0.06937188069541264), (77, 0.0690171831463093), (37, 0.06866832091492683), (3156, 0.06846580616067305), (61, 0.06837949687821415), (3411, 0.06816221060128683), (1224, 0.06702524834290191), (2378, 0.06696372848438474), (852, 0.06637837869958844), (2044, 0.06589630842171487), (2327, 0.06589424972430076), (1023, 0.06585708857116214), (282, 0.06570812255335391), (1912, 0.06540653519858233), (1327, 0.06424559290575392), (3867, 0.06370984910814297), (3544, 0.06333642811469006), (3912, 0.06329257297686859), (2690, 0.06320614471182256), (171, 0.06284270072953774), (3328, 0.06275209221750833), (1704, 0.06222201832318527), (578, 0.06194555139569534), (1064, 0.06191964071493327), (3214, 0.0616050724186595), (1815, 0.061208911319987236), (3783, 0.060863574494740766), (1913, 0.06068097781473018), (3301, 0.06040953622881024), (216, 0.060280997396157346), (2380, 0.06022036335862551), (1911, 0.06011194177304052), (7, 0.05998785729609964), (2055, 0.059517253171409004), (729, 0.059270512422123924), (714, 0.05900325105685727), (982, 0.05899417092673809), (201, 0.05857731923507179), (300, 0.0585472444763846), (3640, 0.05831629001824502), (366, 0.05758289152638902), (2153, 0.05757680440048794), (866, 0.057150364679781615), (899, 0.05706098484960853), (371, 0.056961524931482994), (3718, 0.056949757246145774), (1926, 0.05683845741059841), (3268, 0.05680217445580014), (2340, 0.05663630764889228), (196, 0.056314397813129746), (2170, 0.05620033714163195), (121, 0.056055175373630174), (1915, 0.05580566458874584), (3008, 0.05575922740020802), (3856, 0.05536835086869502), (261, 0.05532219989922478), (1977, 0.05524277312766872), (402, 0.05524032545138778), (3082, 0.055172548479443174), (2160, 0.054468303681009834), (3921, 0.054395539615232885), (3861, 0.05387016928951603), (3896, 0.05338980674678516), (2156, 0.05327469734005539), (39, 0.053178511181166226), (889, 0.052916381179524394), (10, 0.052814155551413174), (3119, 0.0522440447845054), (717, 0.05210346331467678), (3413, 0.05172697172090892), (3937, 0.05150247234412129), (310, 0.05120818881469743), (645, 0.05098345258535521), (3545, 0.05085715862023583), (401, 0.04922047515136135), (3218, 0.048503042954139576), (3797, 0.04831563739442993), (146, 0.04768334693497096), (1914, 0.04636600532849904), (2461, 0.04567254364606078), (45, 0.04408355193055929), (1354, 0.041810363630911986), (1355, 0.04103364726213317), (1748, 0.040361268998691927), (1805, 0.03852999117545379), (1824, 0.03680968307892631), (2041, 0.034407428988802835), (1507, 0.03435645769546692), (3726, 0.03347528919042428), (1358, 0.03001905413953805), (1614, 0.029462438119098495), (2738, 0.02907863771134347), (2522, 0.028596463850150064), (3734, 0.028368461659191328), (910, 0.02834042206702256), (2585, 0.028299599857130635), (2013, 0.02804658760703139), (1374, 0.028020673646361353), (2383, 0.027919829434324517), (849, 0.027640860679029426), (3573, 0.02749537278558906), (3347, 0.027308570836404995), (343, 0.027174486936251553), (404, 0.02698977180254781), (638, 0.02697982481068893), (1502, 0.02689799874136762), (605, 0.02676747512923127), (1251, 0.026709498786204586), (2296, 0.026633281354690334), (2587, 0.02651021854892068), (2070, 0.02650087514958384), (1855, 0.02637803171643399), (3676, 0.026372647680045706), (2030, 0.02628693591710469), (3266, 0.02618671859337937), (28, 0.026147446325795243), (1832, 0.026027503750258144), (3080, 0.025988687238273942), (961, 0.025866973248150387), (328, 0.02585973788929777), (3006, 0.025787339323092462), (3502, 0.025606613862156284), (3846, 0.02547397364745031), (2790, 0.025437812418973058), (794, 0.025419134568853703), (268, 0.025341349986948584), (1003, 0.025323459945153542), (1530, 0.025299122861809263), (2338, 0.025265453635287885), (1310, 0.025209968616712066), (1255, 0.025171719211246953), (616, 0.025153156816163324), (1402, 0.025127484144562173), (143, 0.02499828998706208), (1263, 0.024959112969159383), (1493, 0.024950739170951225), (3118, 0.024895645138757277), (2352, 0.024845412459039984), (1459, 0.02483025837027803), (346, 0.02478985194260152), (1114, 0.024753926166222982), (375, 0.024720294623486325), (1854, 0.024665429002812978), (3152, 0.0246397284148776), (2193, 0.024545653355174963), (635, 0.02452817113340761), (3063, 0.024421497281839462), (701, 0.02438787008140006), (2120, 0.024322525930315853), (1496, 0.024299082855603612), (1645, 0.024290251309683018), (1229, 0.024275266841046368), (1353, 0.024199541991715354), (1250, 0.02419876956555643), (544, 0.024194603131825598), (1646, 0.02400853137596483), (211, 0.024005410915467297), (3269, 0.02400141983400915), (1963, 0.023968125529701168), (3372, 0.023927963283467375), (674, 0.023869895179232634), (3883, 0.023867849367430395), (3678, 0.0238523613619291), (3602, 0.023845142348041727), (154, 0.02383166957647965), (1549, 0.02377366616012142), (3636, 0.023759045427138456), (3392, 0.023742318161491298), (3610, 0.023740674736071856), (538, 0.023713841399032983), (576, 0.023677707997650198), (1750, 0.023633568993432445), (3550, 0.02362712463695101), (1274, 0.02361671636958802), (214, 0.023586191020112696), (3122, 0.02358258616857335), (1321, 0.023547615899269028), (2373, 0.02351465146398681), (743, 0.023511932294818422), (49, 0.02346402578396581), (1463, 0.023435984557534404), (2830, 0.023408491432665123), (2390, 0.02340156132823509), (457, 0.023399235793800433), (1835, 0.023379710694436784), (3133, 0.023372330787058433), (1347, 0.023360518989237862), (1505, 0.023338798611575926), (1311, 0.02333430834078766), (1315, 0.02332360193603026), (3494, 0.0232828701723194), (3647, 0.023280215593917963), (3790, 0.023262522866673095), (1476, 0.02326196747719188), (2599, 0.023135481861661235), (2760, 0.02310313712166004), (2253, 0.023092485949486347), (2789, 0.02307052420604715), (939, 0.023047234717016828), (3482, 0.023046988700410852), (1564, 0.022963439984315853), (704, 0.022950625755164517), (3132, 0.022890520445678526), (2391, 0.02288461372976054), (387, 0.022828460955186036), (3594, 0.02277432531670734), (1989, 0.022773878949160047), (2339, 0.02277151276989374), (1478, 0.022764310702860304), (1932, 0.02274829209093162), (2757, 0.022741328037784822), (117, 0.022720663162480642), (2029, 0.022710055920334166), (1243, 0.022657725720803424), (1377, 0.02264591253127818), (942, 0.022631472672472036), (1771, 0.022622303083350056), (272, 0.02261984603843938), (2504, 0.022618887484931457), (1477, 0.02257986627782227), (1299, 0.022527237290861816), (2335, 0.0225244006929001), (1789, 0.022473970648660146), (2792, 0.02243736126858064), (252, 0.0224089145167646), (3794, 0.02222912927599724), (2751, 0.022158509170952648), (1960, 0.022148308777120693), (504, 0.0221479275341185), (1556, 0.022124737641241697), (1328, 0.022066722324599455), (2488, 0.022019897951541637), (12, 0.021996198227273195), (1257, 0.02194263760848254), (2736, 0.021931965826995463), (532, 0.021886789834357386), (2782, 0.021880264986420445), (3509, 0.021864431769563028), (208, 0.021844548412225745), (627, 0.021827384825861735), (88, 0.021728812441343393), (2717, 0.02169199364326269), (654, 0.021666277454150357), (1506, 0.021666087886439204), (1706, 0.021626479441192496), (350, 0.021553390315254446), (3779, 0.02152465223454629), (519, 0.021471027899305706), (2923, 0.021434361927495), (2847, 0.02139488309950825), (1181, 0.021351064688586607), (1469, 0.021336740952459236), (377, 0.021329517148584953), (1580, 0.021305586286343433), (3901, 0.02127394184216646), (1412, 0.021263289754818577), (3267, 0.02124802970400435), (1774, 0.021183835134563074), (405, 0.0211685764846888), (3757, 0.021156393019376003), (1683, 0.021125596022182596), (3761, 0.02108167371082735), (3551, 0.021058406930013582), (1121, 0.0210378937339107), (251, 0.021021706783338524), (1959, 0.0209833862400139), (38, 0.020923561155632087), (1702, 0.02089362279205656), (1584, 0.02082937578310644), (3091, 0.020767761327811555), (2654, 0.020646116940471745), (3914, 0.02063459376680447), (1017, 0.020627075912953687), (686, 0.020612339360085476), (3, 0.0205409113990027), (524, 0.020537773838379188), (3688, 0.02053600563738376), (170, 0.020502436700643535), (2433, 0.02044904521328595), (3910, 0.020409837501495193), (3279, 0.020340444718448373), (1392, 0.02033508170274798), (358, 0.02032210089835392), (2953, 0.020304451151391706), (1749, 0.02028094955099917), (3314, 0.02019863577074391), (2167, 0.02019460202405329), (3920, 0.020178458088729756), (1413, 0.020176970196133116), (1566, 0.020125080039476353), (1680, 0.020113198579182916), (968, 0.02010437438140114), (1904, 0.02007801460257335), (3010, 0.02004806675505196), (926, 0.02003855494370309), (2809, 0.020033211583517195), (1057, 0.020032164999721956), (1895, 0.020027798996346602), (397, 0.020013418699809573), (2802, 0.019988342529206966), (3238, 0.019962081080795613), (2503, 0.019936092773921235), (2502, 0.019903317672794667), (3235, 0.019858151839082083), (1205, 0.019801618651931883), (2644, 0.01979282228991447), (3466, 0.019739572004741163), (1529, 0.019728572163917282), (2687, 0.01971680425175402), (2432, 0.01971454630808368), (2512, 0.019641645750770303), (1148, 0.019638174895455145), (50, 0.019636106189232165), (212, 0.019628830336811693), (1825, 0.019614307016146523), (1826, 0.0194171958292555), (3584, 0.019367135530718914), (1258, 0.01928823733071499), (1446, 0.019215739321690135), (2879, 0.019203319880880677), (1306, 0.019142111482226182), (639, 0.019062633365132586), (3628, 0.019040985476076903), (3169, 0.019029935143293052), (3145, 0.019007528168803845), (1265, 0.018987633514282135), (957, 0.018971679688471285), (2148, 0.018922683104953847), (1259, 0.018912241834028096), (2233, 0.018895512755137327), (3205, 0.01889397909433483), (3520, 0.018892786154106313), (2450, 0.01888750857349663), (1548, 0.018879889499848066), (1509, 0.018870093036867805), (3179, 0.01882688777152152), (2238, 0.018797985544754064), (1633, 0.018739404812619636), (3763, 0.018721501928514784), (2916, 0.018704429444160637), (1082, 0.018682870564829774), (2195, 0.018678942102092838), (3366, 0.01867418390096149), (2235, 0.018636010060873166), (3449, 0.018634733437519334), (3862, 0.01861966552766482), (2040, 0.01856762847268637), (3181, 0.018543132757280804), (2421, 0.01846849768438714), (760, 0.018414163695984528), (1182, 0.018296380429516416), (1200, 0.018294397017651263), (832, 0.018288351436120027), (1342, 0.01824718458414169), (3642, 0.018194023397475875), (3428, 0.018191861641648672), (179, 0.018191142551094268), (2900, 0.01817102107332717), (3706, 0.01804865966273803), (2194, 0.01804645973978913), (2869, 0.018037454719227648), (3524, 0.018034359070170196), (1246, 0.018009643964423408), (1620, 0.01797792161596589), (3280, 0.01796754116872993), (624, 0.017918192813308913), (2232, 0.01787059616763044), (1289, 0.01785843081198243), (3786, 0.017834199911866473), (3246, 0.017743051540815326), (206, 0.017711653476095525), (3236, 0.01765441394441488), (3220, 0.017588725395337436), (463, 0.017556566064641906), (3092, 0.017465439283298356), (307, 0.01746077711436934), (355, 0.017337080986409344), (1569, 0.017333098301162957), (2911, 0.01731905104372495), (3571, 0.01715638519885509), (650, 0.01714833789586871), (2099, 0.01713540765822643), (791, 0.01711888841087314), (3865, 0.01704385999652249), (1619, 0.01701238002741304), (2650, 0.016965484811562927), (3581, 0.01688381595440334), (862, 0.016856460440699498), (3538, 0.016791452151164326), (2349, 0.016776756247118628), (34, 0.016685295436608984), (2, 0.016673623535067572), (1059, 0.01663102565479206), (2964, 0.016573472072738477), (3812, 0.016419753876977493), (593, 0.01637259976647937), (1508, 0.016362586681812456), (3596, 0.01625039769375537), (1387, 0.01612871716779895), (3823, 0.01611894344861833), (3048, 0.015972276047493857), (3074, 0.015901728076299367), (857, 0.015747872021427314), (345, 0.01574491504195544), (3749, 0.01566007576564513), (3605, 0.015649497210856005), (3469, 0.015642186088356883), (2059, 0.015624813527978693), (885, 0.015469606956374124), (3818, 0.015345472768546448), (989, 0.01529622740668472), (778, 0.015202049326049114), (2542, 0.014929440027056956), (3820, 0.014899214098086018), (3582, 0.014802411235537025), (2110, 0.014489465789680082), (3819, 0.01442479027333488), (1026, 0.013989373939508946), (3240, 0.011861266204858818), (3143, 0.007118356519371432), (810, 0.006721320922390881), (2031, 0.006593543695057827), (779, 0.00656458812970707), (439, 0.00639070904260127), (2707, 0.006301013403120576), (1261, 0.00624094639571393), (2247, 0.006218736120492597), (812, 0.006171185882181474), (3100, 0.0061451461949262945), (2895, 0.006104094717573854), (1451, 0.006077855443161528), (549, 0.006031539433842884), (2566, 0.006010919391794514), (2071, 0.005992920765517912), (1498, 0.005990258820299479), (2280, 0.005976300033536423), (1488, 0.005973947637010477), (1919, 0.005968708432204859), (2424, 0.0059659602105868416), (229, 0.005965450501879293), (477, 0.005945117505971843), (1686, 0.005931467553805372), (1943, 0.005895833575939283), (2487, 0.005886944545746968), (864, 0.005885686963711664), (2866, 0.005878315306050213), (2332, 0.005871559560838749), (958, 0.005868014930363669), (1486, 0.0058667191456525155), (2440, 0.005858978890058789), (2248, 0.005858170107551957), (1552, 0.005856778700812138), (1450, 0.005856009437552992), (1405, 0.005854387639626151), (3422, 0.005848015466649874), (3477, 0.005841734360873181), (1782, 0.0058123511030535435), (2769, 0.005808545701502522), (2137, 0.005799831222106192), (764, 0.005796006571955465), (1799, 0.005782844057276599), (386, 0.005776827716648303), (1112, 0.005772176834619787), (1260, 0.005770516059507777), (1241, 0.005769275352590848), (1978, 0.005767861825257184), (2416, 0.005766800236520723), (1351, 0.005761129815235439), (2655, 0.005760431721284479), (1378, 0.005759820474141712), (1303, 0.005738276822515461), (2656, 0.0057359816486745666), (3226, 0.005728058562306536), (1743, 0.005725017346104074), (2774, 0.005724792333952779), (2664, 0.005719919628132503), (3216, 0.00571336059993441), (1283, 0.00571245798855662), (1256, 0.005708348656863768), (2319, 0.005705094999169978), (649, 0.005693615454324305), (3090, 0.005693411378956697), (2476, 0.0056916132034683315), (2551, 0.005688434489393897), (1403, 0.005670983948963425), (2722, 0.005664892611012733), (475, 0.005661608404269067), (2152, 0.005661191035247974), (1798, 0.005659497635280659), (2618, 0.005654532135180879), (2257, 0.005648821399636766), (1638, 0.005648464604025746), (1474, 0.005647710020587746), (1425, 0.005646950383732311), (2389, 0.005644980110553227), (1485, 0.005640669446745888), (1606, 0.005638849197524215), (2297, 0.005637563191735105), (2610, 0.0056302647098579245), (2624, 0.005630243459484291), (2715, 0.00562724048632685), (2123, 0.005623934375617895), (1443, 0.005623255767103545), (450, 0.005620797834174495), (766, 0.005613397797048078), (2761, 0.0056103183132819485), (2588, 0.005608643194615108), (239, 0.005601663179357196), (2321, 0.005597160300572329), (843, 0.005594159074951021), (1848, 0.005593498743144253), (2077, 0.005593165817165722), (3650, 0.005589026317949509), (2517, 0.005585512818937358), (1802, 0.00558474840024908), (2983, 0.00558386813452308), (1185, 0.005578481023110788), (2515, 0.00557155236713469), (834, 0.005568098322817597), (1570, 0.0055643988282751775), (1293, 0.005562769261224925), (326, 0.00556161083076038), (2384, 0.005560470671113147), (1831, 0.0055568172619410465), (2330, 0.005554059144056911), (3358, 0.005553838948394925), (3075, 0.0055486555684004304), (731, 0.005544771424078315), (2630, 0.00553811869047373), (1126, 0.005532506930951692), (1491, 0.005532202976427621), (529, 0.005531103714513138), (1277, 0.005523834449315442), (1139, 0.005523133958059031), (2565, 0.005521572019231855), (1408, 0.005520379494861222), (2628, 0.005516650434982112), (2361, 0.0055148234828526314), (273, 0.005513487800906814), (1599, 0.005512376800353178), (1712, 0.005505067955304121), (2684, 0.005504342711566881), (443, 0.005504293531786984), (2444, 0.005503737027157831), (2927, 0.005501792661233006), (792, 0.005501456737588336), (1381, 0.005497606481070445), (642, 0.005497469414626935), (892, 0.005495463706409503), (904, 0.005495155931038791), (531, 0.005483060093620684), (3057, 0.005482631286890105), (3848, 0.005482603155369208), (2007, 0.005478666205635153), (2370, 0.005476594812024474), (2016, 0.005475053062286305), (1115, 0.005470772066234007), (2180, 0.005465383809684415), (1156, 0.005461433277828506), (2093, 0.005453817487517215), (2229, 0.005453117919036676), (1235, 0.005450674637882067), (2889, 0.005449256817084094), (1950, 0.005444545704314804), (828, 0.0054444587567476265), (2485, 0.005442957524770767), (2935, 0.005439153837161789), (1167, 0.005438851238574508), (1382, 0.005436308567752816), (2304, 0.0054333378976438845), (2693, 0.005433128307337973), (1797, 0.00543303292729754), (1034, 0.005432752324413174), (3040, 0.005432725331025689), (715, 0.00543244794199398), (2251, 0.005427508960021217), (2359, 0.00542492369960198), (2392, 0.00542107784560327), (867, 0.005420140973583306), (1070, 0.005419460604612), (757, 0.005418673181228687), (1146, 0.005413141718840075), (1725, 0.005411340048062229), (3729, 0.005410800316379324), (3407, 0.00540636823368454), (1004, 0.005406102887999159), (2249, 0.0054039854062495115), (2552, 0.005402373244264223), (1137, 0.005400107747008325), (339, 0.005394847614387443), (1398, 0.005392657918861762), (921, 0.005388331799029434), (1902, 0.005387297558189057), (2982, 0.005387027941223887), (2609, 0.005386620854141726), (2239, 0.005383139698525279), (2419, 0.005381411441740065), (1324, 0.005380382234236278), (941, 0.005380300586224799), (3368, 0.0053742757091551135), (2535, 0.0053727587598886946), (3289, 0.0053725680916623855), (2776, 0.0053710628911434535), (1134, 0.005369526714946942), (1356, 0.005369215615982321), (2048, 0.0053682253397758315), (3332, 0.005365687563262632), (277, 0.005364344699998885), (2696, 0.005363528847024673), (2714, 0.0053611296369327766), (1525, 0.005359579372489312), (2019, 0.005357728874630628), (2863, 0.005354826066184021), (3000, 0.005352919186581865), (3165, 0.005348409106419504), (984, 0.005346283427968319), (543, 0.005343862606749702), (3393, 0.005341113456778796), (2171, 0.005340643712425925), (3611, 0.005340381673071603), (2486, 0.00533793430263921), (944, 0.005336659184417668), (2788, 0.005336438027972806), (3371, 0.005333606600313751), (1729, 0.005330116857520176), (2403, 0.005329700778266204), (1698, 0.005329698344447693), (1297, 0.005327866944365927), (2103, 0.005326635167042913), (2659, 0.005325629264141055), (2758, 0.005322337650053263), (472, 0.005321188103603859), (2556, 0.005318537020387452), (305, 0.005318487893990475), (1818, 0.005315127295976849), (1108, 0.005314596552382228), (3537, 0.005314112133205011), (3747, 0.005313838657321423), (2968, 0.005313131856015901), (2401, 0.005311221091673208), (2741, 0.0053107456423392325), (2602, 0.005310643122086844), (1101, 0.005307191033464091), (2506, 0.005304623040128464), (1178, 0.005304454987008103), (1468, 0.005297443058448536), (545, 0.005296427220984631), (1042, 0.005294121284572163), (1613, 0.005293785318276063), (3121, 0.005292806287387853), (3233, 0.005292669977185263), (2591, 0.0052926010560247), (2572, 0.005292450155997575), (3766, 0.005291822021369625), (1168, 0.005291094277824124), (418, 0.005291042415098802), (2135, 0.005289893482577871), (758, 0.005289183464230139), (927, 0.005287917643432528), (1326, 0.005287801233212675), (761, 0.005287376074303378), (2662, 0.005284515673547724), (572, 0.005283848029549758), (847, 0.0052803273472945035), (1372, 0.005276744539660804), (2177, 0.005276466794395044), (1266, 0.005275736189070887), (2095, 0.005273853627266938), (3735, 0.005272118683893153), (2508, 0.005269204929120125), (2323, 0.005268495916088331), (1352, 0.00526829717909523), (2984, 0.00526824420116229), (2908, 0.0052666935521403155), (3659, 0.00526481355692183), (1746, 0.005264628959333169), (227, 0.005264566753580848), (3227, 0.005262488212390726), (2716, 0.0052565408194693115), (3484, 0.0052563819238185235), (1834, 0.005256109135355479), (3409, 0.0052557326885505715), (2640, 0.005255203863063112), (3641, 0.005254622602516597), (2298, 0.0052536765371198856), (1982, 0.005253583721278838), (2334, 0.005251506143105368), (1077, 0.005249575140445197), (577, 0.0052488831275218795), (18, 0.005246439414351343), (1715, 0.005245475949854324), (1024, 0.005241887056423413), (732, 0.005239239532134158), (2913, 0.005238861759366429), (1038, 0.005230462465212387), (1668, 0.0052299551473174765), (1253, 0.00522952266496639), (1417, 0.005226710068957692), (3506, 0.005225136900717116), (1787, 0.00522169806164474), (3131, 0.005221497550445089), (655, 0.005214991876278168), (1075, 0.0052116612203881845), (293, 0.005210464456810074), (936, 0.005209554273227367), (246, 0.005208210099208143), (3618, 0.005208004738448971), (1369, 0.005207479557378432), (2607, 0.005206719970450381), (2006, 0.005206414782803509), (2100, 0.005203790001098344), (2938, 0.0052037475256495914), (1051, 0.00520360062168492), (986, 0.00520072973101628), (3037, 0.005200034946244363), (1490, 0.005197328566103528), (1040, 0.0051971959502907636), (1577, 0.005196802457091808), (2348, 0.005196434964828817), (279, 0.005194820837874841), (2178, 0.005194120444787828), (2558, 0.005192130491676117), (1649, 0.0051911251154121135), (51, 0.0051907592227303295), (1240, 0.00519020814057837), (194, 0.005190079726857932), (1987, 0.005189178292342014), (2064, 0.005188909145202278), (2004, 0.005188415204986948), (3517, 0.005188195527855752), (3051, 0.005185767253645525), (1427, 0.005185081770989466), (610, 0.0051846086097466415), (2975, 0.005184149232638881), (1808, 0.005181926533783158), (2139, 0.005180885619558929), (2819, 0.005180863237619668), (894, 0.005179244481448707), (3282, 0.005179209445230762), (952, 0.0051755422045923), (1375, 0.005172751723385189), (2140, 0.005171149307442411), (2695, 0.005171122520549987), (788, 0.005169120777672027), (2386, 0.005169069599003785), (87, 0.005168381728413817), (2756, 0.005167218527825018), (2039, 0.005165456297991649), (2356, 0.0051634006477658395), (3012, 0.0051627955098833885), (2956, 0.0051616392448235165), (3459, 0.005160897113723888), (1157, 0.0051599119037011795), (3278, 0.0051592635921255585), (874, 0.005158770443574312), (2516, 0.005157854562732219), (906, 0.005157690428688007), (455, 0.0051557108372659675), (3635, 0.005155454216255662), (790, 0.005155370537666386), (1278, 0.0051539255708034325), (673, 0.005152163963364893), (3592, 0.005151205324285116), (1093, 0.0051507076142282004), (2333, 0.005148987347927168), (1440, 0.005148733913681531), (917, 0.005148365174532538), (2745, 0.005144979516326098), (1207, 0.005140369491666066), (303, 0.005137459618284), (928, 0.005136577954858361), (3663, 0.005135966310812364), (1654, 0.005135351406092731), (1739, 0.0051337410934766455), (488, 0.005133538952860388), (1593, 0.005131785790483807), (1731, 0.005131679759829578), (1441, 0.005130112108261578), (755, 0.005129987805006696), (879, 0.005129690992732092), (3451, 0.005129631275251885), (1309, 0.005128982678975538), (1110, 0.005128495814088055), (2398, 0.005126050014588088), (956, 0.005124065413465494), (684, 0.005123632150774349), (2117, 0.005123358842559998), (1650, 0.005122718044022309), (2208, 0.005121832414483817), (2721, 0.005121302881693819), (1357, 0.005119997265117355), (1545, 0.00511922226569963), (496, 0.005118306233731224), (394, 0.005117845965044295), (1610, 0.005117365583854262), (2131, 0.005117354860566903), (2018, 0.005115145512556556), (2254, 0.005112565239084801), (2952, 0.005111956104894365), (525, 0.005110541939657478), (334, 0.0051088326343830676), (3677, 0.005107000347400604), (2843, 0.005106769328805724), (2744, 0.005104732095950581), (1276, 0.005103962168310073), (651, 0.00510300135075055), (380, 0.005102840492421316), (3049, 0.005100882948590652), (2407, 0.00510027866421774), (2867, 0.005100144046110053), (2648, 0.0050991972755252985), (2150, 0.0050968894196656185), (2191, 0.005096008424858976), (2719, 0.00509526836052896), (3244, 0.005095255079028296), (1331, 0.00509410323534889), (978, 0.005093988644527213), (2755, 0.005091820741983167), (1481, 0.0050918005004309515), (1471, 0.005091160682726306), (2119, 0.005090934685526946), (1585, 0.005089894809320786), (1929, 0.005087725958237561), (2540, 0.005087526621782055), (1456, 0.00508736455202189), (2047, 0.005086436807966254), (3386, 0.0050843311898898695), (1107, 0.005083144511812385), (537, 0.005082240768397562), (382, 0.005081574898510558), (833, 0.005081340301602324), (3859, 0.00508092201365198), (876, 0.005079621379551771), (2523, 0.005079549269225223), (59, 0.005078465817701286), (1301, 0.005074595055987723), (1804, 0.005072411009484257), (718, 0.005069149770167555), (556, 0.005068541554851246), (1519, 0.005067980596824975), (3682, 0.005065846838810964), (2526, 0.0050646857176154525), (1852, 0.005062595479291123), (669, 0.005062344048191746), (2683, 0.0050622690782727185), (3200, 0.005061677941268405), (1435, 0.005060150303799921), (1424, 0.005056729698744585), (916, 0.0050542056052105015), (2322, 0.005053842185889623), (3588, 0.005053314233534563), (3835, 0.005053275519441432), (1332, 0.005052988526699646), (3732, 0.005052160526083007), (1921, 0.005051302595885213), (1957, 0.00505070259541626), (2447, 0.005047832858610078), (1758, 0.00504682847090173), (1399, 0.0050459660155330235), (619, 0.005044883232905474), (1721, 0.005043026354299899), (2494, 0.0050426748110272025), (2674, 0.0050417398673919915), (497, 0.005041676670081064), (2742, 0.005040099205018086), (3687, 0.005038544977440445), (1420, 0.0050376718870500945), (1894, 0.005037010699015033), (3225, 0.005037007653735075), (2130, 0.0050368024495988884), (2794, 0.005035888531046233), (1188, 0.005035658655479634), (495, 0.005035532444322048), (2079, 0.005035484034701105), (821, 0.0050346830975538754), (3379, 0.005029944119421958), (1757, 0.00502985111556271), (2571, 0.005029709685565385), (1269, 0.0050285363556855835), (3516, 0.005028128704061079), (2409, 0.005027855125689478), (2128, 0.0050268299641423025), (3615, 0.005026748760630979), (2434, 0.005026650290472404), (3709, 0.005025998339669487), (1993, 0.005024578713646966), (2625, 0.005024245068541787), (1793, 0.005023925691817252), (3791, 0.0050208131650758495), (878, 0.005018737500693887), (1677, 0.005018730952972438), (2697, 0.0050182709995140835), (3884, 0.005018236647981961), (502, 0.005017507371514029), (1186, 0.00501646338987681), (501, 0.005014931093481708), (881, 0.005013232221041465), (48, 0.0050131866357924874), (52, 0.005013034604967005), (726, 0.005012932527235612), (422, 0.005011845090466743), (2258, 0.00501062493584842), (1452, 0.0050103824446736285), (1714, 0.005010030293394825), (79, 0.0050098595645063655), (2286, 0.00500833265297316), (2223, 0.005008073627470979), (1153, 0.005004409418930795), (3058, 0.005004203553923432), (506, 0.005004181410059684), (1800, 0.005003555831097285), (3345, 0.005002909280472294), (2592, 0.005002065507999024), (3869, 0.005001218905673581), (597, 0.005000577608295629), (2590, 0.0049986724081769185), (2376, 0.004998390550221456), (1341, 0.004997917830993794), (294, 0.004996464227646424), (2076, 0.004996452582595053), (2306, 0.004995620939000777), (2002, 0.004993925994949223), (1892, 0.004993468932653683), (291, 0.004992370792945624), (739, 0.004992131457642826), (2493, 0.00499004921981525), (2739, 0.004989585725007166), (262, 0.0049874666106974235), (2980, 0.004986664570089359), (2052, 0.004986175349716145), (1836, 0.004985403538363915), (1225, 0.004985092385746252), (1942, 0.004981571451876623), (2754, 0.004981328489107213), (3881, 0.004981250695352499), (2324, 0.0049802854144760135), (2771, 0.004978310250603156), (759, 0.004978292704321552), (2221, 0.004977497039215937), (2636, 0.004974188547824204), (342, 0.004974113385939414), (3191, 0.004974030422784911), (3357, 0.0049725986855891245), (2545, 0.004972578719594584), (183, 0.00497165145521464), (869, 0.004971330820668856), (2883, 0.004971103087445401), (2577, 0.004970457365151758), (1958, 0.004970249107308815), (3493, 0.004969699427933431), (2275, 0.004969433147442217), (3326, 0.004969237380590376), (2185, 0.004968294699144192), (3787, 0.004968066727255406), (2505, 0.004967349937620523), (2629, 0.004967331408462651), (1233, 0.004966507094307873), (1936, 0.004966321273462875), (157, 0.004965150796283153), (2594, 0.004965120795817692), (1428, 0.004964794621362661), (3425, 0.004962997934478856), (3419, 0.004962521304178136), (2626, 0.004961593546065509), (3315, 0.00496105522646404), (1438, 0.0049597427421590665), (2453, 0.004959482524957071), (1099, 0.0049585635807608735), (368, 0.0049574460556327735), (2337, 0.004957231064066324), (1458, 0.004955873812387838), (3065, 0.0049554874226078), (1783, 0.004954825729298247), (2312, 0.004954613094868464), (946, 0.004954312542623325), (1312, 0.004953682783745195), (1701, 0.004952710108342286), (2559, 0.004952545861243816), (2570, 0.004951888974590237), (2439, 0.004950516605859417), (753, 0.004950294846489316), (2336, 0.004950162348347933), (3274, 0.004948437307612041), (2393, 0.004947974052455109), (1105, 0.004947489559568788), (1776, 0.0049471321466944005), (2850, 0.004946172421645372), (2261, 0.0049448118511897544), (934, 0.0049448099872833155), (2560, 0.004944329756189154), (725, 0.004941904604828794), (937, 0.004940071131169674), (1534, 0.004940037824028207), (623, 0.004937276428313695), (2121, 0.004937146688584812), (1050, 0.0049360004291006555), (313, 0.0049358766027245244), (1244, 0.00493542444205856), (2207, 0.004935317423238489), (1603, 0.00493464085255942), (656, 0.0049346185853374235), (3722, 0.004933125737953199), (3723, 0.004932487097060121), (844, 0.00493063353242835), (2354, 0.004930178022297143), (1442, 0.004929035022937231), (3043, 0.004928705956649461), (897, 0.004928533096915), (2174, 0.004927157687580922), (1027, 0.004926267715237062), (2519, 0.004925494813972785), (2259, 0.004924578990334016), (2536, 0.004924382760049386), (485, 0.004924108625583465), (691, 0.00492400900062797), (2271, 0.004923510127458979), (490, 0.004922384994617029), (284, 0.004920559237138188), (2747, 0.004920293392255844), (1565, 0.004920061504991117), (2623, 0.004918313967726098), (67, 0.0049156475928548975), (2212, 0.004913446768783181), (3070, 0.004913407299057546), (3701, 0.00491331668834513), (3649, 0.004912411073037514), (3286, 0.004911469501513035), (935, 0.004909180229795476), (841, 0.004908094013820981), (929, 0.004907942687302097), (3319, 0.004907542218591219), (851, 0.004907353782651102), (470, 0.004906360978983121), (3598, 0.004906284790317038), (3491, 0.004904324968075593), (2015, 0.00490421525329332), (2385, 0.00490380137262285), (3913, 0.004902086091812608), (1140, 0.004901055792714494), (250, 0.0049007053418779626), (271, 0.00489857327668316), (1036, 0.0048981428251415726), (3462, 0.004896787307924279), (3806, 0.0048966965104085165), (1616, 0.0048960556458095845), (2814, 0.004895332124817878), (2363, 0.00489495886702664), (971, 0.004892056023805396), (1576, 0.004891638720186356), (3798, 0.004890644122208293), (888, 0.004890351035080722), (2528, 0.004890076584970414), (2804, 0.0048890562866057315), (2155, 0.004887852383650778), (1617, 0.004887525910391556), (2129, 0.004887289015217121), (2976, 0.004887256072734231), (2446, 0.004887147515777131), (1136, 0.004886212723478108), (1295, 0.004885996737561517), (3719, 0.00488576347591713), (263, 0.004885368432092409), (658, 0.004884328179977303), (2196, 0.004884120938464563), (3112, 0.004881871298036683), (644, 0.0048797773709800445), (2295, 0.004876577741458845), (2746, 0.00487631421695094), (811, 0.004876076602355378), (1305, 0.004875549937714582), (2627, 0.004874715146099642), (1949, 0.004870540155069089), (3395, 0.004870481039404158), (1267, 0.004870379792741919), (589, 0.0048697530548172325), (2058, 0.004867993867728663), (1281, 0.004867852448037026), (285, 0.0048672267985691055), (2612, 0.004866720415540444), (622, 0.004866705388290256), (2399, 0.004865943063345644), (1083, 0.0048656116325301434), (1401, 0.00486542082621283), (2023, 0.004865387049810725), (2381, 0.004865201814607331), (3099, 0.004863918360233083), (3637, 0.0048631501631033955), (1688, 0.0048631230329273705), (1806, 0.004862600476862827), (2568, 0.004862013540787679), (352, 0.004861862928059792), (1872, 0.00486020311789951), (2300, 0.004858181592715965), (1809, 0.004858087363640612), (2779, 0.0048580156339822845), (3458, 0.004853293243747035), (1767, 0.0048532429773616055), (1169, 0.004853238297534916), (2990, 0.004852212412923368), (1972, 0.004851549707616931), (2072, 0.00485098271593886), (363, 0.004850678077524039), (270, 0.004850110421200112), (1781, 0.004848353458439557), (595, 0.00484787147941487), (2787, 0.004847867949857838), (2209, 0.004846467262842558), (1596, 0.0048460920182692895), (1344, 0.004845840798395213), (3653, 0.004845683486329093), (1575, 0.004845159488467326), (2305, 0.004844790890159414), (925, 0.004844450956910545), (1080, 0.004843216413779198), (1345, 0.00484310477771582), (2317, 0.004841916607777859), (1187, 0.004838857062925764), (2689, 0.004837788066192848), (1437, 0.004837637210457299), (967, 0.004837250513866441), (2492, 0.004837163058677233), (1642, 0.004837068346419508), (2269, 0.004837048337227911), (338, 0.004836818030528878), (2728, 0.004836695066836791), (1869, 0.004836019015090972), (1909, 0.004834981024461649), (648, 0.004832910333576313), (1669, 0.004831648756010384), (1865, 0.004830146674062308), (1161, 0.0048294516460503645), (2074, 0.00482889776825896), (1597, 0.004828195567111126), (1335, 0.004827466307640287), (2350, 0.004827284894911866), (369, 0.00482716488712194), (1085, 0.004827119245191309), (2647, 0.004826905222190197), (3741, 0.00482659807430508), (1184, 0.004826531575337531), (435, 0.004826510772497323), (1419, 0.004826270018524922), (1005, 0.0048253463470120375), (2027, 0.004825257987001025), (451, 0.0048248810910109146), (719, 0.004824858604502061), (1626, 0.004824354627035691), (2605, 0.004823100527320094), (951, 0.004822905040087695), (92, 0.004822702353953267), (1030, 0.004821650845382598), (289, 0.004819897036225791), (2443, 0.004817064550545188), (2157, 0.004816564781091489), (3295, 0.004815957814459152), (2056, 0.00481587111710371), (2315, 0.004815836575285483), (2467, 0.004815637413177039), (1833, 0.004815102176413062), (3138, 0.004814355807490863), (972, 0.004814287237495125), (2711, 0.004813734104278646), (1333, 0.004813701689508479), (2456, 0.004813565407354741), (3515, 0.004812160367724287), (2406, 0.004811886005279036), (1976, 0.004811621292783792), (2325, 0.004810585094302621), (1604, 0.004810091346774938), (2288, 0.0048083394371261435), (2400, 0.004806153368791037), (2342, 0.004803037559153268), (3178, 0.004802482761792651), (777, 0.00480190263351657), (856, 0.0048013528837424985), (3513, 0.00479998535638315), (317, 0.004799286548532878), (1487, 0.004799079786895682), (456, 0.004798112893161945), (2097, 0.004798026778775891), (2454, 0.004796585158258743), (1268, 0.004795852852892506), (33, 0.004794800873494046), (2085, 0.004794386942270835), (601, 0.004793645279176256), (3424, 0.0047928350857569125), (453, 0.004792645825587924), (260, 0.004792251784821186), (2675, 0.004792072144746752), (1653, 0.004791679614763411), (2265, 0.00479096353410897), (2906, 0.0047894796777499605), (964, 0.004789453098458349), (2561, 0.004788397485937158), (3908, 0.004788148147288535), (2475, 0.004787921583717094), (2026, 0.004785607394237078), (700, 0.004785526154239055), (3644, 0.004784529318499792), (3340, 0.004784037005173557), (2471, 0.004783385337478668), (3306, 0.004783317639849125), (995, 0.004782143354496181), (3566, 0.004782133894896202), (960, 0.004780817505436741), (1162, 0.00477944968449917), (837, 0.004779429629101581), (1518, 0.004779364249453293), (399, 0.004778245226100907), (868, 0.004777537560848677), (2481, 0.004777521246821033), (1472, 0.004776614755493275), (1033, 0.004775713275880566), (3335, 0.004774269951232038), (2998, 0.0047741712985170815), (3514, 0.004772051721424059), (677, 0.004771792544793521), (106, 0.004769972029921632), (2408, 0.0047674007755578), (3512, 0.004766722368953648), (2143, 0.004766316753031402), (3167, 0.004765697430358298), (1539, 0.0047642099564387825), (3184, 0.004764075946804885), (1873, 0.004763629332485555), (3384, 0.004763303403300317), (210, 0.004763039008084959), (1629, 0.004763017165360436), (356, 0.004761427124977545), (2132, 0.004760285379556714), (646, 0.004757904936131533), (2211, 0.004757723561087458), (1857, 0.004757188834761082), (751, 0.004756824463440232), (1217, 0.004756151271261577), (962, 0.004754606398507547), (2840, 0.0047542808501231755), (1431, 0.0047526456068462935), (1510, 0.004752350246126847), (1689, 0.004751525373212015), (1385, 0.004751421617262979), (2805, 0.004751336655894745), (3155, 0.004750185283036194), (2272, 0.004749885770765282), (2611, 0.004749037138760119), (636, 0.004747640759004521), (2580, 0.004746520332495769), (445, 0.00474600931473514), (3402, 0.004745999827918633), (1170, 0.004745890705504538), (379, 0.004745792196109229), (1794, 0.004745604318557721), (1906, 0.004745356907302859), (54, 0.0047445578118484304), (2700, 0.004743958055146657), (2054, 0.004743262147138499), (2011, 0.004743221549723256), (3014, 0.004742706919172783), (1769, 0.004742390719036047), (2712, 0.0047417439380663465), (1697, 0.004741061110345733), (249, 0.004740948560193324), (1665, 0.004740058469485113), (2065, 0.004739627649014008), (1813, 0.004739556406788763), (907, 0.004738892332616805), (2242, 0.004737111160788609), (1483, 0.004737057415256301), (1667, 0.004736832835104908), (436, 0.004736139931883289), (1119, 0.004734869043010628), (393, 0.004734684767658581), (2022, 0.0047345245172594665), (3893, 0.004733431847747542), (3260, 0.004732645481518892), (1954, 0.0047326334944966745), (3117, 0.004732609240257435), (2803, 0.004730804973692008), (775, 0.004730382307957561), (2682, 0.004730168671106054), (2543, 0.004730126271677568), (663, 0.004730033300795235), (190, 0.004730025260933588), (2547, 0.004729905440185599), (1208, 0.004729272673406456), (2184, 0.004725819302314982), (2507, 0.0047257125168783), (425, 0.004724774916020262), (2677, 0.0047211438693224245), (3394, 0.004721058563906946), (938, 0.004720694823503661), (1127, 0.004720363353725251), (1866, 0.0047193034849671205), (1692, 0.0047187715962229365), (1839, 0.0047182299419834175), (526, 0.004717939933478362), (2495, 0.004717888149132607), (258, 0.004717773079002185), (1547, 0.0047161155176012794), (3168, 0.004715920894256558), (344, 0.004715587511484324), (1227, 0.0047151977985854165), (723, 0.004715136489564639), (1320, 0.004713764333023449), (2282, 0.004713750265643046), (2529, 0.004713620428673754), (2197, 0.004712493539365389), (817, 0.004711749600979063), (2781, 0.004711401271105609), (494, 0.004711307420984847), (1286, 0.0047106852633433), (3281, 0.004709935557917573), (1766, 0.004709660571273084), (2161, 0.00470942317220512), (3930, 0.0047092237640603786), (295, 0.004707374998185221), (1365, 0.004705563427541398), (3285, 0.004705132554339134), (482, 0.0047045845165557985), (2732, 0.004704350350971007), (1934, 0.004703768969392559), (536, 0.004703655647703484), (2057, 0.004702945565114623), (3312, 0.004702414825374483), (1131, 0.004702002783274214), (3399, 0.004700613955962132), (829, 0.004700502380911047), (1285, 0.004700471781636288), (301, 0.004700377641032505), (666, 0.004700046432578513), (314, 0.004699839565793815), (1999, 0.00469885273110901), (104, 0.004698373470717135), (3317, 0.004697562918331997), (141, 0.0046953909522034765), (588, 0.004694524613518968), (3443, 0.004694431903253731), (846, 0.004692196131031467), (727, 0.00469150781255855), (3715, 0.004690935221957992), (1847, 0.0046908444755681435), (281, 0.004690743838719651), (3814, 0.004690272393295778), (2729, 0.004689920862903156), (2718, 0.004688413852233878), (2003, 0.004688370779132187), (838, 0.004687586319828983), (2111, 0.0046874639279660185), (2753, 0.004687230751310451), (3171, 0.0046870171203379045), (3098, 0.00468227539628982), (241, 0.004682084223925483), (672, 0.0046815345482747244), (1449, 0.0046814533572199545), (614, 0.004680794190498977), (3444, 0.004678964554598866), (2159, 0.004678451815050364), (2369, 0.004678042226551507), (1920, 0.004676653497758611), (785, 0.004675563805816818), (1532, 0.004674943957566829), (2468, 0.004674137597391076), (336, 0.004672925280869295), (2596, 0.00467277184980214), (3410, 0.004672135166176534), (3397, 0.0046707514755515225), (3686, 0.004669200148107887), (3127, 0.004668870325111292), (500, 0.0046687176968534016), (1543, 0.004667716109368874), (3619, 0.004666934551683177), (1484, 0.004666907049715802), (2597, 0.004664385086937102), (724, 0.0046640369037015475), (1878, 0.004663233165744672), (652, 0.004662763609757222), (83, 0.0046619831252200285), (483, 0.004661163523404084), (3525, 0.004661061438290754), (2532, 0.004660920186361533), (2538, 0.004659878013552623), (1981, 0.00465883183093799), (2491, 0.004657034981661543), (583, 0.004656960342305157), (1933, 0.0046569566454848655), (3549, 0.004656802122888583), (1651, 0.0046561206934708985), (839, 0.004655277629599664), (1308, 0.004654877622132983), (466, 0.004653699589741278), (2703, 0.004653236426907518), (2038, 0.004652704948074371), (3272, 0.00465240757033904), (1903, 0.004651384479417621), (1350, 0.004650356253751874), (1611, 0.004649362992304774), (2426, 0.0046487651249976164), (1975, 0.004648625917194601), (3124, 0.004648363405787179), (392, 0.004647839043368985), (2106, 0.004645749943021232), (2811, 0.004645362551446381), (1528, 0.004645250354916174), (2604, 0.004644563417659352), (924, 0.004644555507883934), (1923, 0.004644140866176518), (2698, 0.004642833993617127), (1223, 0.004641486455010717), (56, 0.004641398055710569), (664, 0.004640872376211176), (568, 0.004640237626651416), (1287, 0.004640144868273508), (3707, 0.00463892477379066), (325, 0.004638543382982814), (1125, 0.0046378901007862305), (803, 0.004637737297403554), (1655, 0.004637726495999859), (2228, 0.0046373388418639635), (3007, 0.004637058641181458), (2313, 0.004636655652553066), (1730, 0.004636471100048514), (2569, 0.004636417285926574), (1609, 0.004635479582675704), (2586, 0.0046343203629258525), (1069, 0.004633999475704252), (1226, 0.004633883149189974), (473, 0.0046333525679400946), (2813, 0.004633333860427762), (247, 0.004632232132412663), (1078, 0.004631568446765431), (1553, 0.004631012886024685), (304, 0.004630660343548985), (1109, 0.0046303212078611855), (513, 0.004630291518403572), (1453, 0.0046293752264513904), (1844, 0.004628365585143539), (2854, 0.0046255564910534785), (2302, 0.004624139747769892), (3474, 0.004623294108391207), (3529, 0.0046229539411500415), (471, 0.00462258364975359), (940, 0.004622449023253252), (2436, 0.004622205571749212), (1391, 0.0046220801353963155), (2723, 0.0046217281895919405), (3587, 0.004620398696616695), (3291, 0.004620273387305596), (3876, 0.004619466344123865), (887, 0.0046194368458430035), (2929, 0.004618275780026026), (82, 0.004617913404657802), (195, 0.004617457016622416), (738, 0.004616560984590571), (3175, 0.004616373680145912), (2752, 0.004615993683740466), (912, 0.004612555852357097), (1043, 0.004611757245120988), (135, 0.004611670487307567), (797, 0.004611474246938695), (2581, 0.004610559825762026), (64, 0.004610198534292405), (1870, 0.0046096579462813585), (1602, 0.004609434342885389), (1807, 0.004608758423783371), (245, 0.004608616440250791), (2012, 0.004607799598602397), (516, 0.004607735530065109), (1163, 0.0046067846692559485), (1561, 0.004605949840944391), (2595, 0.00460558110655904), (540, 0.004605074190284456), (499, 0.004604307159877613), (1430, 0.004604205011797223), (3380, 0.004602564594040363), (406, 0.0046017686713539984), (2724, 0.00460127348707757), (2256, 0.004600771167600949), (1512, 0.004599252534553445), (653, 0.0045989333001841045), (1888, 0.004598626806342846), (3923, 0.004598201047632222), (1795, 0.0045981501201048155), (1291, 0.004597256314277485), (163, 0.004596827305293343), (1325, 0.004596083419331547), (1868, 0.004595911044006353), (1039, 0.004595194688207005), (890, 0.00459484321876428), (2105, 0.0045940231242366115), (997, 0.004593150076454818), (1314, 0.0045924180998429265), (1753, 0.004591017811508198), (151, 0.004590669365453511), (2283, 0.004590192233008479), (1849, 0.004589833777553819), (228, 0.004589528251731105), (712, 0.004588838801184175), (390, 0.004588777994634259), (3800, 0.004588572445839541), (905, 0.00458840995822204), (136, 0.004588281931771325), (1074, 0.004587827387750034), (138, 0.004586995932807402), (2692, 0.004585507445309785), (2939, 0.004585218901603632), (3420, 0.004583617313707669), (1828, 0.004582158486337782), (722, 0.0045820174395866), (988, 0.004579280086950118), (1087, 0.004579173090715677), (2563, 0.004575801205964045), (3541, 0.004574164029178018), (256, 0.00457398114513867), (668, 0.004572925452717698), (398, 0.004572790400302488), (1436, 0.004572263595291449), (1883, 0.004571195463313962), (2622, 0.004570985740522629), (2562, 0.004570386018668718), (3503, 0.004569364941522969), (3072, 0.0045689484989842), (1007, 0.00456683246152101), (932, 0.004566362864113177), (637, 0.004566222699983022), (2199, 0.004566065053598304), (1348, 0.004565500475775466), (2418, 0.004565440684928497), (3694, 0.0045647504704328925), (1639, 0.004564689629834348), (521, 0.004564376011204856), (630, 0.004564352497247628), (3905, 0.0045636937873059285), (105, 0.004563671875848793), (2498, 0.004563607577552171), (1322, 0.004563480105587129), (498, 0.004563020105967082), (1723, 0.004562720818976131), (1541, 0.004562375569681197), (2701, 0.004562217267914059), (1152, 0.004562186783077958), (2862, 0.0045618011889191346), (3212, 0.004560874409518274), (1475, 0.0045606009524403295), (3310, 0.004560486328095455), (2141, 0.0045597799189162555), (1736, 0.00455932038950359), (1011, 0.004559139464965167), (2230, 0.004559078319617317), (2557, 0.004558139458082231), (3928, 0.004557390301234809), (695, 0.004556694591918244), (1247, 0.004555226704021439), (1270, 0.004555101966421997), (3390, 0.004554460254000852), (323, 0.004553296408726511), (231, 0.0045530423375814465), (3858, 0.0045522551954165135), (489, 0.004551219503439663), (1775, 0.004551036115443608), (2603, 0.004550806869319329), (1935, 0.004549832444702002), (1792, 0.004548669671406797), (2281, 0.004546397916885427), (3809, 0.00454604004402872), (699, 0.0045457878876779875), (3830, 0.00454470933760701), (2082, 0.004543991237005678), (2518, 0.004543679012736619), (2158, 0.00454287119211147), (2364, 0.004542518514319508), (3645, 0.0045422868215678315), (1744, 0.0045418909524217645), (721, 0.0045410551294202935), (1319, 0.004539176009366681), (186, 0.004538973296119998), (396, 0.004538874105662391), (86, 0.004538653633703177), (733, 0.004538500283328955), (264, 0.00453842654310717), (1111, 0.004538327561504297), (3161, 0.00453825015312978), (1685, 0.004537104313391491), (1707, 0.004535620934096856), (3437, 0.004535027936348331), (1376, 0.004534344999037728), (237, 0.0045340484477514745), (835, 0.004533830405360711), (1480, 0.0045330617114598655), (2768, 0.004532945062507304), (1467, 0.0045322497717611345), (976, 0.004532123534518231), (2887, 0.004532112327246145), (682, 0.004531686504431742), (349, 0.004530109584760352), (855, 0.004530098623089928), (2414, 0.00452854312365052), (412, 0.004527555618455543), (159, 0.004526585710987435), (1931, 0.004526482889019549), (581, 0.004526297058273231), (3400, 0.004526111408446576), (1404, 0.004525445238018265), (850, 0.004523597088965739), (2081, 0.004523104840689739), (3758, 0.004522288992005546), (413, 0.004521116950418253), (1466, 0.00452100858648539), (1777, 0.004520078857863639), (324, 0.004519154824126154), (1360, 0.004518719787564096), (1145, 0.004517832084423606), (1605, 0.004517189029828629), (2868, 0.0045166539298090065), (2574, 0.0045153825466595476), (2772, 0.004515371059268433), (816, 0.004514483542550474), (632, 0.004514274853222876), (2773, 0.004514258117114507), (3154, 0.004513667993169088), (3261, 0.004511336080863927), (2555, 0.004511252747334317), (1497, 0.0045109865206857174), (2511, 0.004510439542748158), (2146, 0.004510057733004059), (1687, 0.004509672418787189), (2986, 0.004509589328918761), (1429, 0.004509326283720925), (1814, 0.004508528459773079), (752, 0.004508449190640662), (432, 0.004506676296209923), (3038, 0.004506511007584987), (3717, 0.004506082738664539), (2226, 0.004505498816013409), (3877, 0.004505249148586692), (139, 0.0045046991303785274), (2049, 0.004504181048974374), (2831, 0.0045034694343448175), (1192, 0.004502694994443062), (1728, 0.0045026270754138405), (2533, 0.004502529084658567), (230, 0.004502528400234304), (415, 0.004500214177123232), (2726, 0.004498726208590665), (1230, 0.004498592065846176), (297, 0.004498406732034355), (3569, 0.0044982863213138624), (523, 0.004498064685706564), (793, 0.004497319133777247), (1500, 0.004496511297878558), (2642, 0.004496089805027362), (2643, 0.004496089805027362), (2172, 0.0044952126492806225), (236, 0.004495131300544655), (2435, 0.004494239614167143), (1103, 0.004493514183919737), (1439, 0.004492699421457604), (3613, 0.00449229258121529), (1563, 0.00448952236516368), (959, 0.004487822607346207), (156, 0.0044838798781739195), (1198, 0.00448383234714232), (1249, 0.004483055405615898), (933, 0.00448301037654659), (1624, 0.004482830499419385), (3608, 0.004482626759651496), (3388, 0.0044819654769051665), (1279, 0.0044801449415449055), (3374, 0.004479974644230099), (1531, 0.0044799109292018545), (3526, 0.004479281573709705), (798, 0.004478796060840048), (3845, 0.004477473291395459), (2218, 0.0044760087485051815), (1864, 0.004475481146029787), (640, 0.004475368244496158), (2489, 0.004475218643015862), (3572, 0.00447290385292047), (4, 0.004472399333219201), (3234, 0.004471890108881613), (1600, 0.004471398456942548), (660, 0.004471235750863621), (1123, 0.004471001980881065), (2663, 0.004470391860488297), (3172, 0.004470004226743395), (2490, 0.0044691439025116), (2829, 0.0044655236550909866), (1132, 0.0044650406192621095), (111, 0.004465018852162184), (2422, 0.004464094220673364), (113, 0.00446244917723211), (1406, 0.0044610368662195), (3270, 0.004461032429218555), (1965, 0.004460796784410929), (3223, 0.00446022577203785), (955, 0.004459700319099078), (3293, 0.004459596954223607), (1400, 0.004459362085858391), (687, 0.004458888207912584), (357, 0.004456888038141463), (2469, 0.0044559058870813064), (2828, 0.004455540804990629), (484, 0.00445501624230709), (480, 0.004454566668340804), (603, 0.004454493817995715), (1370, 0.004453987311977213), (1081, 0.004453144388111563), (3781, 0.004451490288398222), (2783, 0.0044513089060535015), (1713, 0.0044500887652517964), (2615, 0.004449899586994435), (1625, 0.0044479690877898435), (1482, 0.004447560221954287), (1282, 0.004445112161215447), (1086, 0.0044450774354915625), (115, 0.004444158407790539), (2046, 0.004443668353922197), (2457, 0.004443569632318706), (3262, 0.004441751273803841), (1899, 0.004440634237132726), (3817, 0.004440122996246506), (2227, 0.004439122640390958), (3210, 0.0044386032494060845), (1275, 0.004438268097726137), (858, 0.004433497752424007), (2291, 0.0044329463246369286), (3148, 0.004432716965764374), (2852, 0.004432607664310668), (3343, 0.004432297910182227), (2631, 0.004430978945482782), (26, 0.004430637346256308), (626, 0.004430392428557317), (893, 0.004430205053767673), (2292, 0.004429337309742503), (3277, 0.004428720524200152), (1047, 0.004427719694316474), (977, 0.004427117162035152), (3882, 0.004426505678681865), (2937, 0.0044260803968067825), (2480, 0.004426073057476346), (3470, 0.004424786882728508), (3094, 0.00442358069801143), (3704, 0.004422962814563974), (571, 0.004422693247905021), (3825, 0.004422649271937112), (2073, 0.00442260267847533), (1719, 0.004420528557311881), (1741, 0.004420340528057094), (3445, 0.004419612605478856), (3360, 0.004419307668195606), (226, 0.0044188402232437805), (437, 0.0044171745152719825), (1349, 0.0044116345086269325), (3623, 0.004410571825174302), (147, 0.004409844762718097), (3031, 0.004409715448988631), (2801, 0.004409584074715301), (199, 0.0044095702786621374), (1067, 0.004409503620725453), (2837, 0.004409357772669046), (2653, 0.0044091028477170145), (2652, 0.004406936905357811), (3776, 0.004406676114140214), (53, 0.004406670107744084), (762, 0.0044060522373173296), (2777, 0.004405849156982173), (720, 0.004404141764464657), (2092, 0.004404117741765949), (274, 0.004403382732449988), (1106, 0.004401247837984639), (3894, 0.004401059222175294), (417, 0.004400803537937708), (3485, 0.0044002723415139), (3045, 0.004398619099894053), (3490, 0.004398430759374668), (1262, 0.0043982297334393145), (3415, 0.004397300968703817), (2410, 0.00439524657985976), (2617, 0.0043938627194800356), (2061, 0.004393232681400408), (631, 0.00439287555704875), (318, 0.004392367515251326), (414, 0.0043906056864128845), (2387, 0.004388073959110122), (2417, 0.004387956796475271), (3762, 0.0043871684897769546), (65, 0.004386793584398112), (2637, 0.004386279506437822), (46, 0.004385176236717491), (625, 0.004384064920640728), (3924, 0.004382802248375857), (3713, 0.004380180498317688), (433, 0.00437845153443358), (2020, 0.004378130744291984), (2731, 0.004377641542270172), (2734, 0.004376674340893418), (3658, 0.004374603727896949), (2762, 0.004374596091450205), (931, 0.004373175901940454), (66, 0.0043731721502090395), (253, 0.004372422705765199), (2366, 0.004371410781659421), (511, 0.004371160621385167), (3842, 0.0043708860137119596), (2176, 0.004370696489484548), (1159, 0.00437051449273401), (218, 0.004370139609237819), (1759, 0.004369884089236741), (2452, 0.004369284174626277), (1366, 0.004368895806654822), (2086, 0.004368579039830547), (2859, 0.004367237879848657), (2078, 0.004366929660256604), (3583, 0.004366722813759319), (2807, 0.004366269692285066), (44, 0.004365173093473876), (1537, 0.004364249078447978), (3827, 0.0043640697033110526), (2971, 0.004363938166005681), (308, 0.004363683696809704), (1900, 0.004362915991086053), (2474, 0.004362102859498286), (2564, 0.004361747557577641), (391, 0.004361692401970745), (177, 0.004359645614038968), (3547, 0.0043595306735054054), (1726, 0.004359200606942939), (3495, 0.004357880734532787), (1578, 0.004357478901186619), (2107, 0.004356429684456224), (657, 0.004355996854166876), (3353, 0.004355964733122943), (2530, 0.004355020259103909), (2786, 0.0043544253295953374), (647, 0.004354260282476095), (559, 0.0043540197062207475), (2763, 0.004353165835558399), (706, 0.0043527738613023306), (985, 0.004352410257856986), (2681, 0.004352136597405066), (1215, 0.0043514271494866875), (911, 0.004349298770018838), (730, 0.00434822168016731), (1104, 0.004346319320904541), (3527, 0.004346045794204803), (1885, 0.0043458211686956474), (1147, 0.004343488184601065), (3799, 0.0043395401598681545), (1770, 0.004339082816610918), (2864, 0.0043388905844125815), (100, 0.004338650295194597), (2246, 0.004337320758618081), (462, 0.00433548642784835), (312, 0.004333868186973319), (1084, 0.004333450068092261), (3926, 0.004333380265033376), (2882, 0.004332687162244427), (2466, 0.004331585742357114), (319, 0.004329705049993305), (2203, 0.004328558129387736), (2576, 0.004328189674544912), (3531, 0.004325242091914122), (3192, 0.00432465765550697), (1379, 0.004323700791100886), (3327, 0.004323375266244563), (3656, 0.0043216929885773366), (2710, 0.004320591909867625), (416, 0.004320431133656116), (2846, 0.004320243461111632), (2525, 0.004319902577004781), (1035, 0.004319082510579022), (3565, 0.004318153822047549), (3432, 0.004317718664296924), (372, 0.0043166304998486504), (2743, 0.00431342801690088), (438, 0.004310055984849645), (3651, 0.004309753531723407), (1380, 0.004309633105342947), (1410, 0.004307561667906136), (558, 0.004306625615472921), (781, 0.004305641848560327), (563, 0.0043030559244096), (1221, 0.004301875765430926), (2183, 0.004301009576409162), (3405, 0.004300145529374042), (3892, 0.0042999819547375985), (3880, 0.004296716071147493), (278, 0.0042965591510510295), (3492, 0.004296019202240815), (3241, 0.00429526130361226), (824, 0.0042945526061184255), (769, 0.004293250917330863), (3414, 0.0042920910975202285), (1272, 0.004291598207760539), (134, 0.004291308550742147), (1002, 0.00429095335013915), (130, 0.004290581921838129), (2397, 0.004290323873059069), (75, 0.004290172314849397), (3904, 0.004289508732249017), (3519, 0.00428890272477129), (903, 0.0042859212472960454), (2735, 0.004285380124373268), (478, 0.004285071460673151), (1538, 0.004282879006898492), (3703, 0.004281171564870169), (2589, 0.004278684451888059), (3769, 0.004278060343861093), (1213, 0.004277235792508153), (555, 0.004276737384147591), (69, 0.004275394302398707), (1012, 0.004274653836288102), (685, 0.004274455434844116), (1211, 0.0042743743516282726), (2909, 0.004273208067802582), (1535, 0.004272528034391409), (1248, 0.004272023675095001), (2127, 0.004271126722564778), (1884, 0.004270884310748178), (1536, 0.004270517079480674), (2372, 0.00426356507158845), (2943, 0.0042625503232472835), (2379, 0.004261601265541709), (3840, 0.004261366704338114), (768, 0.004260992349665312), (1206, 0.004259296065462193), (3673, 0.0042575834470197724), (3646, 0.004253174658375717), (1219, 0.004252937470294895), (200, 0.004252695807695302), (376, 0.0042514277645200925), (1092, 0.0042495788984319655), (2163, 0.004248321500776453), (1433, 0.004247336599752018), (1432, 0.004247041453945094), (973, 0.00424575590955215), (3197, 0.0042442770239081015), (2459, 0.004243413018841485), (2264, 0.004242813240394675), (3755, 0.004242794012735701), (1696, 0.004241659458448161), (3242, 0.004239599074537519), (2785, 0.004238977189055084), (813, 0.004238601584141453), (3919, 0.004238446546379932), (2394, 0.004238312888994847), (168, 0.004234557542478764), (3499, 0.004234283639208281), (742, 0.004233713146894571), (884, 0.004232397240209622), (2997, 0.004231748217614412), (710, 0.004231645692920279), (859, 0.004229783379580069), (3383, 0.00422970775759637), (561, 0.004229523078370123), (3015, 0.004228612460705035), (3053, 0.004227914220127179), (2236, 0.004221780924044975), (2268, 0.0042214564803951795), (2277, 0.004220413119175932), (1521, 0.0042189473288812744), (288, 0.004218139158724183), (1607, 0.004217192081843574), (3427, 0.004216890262533803), (3448, 0.004215239825523572), (3489, 0.004213842934859261), (3539, 0.004213225301599561), (158, 0.004210964947294759), (2252, 0.0042098716024413846), (2217, 0.004209611223223348), (2796, 0.004209005347887205), (799, 0.004206812596102821), (2678, 0.004206348993586058), (3142, 0.004201333129715699), (1747, 0.004200503103437477), (949, 0.0041999284722842286), (3897, 0.00419952432329018), (3844, 0.004198833187500995), (3417, 0.004198708096242688), (2008, 0.004197033919862997), (3660, 0.004196122383700445), (2483, 0.004195442537527127), (2362, 0.004193850611419565), (3508, 0.004193584007074661), (2428, 0.004193347563382441), (1222, 0.004191829963974227), (592, 0.0041899628854955035), (875, 0.004189939586153245), (784, 0.004184482492357941), (460, 0.004183604688527705), (3662, 0.004182620897927943), (2320, 0.004180845014502329), (748, 0.004179786560449879), (62, 0.004179780688610721), (3403, 0.00417869357413952), (1881, 0.004177588710868068), (1238, 0.004176538391272877), (3595, 0.004175056267937515), (3770, 0.004173991499613425), (886, 0.0041737875992643916), (604, 0.0041727250447496835), (3149, 0.004171876951080841), (1860, 0.004170259413493762), (3772, 0.004170008864776966), (1608, 0.004168171886561813), (2851, 0.004167600744997608), (2036, 0.004167097385806843), (2780, 0.004166912591440643), (265, 0.004165692003428719), (1845, 0.004165045258419173), (3288, 0.004164872745186467), (2750, 0.004164791745170082), (3796, 0.004162097070496999), (2826, 0.004162096377841491), (41, 0.004161576916634474), (2969, 0.004160000043452171), (3890, 0.00415576143999073), (189, 0.004155728928478315), (2733, 0.004155717816498996), (9, 0.004154489541285871), (2839, 0.0041543171910582155), (3256, 0.0041524539052060164), (2691, 0.004151444438403498), (449, 0.004148769253509135), (3047, 0.004147911975247627), (2926, 0.004146637812593836), (128, 0.004145075810371721), (708, 0.004143344286607583), (665, 0.004140112944725387), (2032, 0.004139220919122004), (1656, 0.004136862700092508), (2679, 0.00413605969804625), (1862, 0.004135999320608771), (898, 0.004135188640280658), (891, 0.004135095769646372), (267, 0.004134054793824403), (84, 0.00413377512586612), (35, 0.0041320140430094856), (85, 0.004128194581431436), (3568, 0.004127666080090886), (3683, 0.004126855519955764), (207, 0.004124021570903161), (948, 0.0041238961143562096), (2749, 0.004123509173803948), (3887, 0.004122211724909848), (3900, 0.004120990406190793), (316, 0.00411955115278621), (3264, 0.004119298185922998), (2050, 0.004118911032010567), (254, 0.004118788493174958), (434, 0.00411761518111492), (354, 0.004117375638258717), (2967, 0.004117309495898349), (2043, 0.004116797558619011), (1803, 0.004116417393527976), (2669, 0.004115865694791645), (3018, 0.004115117696658694), (1174, 0.004110898890229122), (1953, 0.004110676718376145), (2033, 0.004110641446852401), (197, 0.004107223309324316), (2243, 0.004103935618512462), (1944, 0.004102707386438473), (3406, 0.004100759698238172), (347, 0.004100397446175867), (3753, 0.004099687763879565), (3891, 0.00409955874759797), (1091, 0.00409795701700499), (900, 0.0040973937722012035), (43, 0.004097380837427346), (3777, 0.0040954503053984796), (2827, 0.004092515476394023), (2215, 0.004090921317336292), (3789, 0.004089673304999782), (3170, 0.004087213190638288), (776, 0.00408698291941476), (1014, 0.004083840304441378), (215, 0.004082298334853032), (3906, 0.00408136593161906), (3815, 0.004080391171073142), (444, 0.004079134401654998), (522, 0.004078321989086688), (1234, 0.004076507731557997), (2928, 0.004076295728655252), (508, 0.00407411064524041), (2500, 0.0040728841662733845), (3412, 0.004072366353689131), (3624, 0.004071280727992615), (3831, 0.004070037337332966), (3843, 0.004068693557083591), (1986, 0.004066717275375223), (373, 0.004065442661925337), (2641, 0.004064584253515477), (123, 0.004063812862132888), (992, 0.004063727784335343), (410, 0.004062285884316394), (3376, 0.0040601466290597615), (1717, 0.004058864711077548), (3089, 0.004058446436106616), (2770, 0.004058184615208519), (1144, 0.004058113651015233), (3377, 0.004058058015574098), (2222, 0.0040573264175938735), (81, 0.004056372572450578), (3863, 0.00405505404197102), (804, 0.004055051359200095), (80, 0.00405372025183125), (3431, 0.004053574593672473), (68, 0.004053318918705199), (3696, 0.004048247147370011), (1647, 0.004047457419026567), (1501, 0.004046203443907204), (3742, 0.004042430763641833), (203, 0.004042141021391075), (381, 0.004040658485014267), (2621, 0.004038719904764992), (3879, 0.004038143602720948), (309, 0.004038000788768811), (2806, 0.004037261775802499), (1409, 0.004034494638601474), (2009, 0.004033968415411892), (548, 0.004033054751728556), (255, 0.004031773958291693), (3627, 0.004031419748112313), (836, 0.004026782970500307), (552, 0.004023266432140327), (853, 0.004020734295092119), (2162, 0.004020485559029073), (131, 0.004017519743001249), (2614, 0.004016477188832035), (2798, 0.004016433109903241), (974, 0.004014474067227175), (3616, 0.004013856780515085), (3396, 0.004012910746564465), (1426, 0.004012101188386973), (2034, 0.004010252404015163), (2838, 0.004009739992586677), (3634, 0.004007481519272185), (14, 0.004006586322284596), (2415, 0.004006560718134114), (384, 0.004005945866188486), (3426, 0.004005836312836204), (160, 0.004002048820088248), (754, 0.004000910650681173), (1540, 0.004000520076871777), (806, 0.003999984183053789), (2310, 0.003998014197215169), (809, 0.00399719060186336), (3932, 0.003996367388654848), (2668, 0.003992910348312979), (174, 0.003992030938617731), (2010, 0.003990054732953557), (2112, 0.003989447453041635), (3854, 0.003986633848767864), (3589, 0.00398463576668633), (3746, 0.003983660726723696), (192, 0.0039825669916411085), (1676, 0.003982199383241477), (1386, 0.003981722716324057), (3440, 0.003981523105567026), (3511, 0.003978544010449378), (184, 0.003977774131265582), (3505, 0.00397480779889663), (3476, 0.003974164787235532), (1363, 0.003973671816617523), (103, 0.0039695988430669136), (292, 0.003968985161435522), (3273, 0.003968269985170185), (3066, 0.003965572948216277), (110, 0.003963967417328487), (509, 0.00396325908807973), (71, 0.003962327506930664), (707, 0.003960540424255314), (795, 0.003959476545640876), (1022, 0.003958941743913383), (1952, 0.0039582774397422605), (119, 0.003953069667736922), (3850, 0.0039528935778374115), (3501, 0.003950914632333984), (1049, 0.003950380273992625), (3521, 0.003947868259630911), (142, 0.003947508993435768), (3134, 0.003944510871347249), (74, 0.003943863780937873), (3666, 0.0039386601726643135), (248, 0.003933112224611761), (3916, 0.003932207693471358), (2294, 0.003928774412054173), (440, 0.003923302132356969), (3254, 0.003923111984990612), (680, 0.003920164494240401), (3681, 0.0039180283479191705), (2063, 0.003915141364843061), (3017, 0.003913281871642239), (1786, 0.003912293779160226), (2067, 0.003911247109571928), (290, 0.0039106551608413895), (73, 0.003909066232096289), (528, 0.0039036999749817026), (3542, 0.0039017194065667604), (2620, 0.003894187339845358), (1096, 0.0038925512563483433), (98, 0.00388680437065972), (3807, 0.003886231681600187), (3304, 0.003885720012745942), (2639, 0.003884656752339324), (461, 0.0038840651269088345), (1454, 0.0038744783845742173), (3702, 0.003865438521699109), (3472, 0.0038640771048968374), (3463, 0.0038514347429779404), (2025, 0.0038509891199594143), (3864, 0.0038421825450765733), (385, 0.0038358842643496124), (3194, 0.0038339473715915647), (378, 0.0038338814498071285), (486, 0.003833871767784625), (3631, 0.003833869598793918), (3834, 0.003831454705169476), (70, 0.003830938471163239), (188, 0.0038292283973648884), (3721, 0.0038265594568682284), (3690, 0.00382635616758646), (735, 0.0038213325859512456), (3730, 0.0038210105435049053), (3866, 0.003819523416009106), (145, 0.0038183754813870935), (1195, 0.0038129134506402007), (1928, 0.0038045311449108133), (872, 0.003804184557235876), (3385, 0.003803343136348979), (3496, 0.0038033071365711816), (520, 0.003802210088859617), (162, 0.003799808227932524), (2567, 0.003799231969546456), (3829, 0.0037970217197109885), (3522, 0.0037970004072709583), (1922, 0.0037915645989565782), (40, 0.003784135318170987), (3621, 0.0037826922308860918), (2810, 0.0037785992748897625), (3917, 0.0037779920735528387), (3898, 0.0037734795951557634), (3654, 0.0037712212477245435), (3837, 0.0037647938847365247), (2842, 0.003761885698570148), (1737, 0.0037603740976809665), (58, 0.003760303443792156), (1021, 0.003753028003290797), (1693, 0.003752170031758196), (1368, 0.003750851579741578), (3632, 0.0037493212423830324), (3684, 0.0037465134124718856), (3665, 0.0037460837324299764), (3297, 0.0037440418426593802), (3927, 0.003739054229110403), (3727, 0.0037221067424354016), (426, 0.003720460754735682), (161, 0.003720155361564643), (1046, 0.003719081177976204), (1135, 0.0037128417102277834), (618, 0.0037019156563779044), (3196, 0.0036990314774542014), (2860, 0.0036982950562952166), (3563, 0.0036953968554590444), (1073, 0.003694966825414354), (3902, 0.003691671252104848), (454, 0.0036912261381444674), (2822, 0.003689989220146482), (2856, 0.003678717363757023), (222, 0.0036723827229703508), (996, 0.0036705064854874923), (1343, 0.0036694142203217367), (557, 0.0036637650986336796), (137, 0.00365335896458327), (2680, 0.0036496347419374357), (3518, 0.003639640807462183), (3609, 0.0036304426746367703), (1527, 0.003629748840157937), (539, 0.003619917968612745), (107, 0.003584265271705256), (2541, 0.00356304731528635), (787, 0.003554308702539997), (169, 0.0035378269187325735), (3855, 0.00352914013585925), (2582, 0.0034726818443229003), (3356, 0.003449260011883473), (202, 0.003435778172528979), (3731, 0.0034118566352970094), (1448, 0.0033926633133753536), (3452, 0.0033916917235202486), (365, 0.0033888933250342474), (3540, 0.003387652064166581), (2820, 0.0033653030151269774), (108, 0.003341081111613183), (2427, 0.003338946417626891), (3853, 0.0033139483967024263), (120, 0.0032757828135298395), (122, 0.003116200244285462), (3532, 0.003048745201059275), (896, 0.0028657180489251406), (465, 0.002116754661937451), (0, 0.0), (1, 0.0), (5, 0.0), (6, 0.0), (8, 0.0), (11, 0.0), (13, 0.0), (15, 0.0), (16, 0.0), (19, 0.0), (20, 0.0), (21, 0.0), (22, 0.0), (23, 0.0), (24, 0.0), (25, 0.0), (27, 0.0), (29, 0.0), (30, 0.0), (31, 0.0), (32, 0.0), (36, 0.0), (42, 0.0), (47, 0.0), (55, 0.0), (57, 0.0), (60, 0.0), (63, 0.0), (72, 0.0), (76, 0.0), (78, 0.0), (89, 0.0), (90, 0.0), (93, 0.0), (94, 0.0), (95, 0.0), (96, 0.0), (97, 0.0), (99, 0.0), (101, 0.0), (102, 0.0), (109, 0.0), (112, 0.0), (114, 0.0), (116, 0.0), (118, 0.0), (124, 0.0), (125, 0.0), (126, 0.0), (127, 0.0), (129, 0.0), (132, 0.0), (133, 0.0), (140, 0.0), (144, 0.0), (148, 0.0), (149, 0.0), (150, 0.0), (152, 0.0), (153, 0.0), (155, 0.0), (164, 0.0), (165, 0.0), (166, 0.0), (172, 0.0), (173, 0.0), (175, 0.0), (176, 0.0), (178, 0.0), (180, 0.0), (181, 0.0), (182, 0.0), (185, 0.0), (187, 0.0), (191, 0.0), (193, 0.0), (198, 0.0), (204, 0.0), (205, 0.0), (209, 0.0), (213, 0.0), (217, 0.0), (219, 0.0), (220, 0.0), (221, 0.0), (223, 0.0), (224, 0.0), (225, 0.0), (232, 0.0), (233, 0.0), (234, 0.0), (235, 0.0), (238, 0.0), (240, 0.0), (242, 0.0), (243, 0.0), (244, 0.0), (257, 0.0), (259, 0.0), (266, 0.0), (269, 0.0), (275, 0.0), (276, 0.0), (280, 0.0), (283, 0.0), (286, 0.0), (287, 0.0), (296, 0.0), (298, 0.0), (299, 0.0), (302, 0.0), (306, 0.0), (311, 0.0), (315, 0.0), (320, 0.0), (321, 0.0), (322, 0.0), (327, 0.0), (329, 0.0), (330, 0.0), (331, 0.0), (332, 0.0), (333, 0.0), (335, 0.0), (337, 0.0), (340, 0.0), (341, 0.0), (348, 0.0), (351, 0.0), (353, 0.0), (359, 0.0), (360, 0.0), (361, 0.0), (362, 0.0), (364, 0.0), (367, 0.0), (370, 0.0), (374, 0.0), (383, 0.0), (388, 0.0), (389, 0.0), (395, 0.0), (400, 0.0), (403, 0.0), (407, 0.0), (408, 0.0), (409, 0.0), (411, 0.0), (419, 0.0), (420, 0.0), (421, 0.0), (423, 0.0), (424, 0.0), (427, 0.0), (428, 0.0), (429, 0.0), (430, 0.0), (431, 0.0), (441, 0.0), (442, 0.0), (446, 0.0), (447, 0.0), (448, 0.0), (452, 0.0), (458, 0.0), (459, 0.0), (464, 0.0), (467, 0.0), (468, 0.0), (469, 0.0), (474, 0.0), (476, 0.0), (479, 0.0), (481, 0.0), (487, 0.0), (492, 0.0), (493, 0.0), (503, 0.0), (505, 0.0), (507, 0.0), (512, 0.0), (514, 0.0), (515, 0.0), (517, 0.0), (518, 0.0), (527, 0.0), (530, 0.0), (534, 0.0), (535, 0.0), (541, 0.0), (542, 0.0), (546, 0.0), (550, 0.0), (551, 0.0), (553, 0.0), (554, 0.0), (560, 0.0), (562, 0.0), (564, 0.0), (565, 0.0), (566, 0.0), (567, 0.0), (569, 0.0), (570, 0.0), (574, 0.0), (575, 0.0), (579, 0.0), (580, 0.0), (582, 0.0), (584, 0.0), (585, 0.0), (586, 0.0), (587, 0.0), (590, 0.0), (591, 0.0), (594, 0.0), (596, 0.0), (598, 0.0), (599, 0.0), (600, 0.0), (602, 0.0), (606, 0.0), (607, 0.0), (608, 0.0), (609, 0.0), (611, 0.0), (612, 0.0), (613, 0.0), (615, 0.0), (617, 0.0), (620, 0.0), (621, 0.0), (628, 0.0), (629, 0.0), (633, 0.0), (634, 0.0), (641, 0.0), (643, 0.0), (659, 0.0), (661, 0.0), (662, 0.0), (667, 0.0), (670, 0.0), (671, 0.0), (675, 0.0), (676, 0.0), (678, 0.0), (679, 0.0), (681, 0.0), (683, 0.0), (688, 0.0), (689, 0.0), (690, 0.0), (692, 0.0), (693, 0.0), (694, 0.0), (696, 0.0), (697, 0.0), (698, 0.0), (702, 0.0), (703, 0.0), (705, 0.0), (709, 0.0), (711, 0.0), (713, 0.0), (716, 0.0), (734, 0.0), (736, 0.0), (737, 0.0), (740, 0.0), (741, 0.0), (744, 0.0), (745, 0.0), (746, 0.0), (747, 0.0), (749, 0.0), (750, 0.0), (756, 0.0), (763, 0.0), (765, 0.0), (767, 0.0), (770, 0.0), (771, 0.0), (772, 0.0), (773, 0.0), (774, 0.0), (780, 0.0), (782, 0.0), (783, 0.0), (786, 0.0), (789, 0.0), (796, 0.0), (800, 0.0), (801, 0.0), (802, 0.0), (805, 0.0), (807, 0.0), (808, 0.0), (814, 0.0), (815, 0.0), (818, 0.0), (819, 0.0), (820, 0.0), (822, 0.0), (823, 0.0), (825, 0.0), (826, 0.0), (827, 0.0), (830, 0.0), (831, 0.0), (840, 0.0), (842, 0.0), (845, 0.0), (848, 0.0), (854, 0.0), (860, 0.0), (861, 0.0), (863, 0.0), (865, 0.0), (870, 0.0), (871, 0.0), (873, 0.0), (877, 0.0), (880, 0.0), (882, 0.0), (883, 0.0), (895, 0.0), (901, 0.0), (902, 0.0), (908, 0.0), (909, 0.0), (913, 0.0), (914, 0.0), (915, 0.0), (918, 0.0), (919, 0.0), (920, 0.0), (922, 0.0), (923, 0.0), (930, 0.0), (943, 0.0), (945, 0.0), (947, 0.0), (950, 0.0), (953, 0.0), (954, 0.0), (963, 0.0), (965, 0.0), (966, 0.0), (969, 0.0), (970, 0.0), (975, 0.0), (979, 0.0), (980, 0.0), (981, 0.0), (983, 0.0), (987, 0.0), (990, 0.0), (991, 0.0), (993, 0.0), (994, 0.0), (998, 0.0), (999, 0.0), (1000, 0.0), (1001, 0.0), (1006, 0.0), (1008, 0.0), (1009, 0.0), (1010, 0.0), (1013, 0.0), (1015, 0.0), (1016, 0.0), (1018, 0.0), (1019, 0.0), (1020, 0.0), (1025, 0.0), (1028, 0.0), (1029, 0.0), (1032, 0.0), (1037, 0.0), (1041, 0.0), (1044, 0.0), (1045, 0.0), (1048, 0.0), (1052, 0.0), (1053, 0.0), (1054, 0.0), (1055, 0.0), (1056, 0.0), (1058, 0.0), (1060, 0.0), (1061, 0.0), (1062, 0.0), (1063, 0.0), (1068, 0.0), (1071, 0.0), (1072, 0.0), (1076, 0.0), (1079, 0.0), (1088, 0.0), (1089, 0.0), (1090, 0.0), (1094, 0.0), (1095, 0.0), (1097, 0.0), (1098, 0.0), (1100, 0.0), (1102, 0.0), (1113, 0.0), (1116, 0.0), (1117, 0.0), (1118, 0.0), (1120, 0.0), (1122, 0.0), (1124, 0.0), (1128, 0.0), (1129, 0.0), (1130, 0.0), (1133, 0.0), (1138, 0.0), (1141, 0.0), (1143, 0.0), (1149, 0.0), (1150, 0.0), (1151, 0.0), (1154, 0.0), (1155, 0.0), (1158, 0.0), (1160, 0.0), (1164, 0.0), (1165, 0.0), (1166, 0.0), (1171, 0.0), (1172, 0.0), (1173, 0.0), (1175, 0.0), (1176, 0.0), (1177, 0.0), (1179, 0.0), (1183, 0.0), (1189, 0.0), (1190, 0.0), (1191, 0.0), (1193, 0.0), (1194, 0.0), (1196, 0.0), (1197, 0.0), (1199, 0.0), (1201, 0.0), (1202, 0.0), (1203, 0.0), (1204, 0.0), (1210, 0.0), (1212, 0.0), (1214, 0.0), (1216, 0.0), (1218, 0.0), (1220, 0.0), (1228, 0.0), (1231, 0.0), (1232, 0.0), (1236, 0.0), (1237, 0.0), (1239, 0.0), (1242, 0.0), (1245, 0.0), (1254, 0.0), (1264, 0.0), (1271, 0.0), (1280, 0.0), (1284, 0.0), (1288, 0.0), (1290, 0.0), (1292, 0.0), (1294, 0.0), (1296, 0.0), (1298, 0.0), (1300, 0.0), (1302, 0.0), (1304, 0.0), (1307, 0.0), (1313, 0.0), (1316, 0.0), (1317, 0.0), (1318, 0.0), (1323, 0.0), (1329, 0.0), (1330, 0.0), (1334, 0.0), (1336, 0.0), (1337, 0.0), (1338, 0.0), (1339, 0.0), (1340, 0.0), (1346, 0.0), (1359, 0.0), (1361, 0.0), (1362, 0.0), (1364, 0.0), (1367, 0.0), (1371, 0.0), (1373, 0.0), (1383, 0.0), (1384, 0.0), (1388, 0.0), (1389, 0.0), (1390, 0.0), (1393, 0.0), (1395, 0.0), (1396, 0.0), (1397, 0.0), (1407, 0.0), (1411, 0.0), (1414, 0.0), (1415, 0.0), (1416, 0.0), (1418, 0.0), (1421, 0.0), (1422, 0.0), (1423, 0.0), (1434, 0.0), (1444, 0.0), (1445, 0.0), (1447, 0.0), (1455, 0.0), (1457, 0.0), (1460, 0.0), (1461, 0.0), (1462, 0.0), (1464, 0.0), (1465, 0.0), (1470, 0.0), (1479, 0.0), (1489, 0.0), (1492, 0.0), (1494, 0.0), (1495, 0.0), (1499, 0.0), (1503, 0.0), (1504, 0.0), (1511, 0.0), (1513, 0.0), (1514, 0.0), (1515, 0.0), (1516, 0.0), (1517, 0.0), (1520, 0.0), (1522, 0.0), (1523, 0.0), (1524, 0.0), (1526, 0.0), (1533, 0.0), (1542, 0.0), (1544, 0.0), (1546, 0.0), (1550, 0.0), (1551, 0.0), (1554, 0.0), (1555, 0.0), (1557, 0.0), (1558, 0.0), (1559, 0.0), (1560, 0.0), (1562, 0.0), (1567, 0.0), (1568, 0.0), (1571, 0.0), (1572, 0.0), (1573, 0.0), (1574, 0.0), (1579, 0.0), (1581, 0.0), (1582, 0.0), (1583, 0.0), (1586, 0.0), (1587, 0.0), (1588, 0.0), (1589, 0.0), (1590, 0.0), (1591, 0.0), (1592, 0.0), (1594, 0.0), (1595, 0.0), (1598, 0.0), (1601, 0.0), (1612, 0.0), (1615, 0.0), (1618, 0.0), (1621, 0.0), (1622, 0.0), (1623, 0.0), (1627, 0.0), (1628, 0.0), (1630, 0.0), (1631, 0.0), (1632, 0.0), (1634, 0.0), (1635, 0.0), (1636, 0.0), (1637, 0.0), (1640, 0.0), (1641, 0.0), (1644, 0.0), (1648, 0.0), (1652, 0.0), (1657, 0.0), (1658, 0.0), (1659, 0.0), (1661, 0.0), (1662, 0.0), (1663, 0.0), (1664, 0.0), (1666, 0.0), (1670, 0.0), (1671, 0.0), (1672, 0.0), (1673, 0.0), (1674, 0.0), (1675, 0.0), (1678, 0.0), (1681, 0.0), (1682, 0.0), (1684, 0.0), (1690, 0.0), (1691, 0.0), (1694, 0.0), (1695, 0.0), (1700, 0.0), (1703, 0.0), (1705, 0.0), (1708, 0.0), (1709, 0.0), (1710, 0.0), (1711, 0.0), (1716, 0.0), (1718, 0.0), (1720, 0.0), (1722, 0.0), (1724, 0.0), (1727, 0.0), (1732, 0.0), (1733, 0.0), (1734, 0.0), (1735, 0.0), (1738, 0.0), (1740, 0.0), (1742, 0.0), (1745, 0.0), (1751, 0.0), (1752, 0.0), (1754, 0.0), (1755, 0.0), (1756, 0.0), (1760, 0.0), (1761, 0.0), (1762, 0.0), (1763, 0.0), (1764, 0.0), (1765, 0.0), (1768, 0.0), (1772, 0.0), (1773, 0.0), (1778, 0.0), (1779, 0.0), (1780, 0.0), (1784, 0.0), (1785, 0.0), (1788, 0.0), (1790, 0.0), (1791, 0.0), (1796, 0.0), (1801, 0.0), (1810, 0.0), (1812, 0.0), (1816, 0.0), (1817, 0.0), (1819, 0.0), (1820, 0.0), (1821, 0.0), (1822, 0.0), (1823, 0.0), (1829, 0.0), (1830, 0.0), (1837, 0.0), (1838, 0.0), (1840, 0.0), (1841, 0.0), (1842, 0.0), (1843, 0.0), (1846, 0.0), (1850, 0.0), (1851, 0.0), (1853, 0.0), (1856, 0.0), (1858, 0.0), (1859, 0.0), (1861, 0.0), (1863, 0.0), (1867, 0.0), (1871, 0.0), (1874, 0.0), (1875, 0.0), (1876, 0.0), (1877, 0.0), (1879, 0.0), (1880, 0.0), (1886, 0.0), (1887, 0.0), (1889, 0.0), (1890, 0.0), (1891, 0.0), (1893, 0.0), (1896, 0.0), (1897, 0.0), (1898, 0.0), (1901, 0.0), (1905, 0.0), (1907, 0.0), (1908, 0.0), (1910, 0.0), (1916, 0.0), (1917, 0.0), (1918, 0.0), (1924, 0.0), (1925, 0.0), (1927, 0.0), (1930, 0.0), (1937, 0.0), (1938, 0.0), (1939, 0.0), (1940, 0.0), (1941, 0.0), (1945, 0.0), (1946, 0.0), (1947, 0.0), (1948, 0.0), (1951, 0.0), (1955, 0.0), (1956, 0.0), (1961, 0.0), (1962, 0.0), (1964, 0.0), (1966, 0.0), (1968, 0.0), (1969, 0.0), (1970, 0.0), (1971, 0.0), (1973, 0.0), (1979, 0.0), (1980, 0.0), (1983, 0.0), (1984, 0.0), (1985, 0.0), (1988, 0.0), (1990, 0.0), (1991, 0.0), (1992, 0.0), (1994, 0.0), (1995, 0.0), (1996, 0.0), (1997, 0.0), (1998, 0.0), (2000, 0.0), (2001, 0.0), (2005, 0.0), (2014, 0.0), (2017, 0.0), (2021, 0.0), (2024, 0.0), (2028, 0.0), (2035, 0.0), (2037, 0.0), (2042, 0.0), (2045, 0.0), (2051, 0.0), (2053, 0.0), (2060, 0.0), (2062, 0.0), (2066, 0.0), (2068, 0.0), (2069, 0.0), (2075, 0.0), (2080, 0.0), (2083, 0.0), (2084, 0.0), (2087, 0.0), (2088, 0.0), (2089, 0.0), (2090, 0.0), (2091, 0.0), (2094, 0.0), (2096, 0.0), (2098, 0.0), (2101, 0.0), (2102, 0.0), (2104, 0.0), (2108, 0.0), (2109, 0.0), (2113, 0.0), (2114, 0.0), (2115, 0.0), (2116, 0.0), (2118, 0.0), (2122, 0.0), (2124, 0.0), (2125, 0.0), (2126, 0.0), (2133, 0.0), (2134, 0.0), (2136, 0.0), (2138, 0.0), (2142, 0.0), (2144, 0.0), (2145, 0.0), (2147, 0.0), (2149, 0.0), (2151, 0.0), (2154, 0.0), (2164, 0.0), (2165, 0.0), (2166, 0.0), (2168, 0.0), (2169, 0.0), (2173, 0.0), (2175, 0.0), (2179, 0.0), (2181, 0.0), (2182, 0.0), (2186, 0.0), (2187, 0.0), (2188, 0.0), (2189, 0.0), (2190, 0.0), (2192, 0.0), (2198, 0.0), (2200, 0.0), (2201, 0.0), (2202, 0.0), (2204, 0.0), (2205, 0.0), (2206, 0.0), (2210, 0.0), (2213, 0.0), (2214, 0.0), (2216, 0.0), (2219, 0.0), (2220, 0.0), (2224, 0.0), (2225, 0.0), (2231, 0.0), (2234, 0.0), (2237, 0.0), (2240, 0.0), (2241, 0.0), (2244, 0.0), (2245, 0.0), (2250, 0.0), (2255, 0.0), (2260, 0.0), (2262, 0.0), (2263, 0.0), (2266, 0.0), (2267, 0.0), (2270, 0.0), (2273, 0.0), (2274, 0.0), (2276, 0.0), (2278, 0.0), (2279, 0.0), (2285, 0.0), (2287, 0.0), (2289, 0.0), (2290, 0.0), (2293, 0.0), (2299, 0.0), (2301, 0.0), (2303, 0.0), (2307, 0.0), (2308, 0.0), (2309, 0.0), (2311, 0.0), (2314, 0.0), (2316, 0.0), (2318, 0.0), (2326, 0.0), (2328, 0.0), (2329, 0.0), (2331, 0.0), (2341, 0.0), (2343, 0.0), (2344, 0.0), (2345, 0.0), (2346, 0.0), (2347, 0.0), (2351, 0.0), (2353, 0.0), (2355, 0.0), (2357, 0.0), (2358, 0.0), (2360, 0.0), (2365, 0.0), (2367, 0.0), (2368, 0.0), (2371, 0.0), (2374, 0.0), (2375, 0.0), (2377, 0.0), (2382, 0.0), (2388, 0.0), (2395, 0.0), (2396, 0.0), (2402, 0.0), (2404, 0.0), (2405, 0.0), (2411, 0.0), (2412, 0.0), (2413, 0.0), (2420, 0.0), (2423, 0.0), (2425, 0.0), (2429, 0.0), (2430, 0.0), (2431, 0.0), (2437, 0.0), (2438, 0.0), (2441, 0.0), (2442, 0.0), (2445, 0.0), (2448, 0.0), (2449, 0.0), (2451, 0.0), (2455, 0.0), (2458, 0.0), (2460, 0.0), (2463, 0.0), (2464, 0.0), (2465, 0.0), (2470, 0.0), (2472, 0.0), (2473, 0.0), (2477, 0.0), (2478, 0.0), (2479, 0.0), (2482, 0.0), (2484, 0.0), (2496, 0.0), (2497, 0.0), (2499, 0.0), (2501, 0.0), (2509, 0.0), (2510, 0.0), (2513, 0.0), (2514, 0.0), (2520, 0.0), (2521, 0.0), (2524, 0.0), (2527, 0.0), (2531, 0.0), (2534, 0.0), (2537, 0.0), (2539, 0.0), (2544, 0.0), (2546, 0.0), (2548, 0.0), (2549, 0.0), (2550, 0.0), (2553, 0.0), (2554, 0.0), (2573, 0.0), (2575, 0.0), (2578, 0.0), (2579, 0.0), (2583, 0.0), (2584, 0.0), (2593, 0.0), (2598, 0.0), (2600, 0.0), (2601, 0.0), (2606, 0.0), (2608, 0.0), (2613, 0.0), (2616, 0.0), (2619, 0.0), (2632, 0.0), (2633, 0.0), (2634, 0.0), (2635, 0.0), (2638, 0.0), (2645, 0.0), (2646, 0.0), (2649, 0.0), (2651, 0.0), (2657, 0.0), (2658, 0.0), (2660, 0.0), (2661, 0.0), (2665, 0.0), (2666, 0.0), (2667, 0.0), (2670, 0.0), (2671, 0.0), (2673, 0.0), (2676, 0.0), (2685, 0.0), (2686, 0.0), (2688, 0.0), (2694, 0.0), (2699, 0.0), (2702, 0.0), (2704, 0.0), (2705, 0.0), (2706, 0.0), (2708, 0.0), (2709, 0.0), (2713, 0.0), (2720, 0.0), (2725, 0.0), (2727, 0.0), (2730, 0.0), (2737, 0.0), (2740, 0.0), (2748, 0.0), (2759, 0.0), (2764, 0.0), (2765, 0.0), (2766, 0.0), (2767, 0.0), (2775, 0.0), (2778, 0.0), (2784, 0.0), (2791, 0.0), (2793, 0.0), (2795, 0.0), (2797, 0.0), (2799, 0.0), (2808, 0.0), (2812, 0.0), (2815, 0.0), (2816, 0.0), (2817, 0.0), (2818, 0.0), (2821, 0.0), (2823, 0.0), (2824, 0.0), (2825, 0.0), (2832, 0.0), (2833, 0.0), (2834, 0.0), (2835, 0.0), (2836, 0.0), (2841, 0.0), (2844, 0.0), (2845, 0.0), (2848, 0.0), (2849, 0.0), (2853, 0.0), (2855, 0.0), (2857, 0.0), (2858, 0.0), (2861, 0.0), (2865, 0.0), (2870, 0.0), (2871, 0.0), (2872, 0.0), (2873, 0.0), (2874, 0.0), (2875, 0.0), (2876, 0.0), (2877, 0.0), (2878, 0.0), (2880, 0.0), (2881, 0.0), (2884, 0.0), (2885, 0.0), (2886, 0.0), (2888, 0.0), (2890, 0.0), (2891, 0.0), (2892, 0.0), (2893, 0.0), (2894, 0.0), (2896, 0.0), (2897, 0.0), (2898, 0.0), (2899, 0.0), (2901, 0.0), (2902, 0.0), (2903, 0.0), (2904, 0.0), (2905, 0.0), (2907, 0.0), (2910, 0.0), (2912, 0.0), (2914, 0.0), (2915, 0.0), (2917, 0.0), (2918, 0.0), (2919, 0.0), (2920, 0.0), (2921, 0.0), (2922, 0.0), (2924, 0.0), (2925, 0.0), (2930, 0.0), (2931, 0.0), (2932, 0.0), (2933, 0.0), (2934, 0.0), (2936, 0.0), (2940, 0.0), (2941, 0.0), (2942, 0.0), (2944, 0.0), (2945, 0.0), (2946, 0.0), (2947, 0.0), (2948, 0.0), (2949, 0.0), (2950, 0.0), (2951, 0.0), (2954, 0.0), (2955, 0.0), (2957, 0.0), (2958, 0.0), (2959, 0.0), (2960, 0.0), (2961, 0.0), (2962, 0.0), (2963, 0.0), (2965, 0.0), (2966, 0.0), (2970, 0.0), (2972, 0.0), (2973, 0.0), (2974, 0.0), (2977, 0.0), (2978, 0.0), (2979, 0.0), (2981, 0.0), (2985, 0.0), (2987, 0.0), (2988, 0.0), (2989, 0.0), (2991, 0.0), (2992, 0.0), (2993, 0.0), (2994, 0.0), (2995, 0.0), (2996, 0.0), (2999, 0.0), (3001, 0.0), (3002, 0.0), (3003, 0.0), (3004, 0.0), (3005, 0.0), (3009, 0.0), (3011, 0.0), (3013, 0.0), (3016, 0.0), (3019, 0.0), (3020, 0.0), (3021, 0.0), (3022, 0.0), (3023, 0.0), (3024, 0.0), (3025, 0.0), (3026, 0.0), (3027, 0.0), (3028, 0.0), (3029, 0.0), (3030, 0.0), (3032, 0.0), (3033, 0.0), (3034, 0.0), (3035, 0.0), (3036, 0.0), (3039, 0.0), (3041, 0.0), (3042, 0.0), (3044, 0.0), (3046, 0.0), (3050, 0.0), (3052, 0.0), (3054, 0.0), (3055, 0.0), (3056, 0.0), (3059, 0.0), (3060, 0.0), (3061, 0.0), (3062, 0.0), (3064, 0.0), (3067, 0.0), (3068, 0.0), (3069, 0.0), (3071, 0.0), (3073, 0.0), (3076, 0.0), (3077, 0.0), (3078, 0.0), (3079, 0.0), (3081, 0.0), (3083, 0.0), (3084, 0.0), (3085, 0.0), (3086, 0.0), (3087, 0.0), (3088, 0.0), (3093, 0.0), (3095, 0.0), (3096, 0.0), (3097, 0.0), (3101, 0.0), (3102, 0.0), (3103, 0.0), (3104, 0.0), (3105, 0.0), (3106, 0.0), (3107, 0.0), (3108, 0.0), (3109, 0.0), (3110, 0.0), (3111, 0.0), (3113, 0.0), (3114, 0.0), (3115, 0.0), (3116, 0.0), (3120, 0.0), (3123, 0.0), (3125, 0.0), (3126, 0.0), (3128, 0.0), (3129, 0.0), (3130, 0.0), (3135, 0.0), (3136, 0.0), (3137, 0.0), (3139, 0.0), (3140, 0.0), (3141, 0.0), (3144, 0.0), (3146, 0.0), (3147, 0.0), (3150, 0.0), (3151, 0.0), (3153, 0.0), (3157, 0.0), (3158, 0.0), (3159, 0.0), (3160, 0.0), (3162, 0.0), (3163, 0.0), (3164, 0.0), (3166, 0.0), (3173, 0.0), (3174, 0.0), (3176, 0.0), (3177, 0.0), (3180, 0.0), (3183, 0.0), (3185, 0.0), (3186, 0.0), (3187, 0.0), (3188, 0.0), (3189, 0.0), (3190, 0.0), (3193, 0.0), (3195, 0.0), (3198, 0.0), (3199, 0.0), (3201, 0.0), (3202, 0.0), (3203, 0.0), (3204, 0.0), (3206, 0.0), (3207, 0.0), (3208, 0.0), (3209, 0.0), (3211, 0.0), (3213, 0.0), (3215, 0.0), (3217, 0.0), (3219, 0.0), (3221, 0.0), (3222, 0.0), (3224, 0.0), (3228, 0.0), (3229, 0.0), (3230, 0.0), (3231, 0.0), (3232, 0.0), (3237, 0.0), (3239, 0.0), (3243, 0.0), (3245, 0.0), (3247, 0.0), (3248, 0.0), (3249, 0.0), (3250, 0.0), (3251, 0.0), (3252, 0.0), (3253, 0.0), (3255, 0.0), (3257, 0.0), (3258, 0.0), (3259, 0.0), (3263, 0.0), (3265, 0.0), (3271, 0.0), (3275, 0.0), (3276, 0.0), (3283, 0.0), (3284, 0.0), (3287, 0.0), (3290, 0.0), (3292, 0.0), (3294, 0.0), (3296, 0.0), (3298, 0.0), (3299, 0.0), (3300, 0.0), (3302, 0.0), (3303, 0.0), (3305, 0.0), (3307, 0.0), (3308, 0.0), (3309, 0.0), (3311, 0.0), (3313, 0.0), (3316, 0.0), (3318, 0.0), (3320, 0.0), (3321, 0.0), (3322, 0.0), (3323, 0.0), (3324, 0.0), (3325, 0.0), (3329, 0.0), (3330, 0.0), (3331, 0.0), (3333, 0.0), (3334, 0.0), (3336, 0.0), (3338, 0.0), (3339, 0.0), (3341, 0.0), (3342, 0.0), (3344, 0.0), (3346, 0.0), (3348, 0.0), (3349, 0.0), (3350, 0.0), (3351, 0.0), (3352, 0.0), (3354, 0.0), (3355, 0.0), (3359, 0.0), (3361, 0.0), (3362, 0.0), (3363, 0.0), (3364, 0.0), (3365, 0.0), (3367, 0.0), (3369, 0.0), (3370, 0.0), (3373, 0.0), (3375, 0.0), (3378, 0.0), (3381, 0.0), (3382, 0.0), (3387, 0.0), (3389, 0.0), (3391, 0.0), (3401, 0.0), (3404, 0.0), (3408, 0.0), (3416, 0.0), (3418, 0.0), (3421, 0.0), (3423, 0.0), (3429, 0.0), (3430, 0.0), (3433, 0.0), (3434, 0.0), (3435, 0.0), (3436, 0.0), (3438, 0.0), (3439, 0.0), (3441, 0.0), (3442, 0.0), (3446, 0.0), (3447, 0.0), (3450, 0.0), (3453, 0.0), (3454, 0.0), (3455, 0.0), (3456, 0.0), (3457, 0.0), (3460, 0.0), (3461, 0.0), (3464, 0.0), (3465, 0.0), (3467, 0.0), (3468, 0.0), (3471, 0.0), (3473, 0.0), (3475, 0.0), (3478, 0.0), (3479, 0.0), (3480, 0.0), (3481, 0.0), (3483, 0.0), (3486, 0.0), (3487, 0.0), (3488, 0.0), (3497, 0.0), (3498, 0.0), (3500, 0.0), (3504, 0.0), (3507, 0.0), (3510, 0.0), (3523, 0.0), (3528, 0.0), (3530, 0.0), (3533, 0.0), (3534, 0.0), (3535, 0.0), (3536, 0.0), (3543, 0.0), (3546, 0.0), (3548, 0.0), (3552, 0.0), (3553, 0.0), (3554, 0.0), (3555, 0.0), (3556, 0.0), (3557, 0.0), (3558, 0.0), (3559, 0.0), (3560, 0.0), (3561, 0.0), (3564, 0.0), (3567, 0.0), (3570, 0.0), (3574, 0.0), (3575, 0.0), (3576, 0.0), (3577, 0.0), (3578, 0.0), (3579, 0.0), (3580, 0.0), (3585, 0.0), (3586, 0.0), (3590, 0.0), (3591, 0.0), (3593, 0.0), (3597, 0.0), (3599, 0.0), (3600, 0.0), (3601, 0.0), (3603, 0.0), (3604, 0.0), (3606, 0.0), (3607, 0.0), (3612, 0.0), (3614, 0.0), (3617, 0.0), (3620, 0.0), (3622, 0.0), (3625, 0.0), (3626, 0.0), (3629, 0.0), (3630, 0.0), (3633, 0.0), (3638, 0.0), (3639, 0.0), (3643, 0.0), (3648, 0.0), (3652, 0.0), (3655, 0.0), (3657, 0.0), (3661, 0.0), (3664, 0.0), (3667, 0.0), (3668, 0.0), (3669, 0.0), (3670, 0.0), (3671, 0.0), (3672, 0.0), (3674, 0.0), (3675, 0.0), (3679, 0.0), (3680, 0.0), (3685, 0.0), (3689, 0.0), (3691, 0.0), (3692, 0.0), (3693, 0.0), (3695, 0.0), (3697, 0.0), (3698, 0.0), (3699, 0.0), (3700, 0.0), (3705, 0.0), (3708, 0.0), (3710, 0.0), (3711, 0.0), (3712, 0.0), (3714, 0.0), (3716, 0.0), (3720, 0.0), (3724, 0.0), (3725, 0.0), (3728, 0.0), (3733, 0.0), (3736, 0.0), (3737, 0.0), (3738, 0.0), (3739, 0.0), (3740, 0.0), (3743, 0.0), (3744, 0.0), (3745, 0.0), (3748, 0.0), (3750, 0.0), (3751, 0.0), (3752, 0.0), (3754, 0.0), (3756, 0.0), (3759, 0.0), (3760, 0.0), (3764, 0.0), (3765, 0.0), (3767, 0.0), (3768, 0.0), (3771, 0.0), (3773, 0.0), (3774, 0.0), (3775, 0.0), (3778, 0.0), (3780, 0.0), (3782, 0.0), (3784, 0.0), (3785, 0.0), (3788, 0.0), (3792, 0.0), (3793, 0.0), (3795, 0.0), (3801, 0.0), (3802, 0.0), (3803, 0.0), (3804, 0.0), (3805, 0.0), (3808, 0.0), (3810, 0.0), (3811, 0.0), (3813, 0.0), (3816, 0.0), (3821, 0.0), (3822, 0.0), (3824, 0.0), (3826, 0.0), (3828, 0.0), (3832, 0.0), (3833, 0.0), (3836, 0.0), (3838, 0.0), (3839, 0.0), (3841, 0.0), (3847, 0.0), (3849, 0.0), (3851, 0.0), (3852, 0.0), (3857, 0.0), (3860, 0.0), (3868, 0.0), (3870, 0.0), (3871, 0.0), (3872, 0.0), (3873, 0.0), (3874, 0.0), (3875, 0.0), (3878, 0.0), (3885, 0.0), (3886, 0.0), (3888, 0.0), (3889, 0.0), (3895, 0.0), (3899, 0.0), (3903, 0.0), (3907, 0.0), (3909, 0.0), (3915, 0.0), (3918, 0.0), (3922, 0.0), (3925, 0.0), (3929, 0.0), (3931, 0.0), (3933, 0.0), (3934, 0.0), (3935, 0.0), (3936, 0.0), (3938, 0.0), (3939, 0.0)]\n"
          ]
        }
      ]
    },
    {
      "cell_type": "code",
      "source": [
        "# print the name of similar movies based on the index\n",
        "\n",
        "print('Movies suggested for you : \\n')\n",
        "\n",
        "i = 1\n",
        "\n",
        "for movie in sorted_similar_movies:\n",
        "  index = movie[0]\n",
        "  title_from_index = movies_data[movies_data.index==index]['Title'].values[0]\n",
        "  if (i<30):\n",
        "    print(i, '.',title_from_index)\n",
        "    i+=1"
      ],
      "metadata": {
        "id": "9A_sO4l_cI2d",
        "colab": {
          "base_uri": "https://localhost:8080/"
        },
        "outputId": "9eb59128-69f3-4197-b217-2e7e3f850688"
      },
      "execution_count": null,
      "outputs": [
        {
          "output_type": "stream",
          "name": "stdout",
          "text": [
            "Movies suggested for you : \n",
            "\n",
            "1 . Centre of My World\n",
            "2 . The Humanity Bureau\n",
            "3 . The 9th Life of Louis Drax\n",
            "4 . Meet the Robinsons\n",
            "5 . Little Boy\n",
            "6 . Clash of the Titans\n",
            "7 . My Teacher, My Obsession\n",
            "8 . The Secret Life of Pets\n",
            "9 . The Substance: Albert Hofmann's LSD\n",
            "10 . Soul Boys of the Western World\n",
            "11 . Transporter 2\n",
            "12 . Pirates of the Caribbean: At World's End\n",
            "13 . In This Corner of the World\n",
            "14 . The Dreamers\n",
            "15 . Master and Commander: The Far Side of the World\n",
            "16 . She's Out of My League\n",
            "17 . Unleashed\n",
            "18 . The Secret World of Arrietty\n",
            "19 . Google and the World Brain\n",
            "20 . Now You See Me\n",
            "21 . The Eyes of My Mother\n",
            "22 . Predestination\n",
            "23 . New World OrdeRx\n",
            "24 . Seeking a Friend for the End of the World\n",
            "25 . The Incredible Hulk\n",
            "26 . World Trade Center\n",
            "27 . Ghost World\n",
            "28 . The Brothers Grimsby\n",
            "29 . The Transporter\n"
          ]
        }
      ]
    },
    {
      "cell_type": "markdown",
      "source": [
        "MOVIE RECOMMENDATION SYSTEM"
      ],
      "metadata": {
        "id": "V_LUB1IHcSu6"
      }
    },
    {
      "cell_type": "code",
      "source": [
        "movie_name = input(' Enter your favourite movie name : ')\n",
        "\n",
        "list_of_all_titles = movies_data['Title'].tolist()\n",
        "\n",
        "find_close_match = difflib.get_close_matches(movie_name, list_of_all_titles)\n",
        "\n",
        "close_match = find_close_match[0]\n",
        "\n",
        "index_of_the_movie = movies_data[movies_data.Title == close_match]['Runtime'].values[0]\n",
        "\n",
        "similarity_score = list(enumerate(similarity[index_of_the_movie]))\n",
        "\n",
        "sorted_similar_movies = sorted(similarity_score, key = lambda x:x[1], reverse = True)\n",
        "\n",
        "print('Movies suggested for you : \\n')\n",
        "\n",
        "i = 1\n",
        "\n",
        "for movie in sorted_similar_movies:\n",
        "  index = movie[0]\n",
        "  title_from_index = movies_data[movies_data.index==index]['Title'].values[0]\n",
        "  if (i<30):\n",
        "    print(i, '.',title_from_index)\n",
        "    i+=1"
      ],
      "metadata": {
        "id": "IXBaoi-ccR8c",
        "colab": {
          "base_uri": "https://localhost:8080/"
        },
        "outputId": "74e9cba1-bb56-4a21-e538-2536b99c80cc"
      },
      "execution_count": null,
      "outputs": [
        {
          "output_type": "stream",
          "name": "stdout",
          "text": [
            " Enter your favourite movie name : lucky\n",
            "Movies suggested for you : \n",
            "\n",
            "1 . Of Mind and Music\n",
            "2 . Get on Up\n",
            "3 . Music and Lyrics\n",
            "4 . The von Trapp Family: A Life of Music\n",
            "5 . Love & Mercy\n",
            "6 . Dreamgirls\n",
            "7 . Contemporary Color\n",
            "8 . Thunder and the House of Magic\n",
            "9 . Final Destination 2\n",
            "10 . Score: A Film Music Documentary\n",
            "11 . Pirate Radio\n",
            "12 . Into the Mind\n",
            "13 . Eternal Sunshine of the Spotless Mind\n",
            "14 . Fist Fight\n",
            "15 . Filmage: The Story of Descendents/All\n",
            "16 . A Beautiful Mind\n",
            "17 . Rememory\n",
            "18 . Confessions of a Dangerous Mind\n",
            "19 . Anthropoid\n",
            "20 . Man of Steel\n",
            "21 . Nick and Norah's Infinite Playlist\n",
            "22 . Battle of the Year\n",
            "23 . I'll Follow You Down\n",
            "24 . All Things Must Pass: The Rise and Fall of Tower Records\n",
            "25 . Beauty and the Beast\n",
            "26 . Robin Williams: Come Inside My Mind\n",
            "27 . Frailty\n",
            "28 . Summer Holiday\n",
            "29 . Soul Boys of the Western World\n"
          ]
        }
      ]
    }
  ]
}